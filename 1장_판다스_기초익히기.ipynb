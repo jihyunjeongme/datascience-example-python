{
  "nbformat": 4,
  "nbformat_minor": 0,
  "metadata": {
    "colab": {
      "name": "1장 - 판다스 기초익히기.ipynb",
      "version": "0.3.2",
      "provenance": [],
      "collapsed_sections": [],
      "include_colab_link": true
    },
    "kernelspec": {
      "name": "python3",
      "display_name": "Python 3"
    },
    "accelerator": "GPU"
  },
  "cells": [
    {
      "cell_type": "markdown",
      "metadata": {
        "id": "view-in-github",
        "colab_type": "text"
      },
      "source": [
        "<a href=\"https://colab.research.google.com/github/jihyunjeongme/datascience-example-python/blob/master/1%EC%9E%A5_%ED%8C%90%EB%8B%A4%EC%8A%A4_%EA%B8%B0%EC%B4%88%EC%9D%B5%ED%9E%88%EA%B8%B0.ipynb\" target=\"_parent\"><img src=\"https://colab.research.google.com/assets/colab-badge.svg\" alt=\"Open In Colab\"/></a>"
      ]
    },
    {
      "cell_type": "code",
      "metadata": {
        "id": "doffU9q1rBcf",
        "colab_type": "code",
        "colab": {}
      },
      "source": [
        "import pandas as pd\n",
        "import numpy as np"
      ],
      "execution_count": 0,
      "outputs": []
    },
    {
      "cell_type": "code",
      "metadata": {
        "id": "XQlTQsQHrJdp",
        "colab_type": "code",
        "colab": {
          "base_uri": "https://localhost:8080/",
          "height": 136
        },
        "outputId": "570032f9-a8e3-4afa-96a8-e34fcba4b84f"
      },
      "source": [
        "s = pd.Series([1,3,5,np.nan,6,8])\n",
        "s"
      ],
      "execution_count": 6,
      "outputs": [
        {
          "output_type": "execute_result",
          "data": {
            "text/plain": [
              "0    1.0\n",
              "1    3.0\n",
              "2    5.0\n",
              "3    NaN\n",
              "4    6.0\n",
              "5    8.0\n",
              "dtype: float64"
            ]
          },
          "metadata": {
            "tags": []
          },
          "execution_count": 6
        }
      ]
    },
    {
      "cell_type": "code",
      "metadata": {
        "id": "LVuG85hDrSo1",
        "colab_type": "code",
        "colab": {
          "base_uri": "https://localhost:8080/",
          "height": 68
        },
        "outputId": "c66223fb-3bb9-4555-b97f-f45d78d144b6"
      },
      "source": [
        "dates = pd.date_range('20130101', periods=6)\n",
        "dates"
      ],
      "execution_count": 7,
      "outputs": [
        {
          "output_type": "execute_result",
          "data": {
            "text/plain": [
              "DatetimeIndex(['2013-01-01', '2013-01-02', '2013-01-03', '2013-01-04',\n",
              "               '2013-01-05', '2013-01-06'],\n",
              "              dtype='datetime64[ns]', freq='D')"
            ]
          },
          "metadata": {
            "tags": []
          },
          "execution_count": 7
        }
      ]
    },
    {
      "cell_type": "code",
      "metadata": {
        "id": "BMxhhV_arjTp",
        "colab_type": "code",
        "colab": {
          "base_uri": "https://localhost:8080/",
          "height": 235
        },
        "outputId": "7588a6f6-65af-40ab-ae12-6257f149bc95"
      },
      "source": [
        "df = pd.DataFrame(np.random.randn(6,4), index=dates, columns=['A','B','C','D'])\n",
        "\n",
        "df\n",
        "                                                             "
      ],
      "execution_count": 8,
      "outputs": [
        {
          "output_type": "execute_result",
          "data": {
            "text/html": [
              "<div>\n",
              "<style scoped>\n",
              "    .dataframe tbody tr th:only-of-type {\n",
              "        vertical-align: middle;\n",
              "    }\n",
              "\n",
              "    .dataframe tbody tr th {\n",
              "        vertical-align: top;\n",
              "    }\n",
              "\n",
              "    .dataframe thead th {\n",
              "        text-align: right;\n",
              "    }\n",
              "</style>\n",
              "<table border=\"1\" class=\"dataframe\">\n",
              "  <thead>\n",
              "    <tr style=\"text-align: right;\">\n",
              "      <th></th>\n",
              "      <th>A</th>\n",
              "      <th>B</th>\n",
              "      <th>C</th>\n",
              "      <th>D</th>\n",
              "    </tr>\n",
              "  </thead>\n",
              "  <tbody>\n",
              "    <tr>\n",
              "      <th>2013-01-01</th>\n",
              "      <td>0.623240</td>\n",
              "      <td>-0.823150</td>\n",
              "      <td>0.114721</td>\n",
              "      <td>0.138187</td>\n",
              "    </tr>\n",
              "    <tr>\n",
              "      <th>2013-01-02</th>\n",
              "      <td>0.396768</td>\n",
              "      <td>0.954685</td>\n",
              "      <td>-0.554590</td>\n",
              "      <td>0.130949</td>\n",
              "    </tr>\n",
              "    <tr>\n",
              "      <th>2013-01-03</th>\n",
              "      <td>-0.458382</td>\n",
              "      <td>-1.073632</td>\n",
              "      <td>0.142508</td>\n",
              "      <td>0.845754</td>\n",
              "    </tr>\n",
              "    <tr>\n",
              "      <th>2013-01-04</th>\n",
              "      <td>1.411706</td>\n",
              "      <td>-0.257259</td>\n",
              "      <td>0.236115</td>\n",
              "      <td>-0.834553</td>\n",
              "    </tr>\n",
              "    <tr>\n",
              "      <th>2013-01-05</th>\n",
              "      <td>-1.657140</td>\n",
              "      <td>-0.955774</td>\n",
              "      <td>0.526725</td>\n",
              "      <td>-0.327283</td>\n",
              "    </tr>\n",
              "    <tr>\n",
              "      <th>2013-01-06</th>\n",
              "      <td>0.589594</td>\n",
              "      <td>1.658637</td>\n",
              "      <td>0.712922</td>\n",
              "      <td>-1.008004</td>\n",
              "    </tr>\n",
              "  </tbody>\n",
              "</table>\n",
              "</div>"
            ],
            "text/plain": [
              "                   A         B         C         D\n",
              "2013-01-01  0.623240 -0.823150  0.114721  0.138187\n",
              "2013-01-02  0.396768  0.954685 -0.554590  0.130949\n",
              "2013-01-03 -0.458382 -1.073632  0.142508  0.845754\n",
              "2013-01-04  1.411706 -0.257259  0.236115 -0.834553\n",
              "2013-01-05 -1.657140 -0.955774  0.526725 -0.327283\n",
              "2013-01-06  0.589594  1.658637  0.712922 -1.008004"
            ]
          },
          "metadata": {
            "tags": []
          },
          "execution_count": 8
        }
      ]
    },
    {
      "cell_type": "code",
      "metadata": {
        "id": "zPlA5IEcK29l",
        "colab_type": "code",
        "colab": {
          "base_uri": "https://localhost:8080/",
          "height": 142
        },
        "outputId": "86cfed90-8c07-40c6-8258-b4a221e24da8"
      },
      "source": [
        "df.head(3)"
      ],
      "execution_count": 9,
      "outputs": [
        {
          "output_type": "execute_result",
          "data": {
            "text/html": [
              "<div>\n",
              "<style scoped>\n",
              "    .dataframe tbody tr th:only-of-type {\n",
              "        vertical-align: middle;\n",
              "    }\n",
              "\n",
              "    .dataframe tbody tr th {\n",
              "        vertical-align: top;\n",
              "    }\n",
              "\n",
              "    .dataframe thead th {\n",
              "        text-align: right;\n",
              "    }\n",
              "</style>\n",
              "<table border=\"1\" class=\"dataframe\">\n",
              "  <thead>\n",
              "    <tr style=\"text-align: right;\">\n",
              "      <th></th>\n",
              "      <th>A</th>\n",
              "      <th>B</th>\n",
              "      <th>C</th>\n",
              "      <th>D</th>\n",
              "    </tr>\n",
              "  </thead>\n",
              "  <tbody>\n",
              "    <tr>\n",
              "      <th>2013-01-01</th>\n",
              "      <td>0.623240</td>\n",
              "      <td>-0.823150</td>\n",
              "      <td>0.114721</td>\n",
              "      <td>0.138187</td>\n",
              "    </tr>\n",
              "    <tr>\n",
              "      <th>2013-01-02</th>\n",
              "      <td>0.396768</td>\n",
              "      <td>0.954685</td>\n",
              "      <td>-0.554590</td>\n",
              "      <td>0.130949</td>\n",
              "    </tr>\n",
              "    <tr>\n",
              "      <th>2013-01-03</th>\n",
              "      <td>-0.458382</td>\n",
              "      <td>-1.073632</td>\n",
              "      <td>0.142508</td>\n",
              "      <td>0.845754</td>\n",
              "    </tr>\n",
              "  </tbody>\n",
              "</table>\n",
              "</div>"
            ],
            "text/plain": [
              "                   A         B         C         D\n",
              "2013-01-01  0.623240 -0.823150  0.114721  0.138187\n",
              "2013-01-02  0.396768  0.954685 -0.554590  0.130949\n",
              "2013-01-03 -0.458382 -1.073632  0.142508  0.845754"
            ]
          },
          "metadata": {
            "tags": []
          },
          "execution_count": 9
        }
      ]
    },
    {
      "cell_type": "code",
      "metadata": {
        "id": "mzM5s7ycLRbG",
        "colab_type": "code",
        "colab": {
          "base_uri": "https://localhost:8080/",
          "height": 68
        },
        "outputId": "ce7fc51c-8ef6-4504-d43c-d8ab56903fd4"
      },
      "source": [
        "df.index"
      ],
      "execution_count": 10,
      "outputs": [
        {
          "output_type": "execute_result",
          "data": {
            "text/plain": [
              "DatetimeIndex(['2013-01-01', '2013-01-02', '2013-01-03', '2013-01-04',\n",
              "               '2013-01-05', '2013-01-06'],\n",
              "              dtype='datetime64[ns]', freq='D')"
            ]
          },
          "metadata": {
            "tags": []
          },
          "execution_count": 10
        }
      ]
    },
    {
      "cell_type": "code",
      "metadata": {
        "id": "1M1b-Mo0LUug",
        "colab_type": "code",
        "colab": {
          "base_uri": "https://localhost:8080/",
          "height": 34
        },
        "outputId": "a9bd6e86-764b-446c-fb92-0a566d9299fd"
      },
      "source": [
        "df.columns"
      ],
      "execution_count": 11,
      "outputs": [
        {
          "output_type": "execute_result",
          "data": {
            "text/plain": [
              "Index(['A', 'B', 'C', 'D'], dtype='object')"
            ]
          },
          "metadata": {
            "tags": []
          },
          "execution_count": 11
        }
      ]
    },
    {
      "cell_type": "code",
      "metadata": {
        "id": "D5nGoZtHLY4A",
        "colab_type": "code",
        "colab": {
          "base_uri": "https://localhost:8080/",
          "height": 119
        },
        "outputId": "7899393d-95d8-4ffa-e872-fcd5cc386b25"
      },
      "source": [
        "df.values"
      ],
      "execution_count": 12,
      "outputs": [
        {
          "output_type": "execute_result",
          "data": {
            "text/plain": [
              "array([[ 0.62323964, -0.82314994,  0.11472143,  0.13818725],\n",
              "       [ 0.39676834,  0.9546849 , -0.55459045,  0.13094933],\n",
              "       [-0.45838208, -1.07363187,  0.14250756,  0.84575381],\n",
              "       [ 1.41170631, -0.25725868,  0.23611514, -0.83455316],\n",
              "       [-1.65714016, -0.95577391,  0.52672474, -0.32728319],\n",
              "       [ 0.58959394,  1.65863698,  0.71292151, -1.00800354]])"
            ]
          },
          "metadata": {
            "tags": []
          },
          "execution_count": 12
        }
      ]
    },
    {
      "cell_type": "code",
      "metadata": {
        "id": "q4jNbTYDLbgy",
        "colab_type": "code",
        "colab": {
          "base_uri": "https://localhost:8080/",
          "height": 187
        },
        "outputId": "f2efd178-e32b-4932-cb69-ea93711ff968"
      },
      "source": [
        "df.info()"
      ],
      "execution_count": 13,
      "outputs": [
        {
          "output_type": "stream",
          "text": [
            "<class 'pandas.core.frame.DataFrame'>\n",
            "DatetimeIndex: 6 entries, 2013-01-01 to 2013-01-06\n",
            "Freq: D\n",
            "Data columns (total 4 columns):\n",
            "A    6 non-null float64\n",
            "B    6 non-null float64\n",
            "C    6 non-null float64\n",
            "D    6 non-null float64\n",
            "dtypes: float64(4)\n",
            "memory usage: 240.0 bytes\n"
          ],
          "name": "stdout"
        }
      ]
    },
    {
      "cell_type": "code",
      "metadata": {
        "id": "E2Z44Vt8LgXn",
        "colab_type": "code",
        "colab": {
          "base_uri": "https://localhost:8080/",
          "height": 297
        },
        "outputId": "4f73dc70-54d4-4b45-f09d-248c5f5caba5"
      },
      "source": [
        "df.describe()"
      ],
      "execution_count": 14,
      "outputs": [
        {
          "output_type": "execute_result",
          "data": {
            "text/html": [
              "<div>\n",
              "<style scoped>\n",
              "    .dataframe tbody tr th:only-of-type {\n",
              "        vertical-align: middle;\n",
              "    }\n",
              "\n",
              "    .dataframe tbody tr th {\n",
              "        vertical-align: top;\n",
              "    }\n",
              "\n",
              "    .dataframe thead th {\n",
              "        text-align: right;\n",
              "    }\n",
              "</style>\n",
              "<table border=\"1\" class=\"dataframe\">\n",
              "  <thead>\n",
              "    <tr style=\"text-align: right;\">\n",
              "      <th></th>\n",
              "      <th>A</th>\n",
              "      <th>B</th>\n",
              "      <th>C</th>\n",
              "      <th>D</th>\n",
              "    </tr>\n",
              "  </thead>\n",
              "  <tbody>\n",
              "    <tr>\n",
              "      <th>count</th>\n",
              "      <td>6.000000</td>\n",
              "      <td>6.000000</td>\n",
              "      <td>6.000000</td>\n",
              "      <td>6.000000</td>\n",
              "    </tr>\n",
              "    <tr>\n",
              "      <th>mean</th>\n",
              "      <td>0.150964</td>\n",
              "      <td>-0.082749</td>\n",
              "      <td>0.196400</td>\n",
              "      <td>-0.175825</td>\n",
              "    </tr>\n",
              "    <tr>\n",
              "      <th>std</th>\n",
              "      <td>1.068258</td>\n",
              "      <td>1.134140</td>\n",
              "      <td>0.436130</td>\n",
              "      <td>0.690756</td>\n",
              "    </tr>\n",
              "    <tr>\n",
              "      <th>min</th>\n",
              "      <td>-1.657140</td>\n",
              "      <td>-1.073632</td>\n",
              "      <td>-0.554590</td>\n",
              "      <td>-1.008004</td>\n",
              "    </tr>\n",
              "    <tr>\n",
              "      <th>25%</th>\n",
              "      <td>-0.244594</td>\n",
              "      <td>-0.922618</td>\n",
              "      <td>0.121668</td>\n",
              "      <td>-0.707736</td>\n",
              "    </tr>\n",
              "    <tr>\n",
              "      <th>50%</th>\n",
              "      <td>0.493181</td>\n",
              "      <td>-0.540204</td>\n",
              "      <td>0.189311</td>\n",
              "      <td>-0.098167</td>\n",
              "    </tr>\n",
              "    <tr>\n",
              "      <th>75%</th>\n",
              "      <td>0.614828</td>\n",
              "      <td>0.651699</td>\n",
              "      <td>0.454072</td>\n",
              "      <td>0.136378</td>\n",
              "    </tr>\n",
              "    <tr>\n",
              "      <th>max</th>\n",
              "      <td>1.411706</td>\n",
              "      <td>1.658637</td>\n",
              "      <td>0.712922</td>\n",
              "      <td>0.845754</td>\n",
              "    </tr>\n",
              "  </tbody>\n",
              "</table>\n",
              "</div>"
            ],
            "text/plain": [
              "              A         B         C         D\n",
              "count  6.000000  6.000000  6.000000  6.000000\n",
              "mean   0.150964 -0.082749  0.196400 -0.175825\n",
              "std    1.068258  1.134140  0.436130  0.690756\n",
              "min   -1.657140 -1.073632 -0.554590 -1.008004\n",
              "25%   -0.244594 -0.922618  0.121668 -0.707736\n",
              "50%    0.493181 -0.540204  0.189311 -0.098167\n",
              "75%    0.614828  0.651699  0.454072  0.136378\n",
              "max    1.411706  1.658637  0.712922  0.845754"
            ]
          },
          "metadata": {
            "tags": []
          },
          "execution_count": 14
        }
      ]
    },
    {
      "cell_type": "code",
      "metadata": {
        "id": "93JEjTv7Lns-",
        "colab_type": "code",
        "colab": {
          "base_uri": "https://localhost:8080/",
          "height": 235
        },
        "outputId": "eba75f74-aa6f-4967-e416-84280ee74a26"
      },
      "source": [
        "df.sort_values(by='B', ascending=False)"
      ],
      "execution_count": 15,
      "outputs": [
        {
          "output_type": "execute_result",
          "data": {
            "text/html": [
              "<div>\n",
              "<style scoped>\n",
              "    .dataframe tbody tr th:only-of-type {\n",
              "        vertical-align: middle;\n",
              "    }\n",
              "\n",
              "    .dataframe tbody tr th {\n",
              "        vertical-align: top;\n",
              "    }\n",
              "\n",
              "    .dataframe thead th {\n",
              "        text-align: right;\n",
              "    }\n",
              "</style>\n",
              "<table border=\"1\" class=\"dataframe\">\n",
              "  <thead>\n",
              "    <tr style=\"text-align: right;\">\n",
              "      <th></th>\n",
              "      <th>A</th>\n",
              "      <th>B</th>\n",
              "      <th>C</th>\n",
              "      <th>D</th>\n",
              "    </tr>\n",
              "  </thead>\n",
              "  <tbody>\n",
              "    <tr>\n",
              "      <th>2013-01-06</th>\n",
              "      <td>0.589594</td>\n",
              "      <td>1.658637</td>\n",
              "      <td>0.712922</td>\n",
              "      <td>-1.008004</td>\n",
              "    </tr>\n",
              "    <tr>\n",
              "      <th>2013-01-02</th>\n",
              "      <td>0.396768</td>\n",
              "      <td>0.954685</td>\n",
              "      <td>-0.554590</td>\n",
              "      <td>0.130949</td>\n",
              "    </tr>\n",
              "    <tr>\n",
              "      <th>2013-01-04</th>\n",
              "      <td>1.411706</td>\n",
              "      <td>-0.257259</td>\n",
              "      <td>0.236115</td>\n",
              "      <td>-0.834553</td>\n",
              "    </tr>\n",
              "    <tr>\n",
              "      <th>2013-01-01</th>\n",
              "      <td>0.623240</td>\n",
              "      <td>-0.823150</td>\n",
              "      <td>0.114721</td>\n",
              "      <td>0.138187</td>\n",
              "    </tr>\n",
              "    <tr>\n",
              "      <th>2013-01-05</th>\n",
              "      <td>-1.657140</td>\n",
              "      <td>-0.955774</td>\n",
              "      <td>0.526725</td>\n",
              "      <td>-0.327283</td>\n",
              "    </tr>\n",
              "    <tr>\n",
              "      <th>2013-01-03</th>\n",
              "      <td>-0.458382</td>\n",
              "      <td>-1.073632</td>\n",
              "      <td>0.142508</td>\n",
              "      <td>0.845754</td>\n",
              "    </tr>\n",
              "  </tbody>\n",
              "</table>\n",
              "</div>"
            ],
            "text/plain": [
              "                   A         B         C         D\n",
              "2013-01-06  0.589594  1.658637  0.712922 -1.008004\n",
              "2013-01-02  0.396768  0.954685 -0.554590  0.130949\n",
              "2013-01-04  1.411706 -0.257259  0.236115 -0.834553\n",
              "2013-01-01  0.623240 -0.823150  0.114721  0.138187\n",
              "2013-01-05 -1.657140 -0.955774  0.526725 -0.327283\n",
              "2013-01-03 -0.458382 -1.073632  0.142508  0.845754"
            ]
          },
          "metadata": {
            "tags": []
          },
          "execution_count": 15
        }
      ]
    },
    {
      "cell_type": "code",
      "metadata": {
        "id": "I0PYocpWLyGF",
        "colab_type": "code",
        "colab": {
          "base_uri": "https://localhost:8080/",
          "height": 235
        },
        "outputId": "86324f2e-f3bb-46e8-ee6c-2f82e6c50102"
      },
      "source": [
        "df"
      ],
      "execution_count": 16,
      "outputs": [
        {
          "output_type": "execute_result",
          "data": {
            "text/html": [
              "<div>\n",
              "<style scoped>\n",
              "    .dataframe tbody tr th:only-of-type {\n",
              "        vertical-align: middle;\n",
              "    }\n",
              "\n",
              "    .dataframe tbody tr th {\n",
              "        vertical-align: top;\n",
              "    }\n",
              "\n",
              "    .dataframe thead th {\n",
              "        text-align: right;\n",
              "    }\n",
              "</style>\n",
              "<table border=\"1\" class=\"dataframe\">\n",
              "  <thead>\n",
              "    <tr style=\"text-align: right;\">\n",
              "      <th></th>\n",
              "      <th>A</th>\n",
              "      <th>B</th>\n",
              "      <th>C</th>\n",
              "      <th>D</th>\n",
              "    </tr>\n",
              "  </thead>\n",
              "  <tbody>\n",
              "    <tr>\n",
              "      <th>2013-01-01</th>\n",
              "      <td>0.623240</td>\n",
              "      <td>-0.823150</td>\n",
              "      <td>0.114721</td>\n",
              "      <td>0.138187</td>\n",
              "    </tr>\n",
              "    <tr>\n",
              "      <th>2013-01-02</th>\n",
              "      <td>0.396768</td>\n",
              "      <td>0.954685</td>\n",
              "      <td>-0.554590</td>\n",
              "      <td>0.130949</td>\n",
              "    </tr>\n",
              "    <tr>\n",
              "      <th>2013-01-03</th>\n",
              "      <td>-0.458382</td>\n",
              "      <td>-1.073632</td>\n",
              "      <td>0.142508</td>\n",
              "      <td>0.845754</td>\n",
              "    </tr>\n",
              "    <tr>\n",
              "      <th>2013-01-04</th>\n",
              "      <td>1.411706</td>\n",
              "      <td>-0.257259</td>\n",
              "      <td>0.236115</td>\n",
              "      <td>-0.834553</td>\n",
              "    </tr>\n",
              "    <tr>\n",
              "      <th>2013-01-05</th>\n",
              "      <td>-1.657140</td>\n",
              "      <td>-0.955774</td>\n",
              "      <td>0.526725</td>\n",
              "      <td>-0.327283</td>\n",
              "    </tr>\n",
              "    <tr>\n",
              "      <th>2013-01-06</th>\n",
              "      <td>0.589594</td>\n",
              "      <td>1.658637</td>\n",
              "      <td>0.712922</td>\n",
              "      <td>-1.008004</td>\n",
              "    </tr>\n",
              "  </tbody>\n",
              "</table>\n",
              "</div>"
            ],
            "text/plain": [
              "                   A         B         C         D\n",
              "2013-01-01  0.623240 -0.823150  0.114721  0.138187\n",
              "2013-01-02  0.396768  0.954685 -0.554590  0.130949\n",
              "2013-01-03 -0.458382 -1.073632  0.142508  0.845754\n",
              "2013-01-04  1.411706 -0.257259  0.236115 -0.834553\n",
              "2013-01-05 -1.657140 -0.955774  0.526725 -0.327283\n",
              "2013-01-06  0.589594  1.658637  0.712922 -1.008004"
            ]
          },
          "metadata": {
            "tags": []
          },
          "execution_count": 16
        }
      ]
    },
    {
      "cell_type": "code",
      "metadata": {
        "id": "Wyd1lZ63L5Kf",
        "colab_type": "code",
        "colab": {
          "base_uri": "https://localhost:8080/",
          "height": 136
        },
        "outputId": "9061bc7b-f079-46d9-ff32-f5acba0d71dd"
      },
      "source": [
        "df['A']"
      ],
      "execution_count": 17,
      "outputs": [
        {
          "output_type": "execute_result",
          "data": {
            "text/plain": [
              "2013-01-01    0.623240\n",
              "2013-01-02    0.396768\n",
              "2013-01-03   -0.458382\n",
              "2013-01-04    1.411706\n",
              "2013-01-05   -1.657140\n",
              "2013-01-06    0.589594\n",
              "Freq: D, Name: A, dtype: float64"
            ]
          },
          "metadata": {
            "tags": []
          },
          "execution_count": 17
        }
      ]
    },
    {
      "cell_type": "code",
      "metadata": {
        "id": "eWbcmk97L-e-",
        "colab_type": "code",
        "colab": {
          "base_uri": "https://localhost:8080/",
          "height": 142
        },
        "outputId": "9b7fdb36-85f2-4847-a28a-93889a6ab9ca"
      },
      "source": [
        "df[0:3]"
      ],
      "execution_count": 18,
      "outputs": [
        {
          "output_type": "execute_result",
          "data": {
            "text/html": [
              "<div>\n",
              "<style scoped>\n",
              "    .dataframe tbody tr th:only-of-type {\n",
              "        vertical-align: middle;\n",
              "    }\n",
              "\n",
              "    .dataframe tbody tr th {\n",
              "        vertical-align: top;\n",
              "    }\n",
              "\n",
              "    .dataframe thead th {\n",
              "        text-align: right;\n",
              "    }\n",
              "</style>\n",
              "<table border=\"1\" class=\"dataframe\">\n",
              "  <thead>\n",
              "    <tr style=\"text-align: right;\">\n",
              "      <th></th>\n",
              "      <th>A</th>\n",
              "      <th>B</th>\n",
              "      <th>C</th>\n",
              "      <th>D</th>\n",
              "    </tr>\n",
              "  </thead>\n",
              "  <tbody>\n",
              "    <tr>\n",
              "      <th>2013-01-01</th>\n",
              "      <td>0.623240</td>\n",
              "      <td>-0.823150</td>\n",
              "      <td>0.114721</td>\n",
              "      <td>0.138187</td>\n",
              "    </tr>\n",
              "    <tr>\n",
              "      <th>2013-01-02</th>\n",
              "      <td>0.396768</td>\n",
              "      <td>0.954685</td>\n",
              "      <td>-0.554590</td>\n",
              "      <td>0.130949</td>\n",
              "    </tr>\n",
              "    <tr>\n",
              "      <th>2013-01-03</th>\n",
              "      <td>-0.458382</td>\n",
              "      <td>-1.073632</td>\n",
              "      <td>0.142508</td>\n",
              "      <td>0.845754</td>\n",
              "    </tr>\n",
              "  </tbody>\n",
              "</table>\n",
              "</div>"
            ],
            "text/plain": [
              "                   A         B         C         D\n",
              "2013-01-01  0.623240 -0.823150  0.114721  0.138187\n",
              "2013-01-02  0.396768  0.954685 -0.554590  0.130949\n",
              "2013-01-03 -0.458382 -1.073632  0.142508  0.845754"
            ]
          },
          "metadata": {
            "tags": []
          },
          "execution_count": 18
        }
      ]
    },
    {
      "cell_type": "code",
      "metadata": {
        "id": "cGmPeM_OMETB",
        "colab_type": "code",
        "colab": {
          "base_uri": "https://localhost:8080/",
          "height": 142
        },
        "outputId": "b2c7cf09-a8e0-490e-cbbd-231e2dfdf869"
      },
      "source": [
        "df['20130102':'20130104']"
      ],
      "execution_count": 19,
      "outputs": [
        {
          "output_type": "execute_result",
          "data": {
            "text/html": [
              "<div>\n",
              "<style scoped>\n",
              "    .dataframe tbody tr th:only-of-type {\n",
              "        vertical-align: middle;\n",
              "    }\n",
              "\n",
              "    .dataframe tbody tr th {\n",
              "        vertical-align: top;\n",
              "    }\n",
              "\n",
              "    .dataframe thead th {\n",
              "        text-align: right;\n",
              "    }\n",
              "</style>\n",
              "<table border=\"1\" class=\"dataframe\">\n",
              "  <thead>\n",
              "    <tr style=\"text-align: right;\">\n",
              "      <th></th>\n",
              "      <th>A</th>\n",
              "      <th>B</th>\n",
              "      <th>C</th>\n",
              "      <th>D</th>\n",
              "    </tr>\n",
              "  </thead>\n",
              "  <tbody>\n",
              "    <tr>\n",
              "      <th>2013-01-02</th>\n",
              "      <td>0.396768</td>\n",
              "      <td>0.954685</td>\n",
              "      <td>-0.554590</td>\n",
              "      <td>0.130949</td>\n",
              "    </tr>\n",
              "    <tr>\n",
              "      <th>2013-01-03</th>\n",
              "      <td>-0.458382</td>\n",
              "      <td>-1.073632</td>\n",
              "      <td>0.142508</td>\n",
              "      <td>0.845754</td>\n",
              "    </tr>\n",
              "    <tr>\n",
              "      <th>2013-01-04</th>\n",
              "      <td>1.411706</td>\n",
              "      <td>-0.257259</td>\n",
              "      <td>0.236115</td>\n",
              "      <td>-0.834553</td>\n",
              "    </tr>\n",
              "  </tbody>\n",
              "</table>\n",
              "</div>"
            ],
            "text/plain": [
              "                   A         B         C         D\n",
              "2013-01-02  0.396768  0.954685 -0.554590  0.130949\n",
              "2013-01-03 -0.458382 -1.073632  0.142508  0.845754\n",
              "2013-01-04  1.411706 -0.257259  0.236115 -0.834553"
            ]
          },
          "metadata": {
            "tags": []
          },
          "execution_count": 19
        }
      ]
    },
    {
      "cell_type": "code",
      "metadata": {
        "id": "0BT3Ymc8MLww",
        "colab_type": "code",
        "colab": {
          "base_uri": "https://localhost:8080/",
          "height": 102
        },
        "outputId": "0c07c281-b103-42c0-8dfe-e21c955b2117"
      },
      "source": [
        "df.loc[dates[0]]\n",
        "\n",
        "# 슬라이싱, 2013-01-01 날짜의 위치 값"
      ],
      "execution_count": 20,
      "outputs": [
        {
          "output_type": "execute_result",
          "data": {
            "text/plain": [
              "A    0.623240\n",
              "B   -0.823150\n",
              "C    0.114721\n",
              "D    0.138187\n",
              "Name: 2013-01-01 00:00:00, dtype: float64"
            ]
          },
          "metadata": {
            "tags": []
          },
          "execution_count": 20
        }
      ]
    },
    {
      "cell_type": "code",
      "metadata": {
        "id": "0fhGzdfwMXHN",
        "colab_type": "code",
        "colab": {
          "base_uri": "https://localhost:8080/",
          "height": 235
        },
        "outputId": "545c5523-c7a9-49d7-8eda-ff77d34f56a0"
      },
      "source": [
        "df.loc[:,['A','B']]\n",
        "\n",
        "# A,B의 모든행을 보고 싶다면"
      ],
      "execution_count": 21,
      "outputs": [
        {
          "output_type": "execute_result",
          "data": {
            "text/html": [
              "<div>\n",
              "<style scoped>\n",
              "    .dataframe tbody tr th:only-of-type {\n",
              "        vertical-align: middle;\n",
              "    }\n",
              "\n",
              "    .dataframe tbody tr th {\n",
              "        vertical-align: top;\n",
              "    }\n",
              "\n",
              "    .dataframe thead th {\n",
              "        text-align: right;\n",
              "    }\n",
              "</style>\n",
              "<table border=\"1\" class=\"dataframe\">\n",
              "  <thead>\n",
              "    <tr style=\"text-align: right;\">\n",
              "      <th></th>\n",
              "      <th>A</th>\n",
              "      <th>B</th>\n",
              "    </tr>\n",
              "  </thead>\n",
              "  <tbody>\n",
              "    <tr>\n",
              "      <th>2013-01-01</th>\n",
              "      <td>0.623240</td>\n",
              "      <td>-0.823150</td>\n",
              "    </tr>\n",
              "    <tr>\n",
              "      <th>2013-01-02</th>\n",
              "      <td>0.396768</td>\n",
              "      <td>0.954685</td>\n",
              "    </tr>\n",
              "    <tr>\n",
              "      <th>2013-01-03</th>\n",
              "      <td>-0.458382</td>\n",
              "      <td>-1.073632</td>\n",
              "    </tr>\n",
              "    <tr>\n",
              "      <th>2013-01-04</th>\n",
              "      <td>1.411706</td>\n",
              "      <td>-0.257259</td>\n",
              "    </tr>\n",
              "    <tr>\n",
              "      <th>2013-01-05</th>\n",
              "      <td>-1.657140</td>\n",
              "      <td>-0.955774</td>\n",
              "    </tr>\n",
              "    <tr>\n",
              "      <th>2013-01-06</th>\n",
              "      <td>0.589594</td>\n",
              "      <td>1.658637</td>\n",
              "    </tr>\n",
              "  </tbody>\n",
              "</table>\n",
              "</div>"
            ],
            "text/plain": [
              "                   A         B\n",
              "2013-01-01  0.623240 -0.823150\n",
              "2013-01-02  0.396768  0.954685\n",
              "2013-01-03 -0.458382 -1.073632\n",
              "2013-01-04  1.411706 -0.257259\n",
              "2013-01-05 -1.657140 -0.955774\n",
              "2013-01-06  0.589594  1.658637"
            ]
          },
          "metadata": {
            "tags": []
          },
          "execution_count": 21
        }
      ]
    },
    {
      "cell_type": "code",
      "metadata": {
        "id": "HDXnEvq5MoL4",
        "colab_type": "code",
        "colab": {
          "base_uri": "https://localhost:8080/",
          "height": 142
        },
        "outputId": "7e0c658a-d795-41f7-b013-2214f9f99bd1"
      },
      "source": [
        "df.loc['20130102':'20130104',['A','B']]\n",
        "\n",
        "# 2013년 1월 2일 ~ 2013년 1월 4일까의 데이터중 A, B 컬럼의 데이터만 선택"
      ],
      "execution_count": 22,
      "outputs": [
        {
          "output_type": "execute_result",
          "data": {
            "text/html": [
              "<div>\n",
              "<style scoped>\n",
              "    .dataframe tbody tr th:only-of-type {\n",
              "        vertical-align: middle;\n",
              "    }\n",
              "\n",
              "    .dataframe tbody tr th {\n",
              "        vertical-align: top;\n",
              "    }\n",
              "\n",
              "    .dataframe thead th {\n",
              "        text-align: right;\n",
              "    }\n",
              "</style>\n",
              "<table border=\"1\" class=\"dataframe\">\n",
              "  <thead>\n",
              "    <tr style=\"text-align: right;\">\n",
              "      <th></th>\n",
              "      <th>A</th>\n",
              "      <th>B</th>\n",
              "    </tr>\n",
              "  </thead>\n",
              "  <tbody>\n",
              "    <tr>\n",
              "      <th>2013-01-02</th>\n",
              "      <td>0.396768</td>\n",
              "      <td>0.954685</td>\n",
              "    </tr>\n",
              "    <tr>\n",
              "      <th>2013-01-03</th>\n",
              "      <td>-0.458382</td>\n",
              "      <td>-1.073632</td>\n",
              "    </tr>\n",
              "    <tr>\n",
              "      <th>2013-01-04</th>\n",
              "      <td>1.411706</td>\n",
              "      <td>-0.257259</td>\n",
              "    </tr>\n",
              "  </tbody>\n",
              "</table>\n",
              "</div>"
            ],
            "text/plain": [
              "                   A         B\n",
              "2013-01-02  0.396768  0.954685\n",
              "2013-01-03 -0.458382 -1.073632\n",
              "2013-01-04  1.411706 -0.257259"
            ]
          },
          "metadata": {
            "tags": []
          },
          "execution_count": 22
        }
      ]
    },
    {
      "cell_type": "code",
      "metadata": {
        "id": "tr1g-1abNFrh",
        "colab_type": "code",
        "colab": {
          "base_uri": "https://localhost:8080/",
          "height": 68
        },
        "outputId": "7e35acf6-868d-420b-a015-18cfa292e906"
      },
      "source": [
        "df.loc['20130102',['A','B']]\n",
        "\n",
        "# 2013년 1월 2일의 A,B 컬럼의 내용 확인"
      ],
      "execution_count": 23,
      "outputs": [
        {
          "output_type": "execute_result",
          "data": {
            "text/plain": [
              "A    0.396768\n",
              "B    0.954685\n",
              "Name: 2013-01-02 00:00:00, dtype: float64"
            ]
          },
          "metadata": {
            "tags": []
          },
          "execution_count": 23
        }
      ]
    },
    {
      "cell_type": "code",
      "metadata": {
        "id": "apmXR2vBNOjq",
        "colab_type": "code",
        "colab": {
          "base_uri": "https://localhost:8080/",
          "height": 34
        },
        "outputId": "c4a9ea68-02b7-471b-a3a2-a49d0b859e7b"
      },
      "source": [
        "df.loc[dates[0],'A']\n",
        "\n",
        "# dates[0]에 맞는 날짜인 2013년 1월 1일에 A컬럼의 데이터만 확인"
      ],
      "execution_count": 24,
      "outputs": [
        {
          "output_type": "execute_result",
          "data": {
            "text/plain": [
              "0.6232396374255272"
            ]
          },
          "metadata": {
            "tags": []
          },
          "execution_count": 24
        }
      ]
    },
    {
      "cell_type": "code",
      "metadata": {
        "id": "q2lAfVlONYqw",
        "colab_type": "code",
        "colab": {
          "base_uri": "https://localhost:8080/",
          "height": 102
        },
        "outputId": "0d4774b9-d16b-422c-9b47-61865b68dccf"
      },
      "source": [
        "df.iloc[3]\n",
        "\n",
        "# 4번째 행 (0번 부터 시작함)"
      ],
      "execution_count": 25,
      "outputs": [
        {
          "output_type": "execute_result",
          "data": {
            "text/plain": [
              "A    1.411706\n",
              "B   -0.257259\n",
              "C    0.236115\n",
              "D   -0.834553\n",
              "Name: 2013-01-04 00:00:00, dtype: float64"
            ]
          },
          "metadata": {
            "tags": []
          },
          "execution_count": 25
        }
      ]
    },
    {
      "cell_type": "code",
      "metadata": {
        "id": "lmRFy_pUNd1P",
        "colab_type": "code",
        "colab": {
          "base_uri": "https://localhost:8080/",
          "height": 111
        },
        "outputId": "541e243d-fdcd-4783-c06c-7170f4ae02bf"
      },
      "source": [
        "df.iloc[3:5,0:2]\n",
        "\n",
        "# 3번째 ~ 5번째 앞, 즉 3번째 ~ 4번째까지 행과 0번 ~ 1번까지 열의 데이터"
      ],
      "execution_count": 26,
      "outputs": [
        {
          "output_type": "execute_result",
          "data": {
            "text/html": [
              "<div>\n",
              "<style scoped>\n",
              "    .dataframe tbody tr th:only-of-type {\n",
              "        vertical-align: middle;\n",
              "    }\n",
              "\n",
              "    .dataframe tbody tr th {\n",
              "        vertical-align: top;\n",
              "    }\n",
              "\n",
              "    .dataframe thead th {\n",
              "        text-align: right;\n",
              "    }\n",
              "</style>\n",
              "<table border=\"1\" class=\"dataframe\">\n",
              "  <thead>\n",
              "    <tr style=\"text-align: right;\">\n",
              "      <th></th>\n",
              "      <th>A</th>\n",
              "      <th>B</th>\n",
              "    </tr>\n",
              "  </thead>\n",
              "  <tbody>\n",
              "    <tr>\n",
              "      <th>2013-01-04</th>\n",
              "      <td>1.411706</td>\n",
              "      <td>-0.257259</td>\n",
              "    </tr>\n",
              "    <tr>\n",
              "      <th>2013-01-05</th>\n",
              "      <td>-1.657140</td>\n",
              "      <td>-0.955774</td>\n",
              "    </tr>\n",
              "  </tbody>\n",
              "</table>\n",
              "</div>"
            ],
            "text/plain": [
              "                   A         B\n",
              "2013-01-04  1.411706 -0.257259\n",
              "2013-01-05 -1.657140 -0.955774"
            ]
          },
          "metadata": {
            "tags": []
          },
          "execution_count": 26
        }
      ]
    },
    {
      "cell_type": "code",
      "metadata": {
        "id": "rv-i9sFTN2nY",
        "colab_type": "code",
        "colab": {
          "base_uri": "https://localhost:8080/",
          "height": 142
        },
        "outputId": "acae7526-978f-4487-ab8f-bdc098773dbc"
      },
      "source": [
        "df.iloc[[1,2,4],[0,2]]\n",
        "\n",
        "# 범위가 아니라 콤마(,)로 행이나 열을 지정해서 데이터를 가져올 수 있음"
      ],
      "execution_count": 27,
      "outputs": [
        {
          "output_type": "execute_result",
          "data": {
            "text/html": [
              "<div>\n",
              "<style scoped>\n",
              "    .dataframe tbody tr th:only-of-type {\n",
              "        vertical-align: middle;\n",
              "    }\n",
              "\n",
              "    .dataframe tbody tr th {\n",
              "        vertical-align: top;\n",
              "    }\n",
              "\n",
              "    .dataframe thead th {\n",
              "        text-align: right;\n",
              "    }\n",
              "</style>\n",
              "<table border=\"1\" class=\"dataframe\">\n",
              "  <thead>\n",
              "    <tr style=\"text-align: right;\">\n",
              "      <th></th>\n",
              "      <th>A</th>\n",
              "      <th>C</th>\n",
              "    </tr>\n",
              "  </thead>\n",
              "  <tbody>\n",
              "    <tr>\n",
              "      <th>2013-01-02</th>\n",
              "      <td>0.396768</td>\n",
              "      <td>-0.554590</td>\n",
              "    </tr>\n",
              "    <tr>\n",
              "      <th>2013-01-03</th>\n",
              "      <td>-0.458382</td>\n",
              "      <td>0.142508</td>\n",
              "    </tr>\n",
              "    <tr>\n",
              "      <th>2013-01-05</th>\n",
              "      <td>-1.657140</td>\n",
              "      <td>0.526725</td>\n",
              "    </tr>\n",
              "  </tbody>\n",
              "</table>\n",
              "</div>"
            ],
            "text/plain": [
              "                   A         C\n",
              "2013-01-02  0.396768 -0.554590\n",
              "2013-01-03 -0.458382  0.142508\n",
              "2013-01-05 -1.657140  0.526725"
            ]
          },
          "metadata": {
            "tags": []
          },
          "execution_count": 27
        }
      ]
    },
    {
      "cell_type": "code",
      "metadata": {
        "id": "0fUJpIoyOKsg",
        "colab_type": "code",
        "colab": {
          "base_uri": "https://localhost:8080/",
          "height": 111
        },
        "outputId": "63c3f4d2-e19b-483b-e422-b1514a022ee3"
      },
      "source": [
        "df.iloc[1:3,:]\n",
        "\n",
        "# 행이나 열에 대한 한쪽은 전체를 의미하게 하고 싶을 때는 콜론 (:)만 사용하면 됩니다.\n",
        "# 이렇게 행은 범위를 주고, 열은 콜론으로 전체 의미"
      ],
      "execution_count": 28,
      "outputs": [
        {
          "output_type": "execute_result",
          "data": {
            "text/html": [
              "<div>\n",
              "<style scoped>\n",
              "    .dataframe tbody tr th:only-of-type {\n",
              "        vertical-align: middle;\n",
              "    }\n",
              "\n",
              "    .dataframe tbody tr th {\n",
              "        vertical-align: top;\n",
              "    }\n",
              "\n",
              "    .dataframe thead th {\n",
              "        text-align: right;\n",
              "    }\n",
              "</style>\n",
              "<table border=\"1\" class=\"dataframe\">\n",
              "  <thead>\n",
              "    <tr style=\"text-align: right;\">\n",
              "      <th></th>\n",
              "      <th>A</th>\n",
              "      <th>B</th>\n",
              "      <th>C</th>\n",
              "      <th>D</th>\n",
              "    </tr>\n",
              "  </thead>\n",
              "  <tbody>\n",
              "    <tr>\n",
              "      <th>2013-01-02</th>\n",
              "      <td>0.396768</td>\n",
              "      <td>0.954685</td>\n",
              "      <td>-0.554590</td>\n",
              "      <td>0.130949</td>\n",
              "    </tr>\n",
              "    <tr>\n",
              "      <th>2013-01-03</th>\n",
              "      <td>-0.458382</td>\n",
              "      <td>-1.073632</td>\n",
              "      <td>0.142508</td>\n",
              "      <td>0.845754</td>\n",
              "    </tr>\n",
              "  </tbody>\n",
              "</table>\n",
              "</div>"
            ],
            "text/plain": [
              "                   A         B         C         D\n",
              "2013-01-02  0.396768  0.954685 -0.554590  0.130949\n",
              "2013-01-03 -0.458382 -1.073632  0.142508  0.845754"
            ]
          },
          "metadata": {
            "tags": []
          },
          "execution_count": 28
        }
      ]
    },
    {
      "cell_type": "code",
      "metadata": {
        "id": "fGiP5vqTOXwP",
        "colab_type": "code",
        "colab": {
          "base_uri": "https://localhost:8080/",
          "height": 235
        },
        "outputId": "558b8e78-5ab8-4e0d-cf0f-7412ed3dbd80"
      },
      "source": [
        "df.iloc[:,1:3]\n",
        "\n",
        "# 행은 전체로 선택"
      ],
      "execution_count": 29,
      "outputs": [
        {
          "output_type": "execute_result",
          "data": {
            "text/html": [
              "<div>\n",
              "<style scoped>\n",
              "    .dataframe tbody tr th:only-of-type {\n",
              "        vertical-align: middle;\n",
              "    }\n",
              "\n",
              "    .dataframe tbody tr th {\n",
              "        vertical-align: top;\n",
              "    }\n",
              "\n",
              "    .dataframe thead th {\n",
              "        text-align: right;\n",
              "    }\n",
              "</style>\n",
              "<table border=\"1\" class=\"dataframe\">\n",
              "  <thead>\n",
              "    <tr style=\"text-align: right;\">\n",
              "      <th></th>\n",
              "      <th>B</th>\n",
              "      <th>C</th>\n",
              "    </tr>\n",
              "  </thead>\n",
              "  <tbody>\n",
              "    <tr>\n",
              "      <th>2013-01-01</th>\n",
              "      <td>-0.823150</td>\n",
              "      <td>0.114721</td>\n",
              "    </tr>\n",
              "    <tr>\n",
              "      <th>2013-01-02</th>\n",
              "      <td>0.954685</td>\n",
              "      <td>-0.554590</td>\n",
              "    </tr>\n",
              "    <tr>\n",
              "      <th>2013-01-03</th>\n",
              "      <td>-1.073632</td>\n",
              "      <td>0.142508</td>\n",
              "    </tr>\n",
              "    <tr>\n",
              "      <th>2013-01-04</th>\n",
              "      <td>-0.257259</td>\n",
              "      <td>0.236115</td>\n",
              "    </tr>\n",
              "    <tr>\n",
              "      <th>2013-01-05</th>\n",
              "      <td>-0.955774</td>\n",
              "      <td>0.526725</td>\n",
              "    </tr>\n",
              "    <tr>\n",
              "      <th>2013-01-06</th>\n",
              "      <td>1.658637</td>\n",
              "      <td>0.712922</td>\n",
              "    </tr>\n",
              "  </tbody>\n",
              "</table>\n",
              "</div>"
            ],
            "text/plain": [
              "                   B         C\n",
              "2013-01-01 -0.823150  0.114721\n",
              "2013-01-02  0.954685 -0.554590\n",
              "2013-01-03 -1.073632  0.142508\n",
              "2013-01-04 -0.257259  0.236115\n",
              "2013-01-05 -0.955774  0.526725\n",
              "2013-01-06  1.658637  0.712922"
            ]
          },
          "metadata": {
            "tags": []
          },
          "execution_count": 29
        }
      ]
    },
    {
      "cell_type": "code",
      "metadata": {
        "id": "3ovFHuR-OidN",
        "colab_type": "code",
        "colab": {
          "base_uri": "https://localhost:8080/",
          "height": 235
        },
        "outputId": "db5957c8-9177-4ead-9210-8c5907b4b25c"
      },
      "source": [
        "df"
      ],
      "execution_count": 30,
      "outputs": [
        {
          "output_type": "execute_result",
          "data": {
            "text/html": [
              "<div>\n",
              "<style scoped>\n",
              "    .dataframe tbody tr th:only-of-type {\n",
              "        vertical-align: middle;\n",
              "    }\n",
              "\n",
              "    .dataframe tbody tr th {\n",
              "        vertical-align: top;\n",
              "    }\n",
              "\n",
              "    .dataframe thead th {\n",
              "        text-align: right;\n",
              "    }\n",
              "</style>\n",
              "<table border=\"1\" class=\"dataframe\">\n",
              "  <thead>\n",
              "    <tr style=\"text-align: right;\">\n",
              "      <th></th>\n",
              "      <th>A</th>\n",
              "      <th>B</th>\n",
              "      <th>C</th>\n",
              "      <th>D</th>\n",
              "    </tr>\n",
              "  </thead>\n",
              "  <tbody>\n",
              "    <tr>\n",
              "      <th>2013-01-01</th>\n",
              "      <td>0.623240</td>\n",
              "      <td>-0.823150</td>\n",
              "      <td>0.114721</td>\n",
              "      <td>0.138187</td>\n",
              "    </tr>\n",
              "    <tr>\n",
              "      <th>2013-01-02</th>\n",
              "      <td>0.396768</td>\n",
              "      <td>0.954685</td>\n",
              "      <td>-0.554590</td>\n",
              "      <td>0.130949</td>\n",
              "    </tr>\n",
              "    <tr>\n",
              "      <th>2013-01-03</th>\n",
              "      <td>-0.458382</td>\n",
              "      <td>-1.073632</td>\n",
              "      <td>0.142508</td>\n",
              "      <td>0.845754</td>\n",
              "    </tr>\n",
              "    <tr>\n",
              "      <th>2013-01-04</th>\n",
              "      <td>1.411706</td>\n",
              "      <td>-0.257259</td>\n",
              "      <td>0.236115</td>\n",
              "      <td>-0.834553</td>\n",
              "    </tr>\n",
              "    <tr>\n",
              "      <th>2013-01-05</th>\n",
              "      <td>-1.657140</td>\n",
              "      <td>-0.955774</td>\n",
              "      <td>0.526725</td>\n",
              "      <td>-0.327283</td>\n",
              "    </tr>\n",
              "    <tr>\n",
              "      <th>2013-01-06</th>\n",
              "      <td>0.589594</td>\n",
              "      <td>1.658637</td>\n",
              "      <td>0.712922</td>\n",
              "      <td>-1.008004</td>\n",
              "    </tr>\n",
              "  </tbody>\n",
              "</table>\n",
              "</div>"
            ],
            "text/plain": [
              "                   A         B         C         D\n",
              "2013-01-01  0.623240 -0.823150  0.114721  0.138187\n",
              "2013-01-02  0.396768  0.954685 -0.554590  0.130949\n",
              "2013-01-03 -0.458382 -1.073632  0.142508  0.845754\n",
              "2013-01-04  1.411706 -0.257259  0.236115 -0.834553\n",
              "2013-01-05 -1.657140 -0.955774  0.526725 -0.327283\n",
              "2013-01-06  0.589594  1.658637  0.712922 -1.008004"
            ]
          },
          "metadata": {
            "tags": []
          },
          "execution_count": 30
        }
      ]
    },
    {
      "cell_type": "code",
      "metadata": {
        "id": "G70WfQjWOkHq",
        "colab_type": "code",
        "colab": {
          "base_uri": "https://localhost:8080/",
          "height": 173
        },
        "outputId": "14d6512e-3e8b-4266-c240-9e23bd741e15"
      },
      "source": [
        "df[df.A > 0]\n",
        "\n",
        "# 특정 조건을 만족하는 데이터를 얻을 수 있습니다.\n",
        "# 컬럼 A에서 0보다 큰 행만 얻는 값"
      ],
      "execution_count": 31,
      "outputs": [
        {
          "output_type": "execute_result",
          "data": {
            "text/html": [
              "<div>\n",
              "<style scoped>\n",
              "    .dataframe tbody tr th:only-of-type {\n",
              "        vertical-align: middle;\n",
              "    }\n",
              "\n",
              "    .dataframe tbody tr th {\n",
              "        vertical-align: top;\n",
              "    }\n",
              "\n",
              "    .dataframe thead th {\n",
              "        text-align: right;\n",
              "    }\n",
              "</style>\n",
              "<table border=\"1\" class=\"dataframe\">\n",
              "  <thead>\n",
              "    <tr style=\"text-align: right;\">\n",
              "      <th></th>\n",
              "      <th>A</th>\n",
              "      <th>B</th>\n",
              "      <th>C</th>\n",
              "      <th>D</th>\n",
              "    </tr>\n",
              "  </thead>\n",
              "  <tbody>\n",
              "    <tr>\n",
              "      <th>2013-01-01</th>\n",
              "      <td>0.623240</td>\n",
              "      <td>-0.823150</td>\n",
              "      <td>0.114721</td>\n",
              "      <td>0.138187</td>\n",
              "    </tr>\n",
              "    <tr>\n",
              "      <th>2013-01-02</th>\n",
              "      <td>0.396768</td>\n",
              "      <td>0.954685</td>\n",
              "      <td>-0.554590</td>\n",
              "      <td>0.130949</td>\n",
              "    </tr>\n",
              "    <tr>\n",
              "      <th>2013-01-04</th>\n",
              "      <td>1.411706</td>\n",
              "      <td>-0.257259</td>\n",
              "      <td>0.236115</td>\n",
              "      <td>-0.834553</td>\n",
              "    </tr>\n",
              "    <tr>\n",
              "      <th>2013-01-06</th>\n",
              "      <td>0.589594</td>\n",
              "      <td>1.658637</td>\n",
              "      <td>0.712922</td>\n",
              "      <td>-1.008004</td>\n",
              "    </tr>\n",
              "  </tbody>\n",
              "</table>\n",
              "</div>"
            ],
            "text/plain": [
              "                   A         B         C         D\n",
              "2013-01-01  0.623240 -0.823150  0.114721  0.138187\n",
              "2013-01-02  0.396768  0.954685 -0.554590  0.130949\n",
              "2013-01-04  1.411706 -0.257259  0.236115 -0.834553\n",
              "2013-01-06  0.589594  1.658637  0.712922 -1.008004"
            ]
          },
          "metadata": {
            "tags": []
          },
          "execution_count": 31
        }
      ]
    },
    {
      "cell_type": "code",
      "metadata": {
        "id": "sjXq-I_3OrxM",
        "colab_type": "code",
        "colab": {
          "base_uri": "https://localhost:8080/",
          "height": 235
        },
        "outputId": "60f90955-6b95-4c37-ffe4-f8d8de70b1ee"
      },
      "source": [
        "df[df > 0]\n",
        "\n",
        "# 전체 Dataframe에서 0 보다 큰 행을 얻는 값\n",
        "# 조건을 만족하지 않는 곳은 NaN 처리 됨"
      ],
      "execution_count": 32,
      "outputs": [
        {
          "output_type": "execute_result",
          "data": {
            "text/html": [
              "<div>\n",
              "<style scoped>\n",
              "    .dataframe tbody tr th:only-of-type {\n",
              "        vertical-align: middle;\n",
              "    }\n",
              "\n",
              "    .dataframe tbody tr th {\n",
              "        vertical-align: top;\n",
              "    }\n",
              "\n",
              "    .dataframe thead th {\n",
              "        text-align: right;\n",
              "    }\n",
              "</style>\n",
              "<table border=\"1\" class=\"dataframe\">\n",
              "  <thead>\n",
              "    <tr style=\"text-align: right;\">\n",
              "      <th></th>\n",
              "      <th>A</th>\n",
              "      <th>B</th>\n",
              "      <th>C</th>\n",
              "      <th>D</th>\n",
              "    </tr>\n",
              "  </thead>\n",
              "  <tbody>\n",
              "    <tr>\n",
              "      <th>2013-01-01</th>\n",
              "      <td>0.623240</td>\n",
              "      <td>NaN</td>\n",
              "      <td>0.114721</td>\n",
              "      <td>0.138187</td>\n",
              "    </tr>\n",
              "    <tr>\n",
              "      <th>2013-01-02</th>\n",
              "      <td>0.396768</td>\n",
              "      <td>0.954685</td>\n",
              "      <td>NaN</td>\n",
              "      <td>0.130949</td>\n",
              "    </tr>\n",
              "    <tr>\n",
              "      <th>2013-01-03</th>\n",
              "      <td>NaN</td>\n",
              "      <td>NaN</td>\n",
              "      <td>0.142508</td>\n",
              "      <td>0.845754</td>\n",
              "    </tr>\n",
              "    <tr>\n",
              "      <th>2013-01-04</th>\n",
              "      <td>1.411706</td>\n",
              "      <td>NaN</td>\n",
              "      <td>0.236115</td>\n",
              "      <td>NaN</td>\n",
              "    </tr>\n",
              "    <tr>\n",
              "      <th>2013-01-05</th>\n",
              "      <td>NaN</td>\n",
              "      <td>NaN</td>\n",
              "      <td>0.526725</td>\n",
              "      <td>NaN</td>\n",
              "    </tr>\n",
              "    <tr>\n",
              "      <th>2013-01-06</th>\n",
              "      <td>0.589594</td>\n",
              "      <td>1.658637</td>\n",
              "      <td>0.712922</td>\n",
              "      <td>NaN</td>\n",
              "    </tr>\n",
              "  </tbody>\n",
              "</table>\n",
              "</div>"
            ],
            "text/plain": [
              "                   A         B         C         D\n",
              "2013-01-01  0.623240       NaN  0.114721  0.138187\n",
              "2013-01-02  0.396768  0.954685       NaN  0.130949\n",
              "2013-01-03       NaN       NaN  0.142508  0.845754\n",
              "2013-01-04  1.411706       NaN  0.236115       NaN\n",
              "2013-01-05       NaN       NaN  0.526725       NaN\n",
              "2013-01-06  0.589594  1.658637  0.712922       NaN"
            ]
          },
          "metadata": {
            "tags": []
          },
          "execution_count": 32
        }
      ]
    },
    {
      "cell_type": "code",
      "metadata": {
        "id": "ByNh9wjZO-X7",
        "colab_type": "code",
        "colab": {}
      },
      "source": [
        "df2 = df.copy()\n",
        "\n",
        "# DataFrame을 복사할 때는 그냥 = 기호를 이용해서 복사하면 실제 데이터의 내용이 복사되는것이 아닌\n",
        "# 위치만 복사되기 때문에 원본 데이터는 하나만 있게 됩니다.\n",
        "# 데이터의 내용까지 복사하라는 명령은 copy() 옵션을 붙여 넣으면 됩니다."
      ],
      "execution_count": 0,
      "outputs": []
    },
    {
      "cell_type": "code",
      "metadata": {
        "id": "dwHNF6GPPV_K",
        "colab_type": "code",
        "colab": {
          "base_uri": "https://localhost:8080/",
          "height": 235
        },
        "outputId": "5ff3f136-fa39-4ae7-a031-0b40766f49aa"
      },
      "source": [
        "df2['E'] = ['one','one','two','three','four','three']\n",
        "df2\n",
        "\n",
        "# 새로운 컬럼을 추가할때는 위와 같이 하면 됩니다."
      ],
      "execution_count": 34,
      "outputs": [
        {
          "output_type": "execute_result",
          "data": {
            "text/html": [
              "<div>\n",
              "<style scoped>\n",
              "    .dataframe tbody tr th:only-of-type {\n",
              "        vertical-align: middle;\n",
              "    }\n",
              "\n",
              "    .dataframe tbody tr th {\n",
              "        vertical-align: top;\n",
              "    }\n",
              "\n",
              "    .dataframe thead th {\n",
              "        text-align: right;\n",
              "    }\n",
              "</style>\n",
              "<table border=\"1\" class=\"dataframe\">\n",
              "  <thead>\n",
              "    <tr style=\"text-align: right;\">\n",
              "      <th></th>\n",
              "      <th>A</th>\n",
              "      <th>B</th>\n",
              "      <th>C</th>\n",
              "      <th>D</th>\n",
              "      <th>E</th>\n",
              "    </tr>\n",
              "  </thead>\n",
              "  <tbody>\n",
              "    <tr>\n",
              "      <th>2013-01-01</th>\n",
              "      <td>0.623240</td>\n",
              "      <td>-0.823150</td>\n",
              "      <td>0.114721</td>\n",
              "      <td>0.138187</td>\n",
              "      <td>one</td>\n",
              "    </tr>\n",
              "    <tr>\n",
              "      <th>2013-01-02</th>\n",
              "      <td>0.396768</td>\n",
              "      <td>0.954685</td>\n",
              "      <td>-0.554590</td>\n",
              "      <td>0.130949</td>\n",
              "      <td>one</td>\n",
              "    </tr>\n",
              "    <tr>\n",
              "      <th>2013-01-03</th>\n",
              "      <td>-0.458382</td>\n",
              "      <td>-1.073632</td>\n",
              "      <td>0.142508</td>\n",
              "      <td>0.845754</td>\n",
              "      <td>two</td>\n",
              "    </tr>\n",
              "    <tr>\n",
              "      <th>2013-01-04</th>\n",
              "      <td>1.411706</td>\n",
              "      <td>-0.257259</td>\n",
              "      <td>0.236115</td>\n",
              "      <td>-0.834553</td>\n",
              "      <td>three</td>\n",
              "    </tr>\n",
              "    <tr>\n",
              "      <th>2013-01-05</th>\n",
              "      <td>-1.657140</td>\n",
              "      <td>-0.955774</td>\n",
              "      <td>0.526725</td>\n",
              "      <td>-0.327283</td>\n",
              "      <td>four</td>\n",
              "    </tr>\n",
              "    <tr>\n",
              "      <th>2013-01-06</th>\n",
              "      <td>0.589594</td>\n",
              "      <td>1.658637</td>\n",
              "      <td>0.712922</td>\n",
              "      <td>-1.008004</td>\n",
              "      <td>three</td>\n",
              "    </tr>\n",
              "  </tbody>\n",
              "</table>\n",
              "</div>"
            ],
            "text/plain": [
              "                   A         B         C         D      E\n",
              "2013-01-01  0.623240 -0.823150  0.114721  0.138187    one\n",
              "2013-01-02  0.396768  0.954685 -0.554590  0.130949    one\n",
              "2013-01-03 -0.458382 -1.073632  0.142508  0.845754    two\n",
              "2013-01-04  1.411706 -0.257259  0.236115 -0.834553  three\n",
              "2013-01-05 -1.657140 -0.955774  0.526725 -0.327283   four\n",
              "2013-01-06  0.589594  1.658637  0.712922 -1.008004  three"
            ]
          },
          "metadata": {
            "tags": []
          },
          "execution_count": 34
        }
      ]
    },
    {
      "cell_type": "code",
      "metadata": {
        "id": "gLUFYRZUPnb9",
        "colab_type": "code",
        "colab": {
          "base_uri": "https://localhost:8080/",
          "height": 136
        },
        "outputId": "889da0fe-07f7-4dae-c865-e84738f255f3"
      },
      "source": [
        "df2['E'].isin(['two','four'])\n",
        "\n",
        "# E컬럼에서 two, four가 있는지 조건을 걸고 싶을 때 inin 명령 사용"
      ],
      "execution_count": 35,
      "outputs": [
        {
          "output_type": "execute_result",
          "data": {
            "text/plain": [
              "2013-01-01    False\n",
              "2013-01-02    False\n",
              "2013-01-03     True\n",
              "2013-01-04    False\n",
              "2013-01-05     True\n",
              "2013-01-06    False\n",
              "Freq: D, Name: E, dtype: bool"
            ]
          },
          "metadata": {
            "tags": []
          },
          "execution_count": 35
        }
      ]
    },
    {
      "cell_type": "code",
      "metadata": {
        "id": "hViqBULfP_Bk",
        "colab_type": "code",
        "colab": {
          "base_uri": "https://localhost:8080/",
          "height": 111
        },
        "outputId": "ea30c5e7-4a51-4b2d-eb61-00e39037ffff"
      },
      "source": [
        "df2[df2['E'].isin(['two','four'])]\n",
        "\n",
        "# 결과는 True/False로 반환되는데, 이것을 이용하면 조건에 맞는 데이터를 선택할 수 있음"
      ],
      "execution_count": 36,
      "outputs": [
        {
          "output_type": "execute_result",
          "data": {
            "text/html": [
              "<div>\n",
              "<style scoped>\n",
              "    .dataframe tbody tr th:only-of-type {\n",
              "        vertical-align: middle;\n",
              "    }\n",
              "\n",
              "    .dataframe tbody tr th {\n",
              "        vertical-align: top;\n",
              "    }\n",
              "\n",
              "    .dataframe thead th {\n",
              "        text-align: right;\n",
              "    }\n",
              "</style>\n",
              "<table border=\"1\" class=\"dataframe\">\n",
              "  <thead>\n",
              "    <tr style=\"text-align: right;\">\n",
              "      <th></th>\n",
              "      <th>A</th>\n",
              "      <th>B</th>\n",
              "      <th>C</th>\n",
              "      <th>D</th>\n",
              "      <th>E</th>\n",
              "    </tr>\n",
              "  </thead>\n",
              "  <tbody>\n",
              "    <tr>\n",
              "      <th>2013-01-03</th>\n",
              "      <td>-0.458382</td>\n",
              "      <td>-1.073632</td>\n",
              "      <td>0.142508</td>\n",
              "      <td>0.845754</td>\n",
              "      <td>two</td>\n",
              "    </tr>\n",
              "    <tr>\n",
              "      <th>2013-01-05</th>\n",
              "      <td>-1.657140</td>\n",
              "      <td>-0.955774</td>\n",
              "      <td>0.526725</td>\n",
              "      <td>-0.327283</td>\n",
              "      <td>four</td>\n",
              "    </tr>\n",
              "  </tbody>\n",
              "</table>\n",
              "</div>"
            ],
            "text/plain": [
              "                   A         B         C         D     E\n",
              "2013-01-03 -0.458382 -1.073632  0.142508  0.845754   two\n",
              "2013-01-05 -1.657140 -0.955774  0.526725 -0.327283  four"
            ]
          },
          "metadata": {
            "tags": []
          },
          "execution_count": 36
        }
      ]
    },
    {
      "cell_type": "code",
      "metadata": {
        "id": "xOCSZUh5QeM-",
        "colab_type": "code",
        "colab": {
          "base_uri": "https://localhost:8080/",
          "height": 235
        },
        "outputId": "92baae58-7f75-48ef-8ff7-6738babe5b0e"
      },
      "source": [
        "df"
      ],
      "execution_count": 37,
      "outputs": [
        {
          "output_type": "execute_result",
          "data": {
            "text/html": [
              "<div>\n",
              "<style scoped>\n",
              "    .dataframe tbody tr th:only-of-type {\n",
              "        vertical-align: middle;\n",
              "    }\n",
              "\n",
              "    .dataframe tbody tr th {\n",
              "        vertical-align: top;\n",
              "    }\n",
              "\n",
              "    .dataframe thead th {\n",
              "        text-align: right;\n",
              "    }\n",
              "</style>\n",
              "<table border=\"1\" class=\"dataframe\">\n",
              "  <thead>\n",
              "    <tr style=\"text-align: right;\">\n",
              "      <th></th>\n",
              "      <th>A</th>\n",
              "      <th>B</th>\n",
              "      <th>C</th>\n",
              "      <th>D</th>\n",
              "    </tr>\n",
              "  </thead>\n",
              "  <tbody>\n",
              "    <tr>\n",
              "      <th>2013-01-01</th>\n",
              "      <td>0.623240</td>\n",
              "      <td>-0.823150</td>\n",
              "      <td>0.114721</td>\n",
              "      <td>0.138187</td>\n",
              "    </tr>\n",
              "    <tr>\n",
              "      <th>2013-01-02</th>\n",
              "      <td>0.396768</td>\n",
              "      <td>0.954685</td>\n",
              "      <td>-0.554590</td>\n",
              "      <td>0.130949</td>\n",
              "    </tr>\n",
              "    <tr>\n",
              "      <th>2013-01-03</th>\n",
              "      <td>-0.458382</td>\n",
              "      <td>-1.073632</td>\n",
              "      <td>0.142508</td>\n",
              "      <td>0.845754</td>\n",
              "    </tr>\n",
              "    <tr>\n",
              "      <th>2013-01-04</th>\n",
              "      <td>1.411706</td>\n",
              "      <td>-0.257259</td>\n",
              "      <td>0.236115</td>\n",
              "      <td>-0.834553</td>\n",
              "    </tr>\n",
              "    <tr>\n",
              "      <th>2013-01-05</th>\n",
              "      <td>-1.657140</td>\n",
              "      <td>-0.955774</td>\n",
              "      <td>0.526725</td>\n",
              "      <td>-0.327283</td>\n",
              "    </tr>\n",
              "    <tr>\n",
              "      <th>2013-01-06</th>\n",
              "      <td>0.589594</td>\n",
              "      <td>1.658637</td>\n",
              "      <td>0.712922</td>\n",
              "      <td>-1.008004</td>\n",
              "    </tr>\n",
              "  </tbody>\n",
              "</table>\n",
              "</div>"
            ],
            "text/plain": [
              "                   A         B         C         D\n",
              "2013-01-01  0.623240 -0.823150  0.114721  0.138187\n",
              "2013-01-02  0.396768  0.954685 -0.554590  0.130949\n",
              "2013-01-03 -0.458382 -1.073632  0.142508  0.845754\n",
              "2013-01-04  1.411706 -0.257259  0.236115 -0.834553\n",
              "2013-01-05 -1.657140 -0.955774  0.526725 -0.327283\n",
              "2013-01-06  0.589594  1.658637  0.712922 -1.008004"
            ]
          },
          "metadata": {
            "tags": []
          },
          "execution_count": 37
        }
      ]
    },
    {
      "cell_type": "code",
      "metadata": {
        "id": "Xba9gA8MQxYO",
        "colab_type": "code",
        "colab": {
          "base_uri": "https://localhost:8080/",
          "height": 235
        },
        "outputId": "0d9537fe-2be7-4c59-f0a0-0f8b009caed8"
      },
      "source": [
        "df.apply(np.cumsum)\n",
        "\n",
        "# 누적합을 알고 싶을때 numpy의 cumsum을 사용"
      ],
      "execution_count": 38,
      "outputs": [
        {
          "output_type": "execute_result",
          "data": {
            "text/html": [
              "<div>\n",
              "<style scoped>\n",
              "    .dataframe tbody tr th:only-of-type {\n",
              "        vertical-align: middle;\n",
              "    }\n",
              "\n",
              "    .dataframe tbody tr th {\n",
              "        vertical-align: top;\n",
              "    }\n",
              "\n",
              "    .dataframe thead th {\n",
              "        text-align: right;\n",
              "    }\n",
              "</style>\n",
              "<table border=\"1\" class=\"dataframe\">\n",
              "  <thead>\n",
              "    <tr style=\"text-align: right;\">\n",
              "      <th></th>\n",
              "      <th>A</th>\n",
              "      <th>B</th>\n",
              "      <th>C</th>\n",
              "      <th>D</th>\n",
              "    </tr>\n",
              "  </thead>\n",
              "  <tbody>\n",
              "    <tr>\n",
              "      <th>2013-01-01</th>\n",
              "      <td>0.623240</td>\n",
              "      <td>-0.823150</td>\n",
              "      <td>0.114721</td>\n",
              "      <td>0.138187</td>\n",
              "    </tr>\n",
              "    <tr>\n",
              "      <th>2013-01-02</th>\n",
              "      <td>1.020008</td>\n",
              "      <td>0.131535</td>\n",
              "      <td>-0.439869</td>\n",
              "      <td>0.269137</td>\n",
              "    </tr>\n",
              "    <tr>\n",
              "      <th>2013-01-03</th>\n",
              "      <td>0.561626</td>\n",
              "      <td>-0.942097</td>\n",
              "      <td>-0.297361</td>\n",
              "      <td>1.114890</td>\n",
              "    </tr>\n",
              "    <tr>\n",
              "      <th>2013-01-04</th>\n",
              "      <td>1.973332</td>\n",
              "      <td>-1.199356</td>\n",
              "      <td>-0.061246</td>\n",
              "      <td>0.280337</td>\n",
              "    </tr>\n",
              "    <tr>\n",
              "      <th>2013-01-05</th>\n",
              "      <td>0.316192</td>\n",
              "      <td>-2.155129</td>\n",
              "      <td>0.465478</td>\n",
              "      <td>-0.046946</td>\n",
              "    </tr>\n",
              "    <tr>\n",
              "      <th>2013-01-06</th>\n",
              "      <td>0.905786</td>\n",
              "      <td>-0.496493</td>\n",
              "      <td>1.178400</td>\n",
              "      <td>-1.054949</td>\n",
              "    </tr>\n",
              "  </tbody>\n",
              "</table>\n",
              "</div>"
            ],
            "text/plain": [
              "                   A         B         C         D\n",
              "2013-01-01  0.623240 -0.823150  0.114721  0.138187\n",
              "2013-01-02  1.020008  0.131535 -0.439869  0.269137\n",
              "2013-01-03  0.561626 -0.942097 -0.297361  1.114890\n",
              "2013-01-04  1.973332 -1.199356 -0.061246  0.280337\n",
              "2013-01-05  0.316192 -2.155129  0.465478 -0.046946\n",
              "2013-01-06  0.905786 -0.496493  1.178400 -1.054949"
            ]
          },
          "metadata": {
            "tags": []
          },
          "execution_count": 38
        }
      ]
    },
    {
      "cell_type": "code",
      "metadata": {
        "id": "WIgff6ObQ16b",
        "colab_type": "code",
        "colab": {
          "base_uri": "https://localhost:8080/",
          "height": 102
        },
        "outputId": "279759e8-1d50-4acd-b548-cd378b4d9030"
      },
      "source": [
        "df.apply(lambda x: x.max() - x.min())\n",
        "\n",
        "# 최대값과 최소값의 차이(혹은 거리)확인"
      ],
      "execution_count": 40,
      "outputs": [
        {
          "output_type": "execute_result",
          "data": {
            "text/plain": [
              "A    3.068846\n",
              "B    2.732269\n",
              "C    1.267512\n",
              "D    1.853757\n",
              "dtype: float64"
            ]
          },
          "metadata": {
            "tags": []
          },
          "execution_count": 40
        }
      ]
    },
    {
      "cell_type": "code",
      "metadata": {
        "id": "UBxiR1A1peN5",
        "colab_type": "code",
        "colab": {}
      },
      "source": [
        ""
      ],
      "execution_count": 0,
      "outputs": []
    }
  ]
}