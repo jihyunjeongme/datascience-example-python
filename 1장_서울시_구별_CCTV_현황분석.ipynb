{
  "nbformat": 4,
  "nbformat_minor": 0,
  "metadata": {
    "colab": {
      "name": "1장 - 서울시 구별 CCTV 현황분석.ipynb",
      "version": "0.3.2",
      "provenance": [],
      "collapsed_sections": [],
      "include_colab_link": true
    },
    "kernelspec": {
      "name": "python3",
      "display_name": "Python 3"
    },
    "accelerator": "GPU"
  },
  "cells": [
    {
      "cell_type": "markdown",
      "metadata": {
        "id": "view-in-github",
        "colab_type": "text"
      },
      "source": [
        "<a href=\"https://colab.research.google.com/github/jihyunjeongme/datascience-example-python/blob/master/1%EC%9E%A5_%EC%84%9C%EC%9A%B8%EC%8B%9C_%EA%B5%AC%EB%B3%84_CCTV_%ED%98%84%ED%99%A9%EB%B6%84%EC%84%9D.ipynb\" target=\"_parent\"><img src=\"https://colab.research.google.com/assets/colab-badge.svg\" alt=\"Open In Colab\"/></a>"
      ]
    },
    {
      "cell_type": "code",
      "metadata": {
        "id": "NkyEiBgRdpLo",
        "colab_type": "code",
        "colab": {
          "base_uri": "https://localhost:8080/",
          "height": 122
        },
        "outputId": "f99ac233-a316-4d59-9af8-16b797ce73ce"
      },
      "source": [
        "from google.colab import drive\n",
        "\n",
        "drive.mount('/content/gdrive')"
      ],
      "execution_count": 1,
      "outputs": [
        {
          "output_type": "stream",
          "text": [
            "Go to this URL in a browser: https://accounts.google.com/o/oauth2/auth?client_id=947318989803-6bn6qk8qdgf4n4g3pfee6491hc0brc4i.apps.googleusercontent.com&redirect_uri=urn%3Aietf%3Awg%3Aoauth%3A2.0%3Aoob&scope=email%20https%3A%2F%2Fwww.googleapis.com%2Fauth%2Fdocs.test%20https%3A%2F%2Fwww.googleapis.com%2Fauth%2Fdrive%20https%3A%2F%2Fwww.googleapis.com%2Fauth%2Fdrive.photos.readonly%20https%3A%2F%2Fwww.googleapis.com%2Fauth%2Fpeopleapi.readonly&response_type=code\n",
            "\n",
            "Enter your authorization code:\n",
            "··········\n",
            "Mounted at /content/gdrive\n"
          ],
          "name": "stdout"
        }
      ]
    },
    {
      "cell_type": "code",
      "metadata": {
        "id": "1rrvHk9GdxNJ",
        "colab_type": "code",
        "colab": {}
      },
      "source": [
        "# 내 구글 드라이브에서 파일 가져옴"
      ],
      "execution_count": 0,
      "outputs": []
    },
    {
      "cell_type": "code",
      "metadata": {
        "id": "b-WxxJP4eTX1",
        "colab_type": "code",
        "colab": {
          "base_uri": "https://localhost:8080/",
          "height": 34
        },
        "outputId": "956579f0-52c3-4a9c-eff6-a8fa536ec47b"
      },
      "source": [
        "cd /content/gdrive/My Drive/Colab Notebooks/datascience/1. cctv_seoul"
      ],
      "execution_count": 8,
      "outputs": [
        {
          "output_type": "stream",
          "text": [
            "/content/gdrive/My Drive/Colab Notebooks/datascience/1. cctv_seoul\n"
          ],
          "name": "stdout"
        }
      ]
    },
    {
      "cell_type": "code",
      "metadata": {
        "id": "JF6dUnfKeVkI",
        "colab_type": "code",
        "colab": {
          "base_uri": "https://localhost:8080/",
          "height": 34
        },
        "outputId": "2272108a-36ed-4c06-e2b8-43116fd24c60"
      },
      "source": [
        "ls"
      ],
      "execution_count": 9,
      "outputs": [
        {
          "output_type": "stream",
          "text": [
            "CCTV_in_Seoul.csv  population_in_Seoul.xls\n"
          ],
          "name": "stdout"
        }
      ]
    },
    {
      "cell_type": "code",
      "metadata": {
        "id": "ZN-SmigTeZ7z",
        "colab_type": "code",
        "colab": {}
      },
      "source": [
        "import pandas as pd"
      ],
      "execution_count": 0,
      "outputs": []
    },
    {
      "cell_type": "code",
      "metadata": {
        "id": "Aqu5ur2jedKH",
        "colab_type": "code",
        "colab": {
          "base_uri": "https://localhost:8080/",
          "height": 204
        },
        "outputId": "db16f220-a559-4bf4-c651-c65aeec4c5bc"
      },
      "source": [
        "CCTV_Seoul = pd.read_csv('./CCTV_in_Seoul.csv', encoding='utf-8')\n",
        "CCTV_Seoul.head()"
      ],
      "execution_count": 13,
      "outputs": [
        {
          "output_type": "execute_result",
          "data": {
            "text/html": [
              "<div>\n",
              "<style scoped>\n",
              "    .dataframe tbody tr th:only-of-type {\n",
              "        vertical-align: middle;\n",
              "    }\n",
              "\n",
              "    .dataframe tbody tr th {\n",
              "        vertical-align: top;\n",
              "    }\n",
              "\n",
              "    .dataframe thead th {\n",
              "        text-align: right;\n",
              "    }\n",
              "</style>\n",
              "<table border=\"1\" class=\"dataframe\">\n",
              "  <thead>\n",
              "    <tr style=\"text-align: right;\">\n",
              "      <th></th>\n",
              "      <th>기관명</th>\n",
              "      <th>소계</th>\n",
              "      <th>2013년도 이전</th>\n",
              "      <th>2014년</th>\n",
              "      <th>2015년</th>\n",
              "      <th>2016년</th>\n",
              "    </tr>\n",
              "  </thead>\n",
              "  <tbody>\n",
              "    <tr>\n",
              "      <th>0</th>\n",
              "      <td>강남구</td>\n",
              "      <td>3238</td>\n",
              "      <td>1292</td>\n",
              "      <td>430</td>\n",
              "      <td>584</td>\n",
              "      <td>932</td>\n",
              "    </tr>\n",
              "    <tr>\n",
              "      <th>1</th>\n",
              "      <td>강동구</td>\n",
              "      <td>1010</td>\n",
              "      <td>379</td>\n",
              "      <td>99</td>\n",
              "      <td>155</td>\n",
              "      <td>377</td>\n",
              "    </tr>\n",
              "    <tr>\n",
              "      <th>2</th>\n",
              "      <td>강북구</td>\n",
              "      <td>831</td>\n",
              "      <td>369</td>\n",
              "      <td>120</td>\n",
              "      <td>138</td>\n",
              "      <td>204</td>\n",
              "    </tr>\n",
              "    <tr>\n",
              "      <th>3</th>\n",
              "      <td>강서구</td>\n",
              "      <td>911</td>\n",
              "      <td>388</td>\n",
              "      <td>258</td>\n",
              "      <td>184</td>\n",
              "      <td>81</td>\n",
              "    </tr>\n",
              "    <tr>\n",
              "      <th>4</th>\n",
              "      <td>관악구</td>\n",
              "      <td>2109</td>\n",
              "      <td>846</td>\n",
              "      <td>260</td>\n",
              "      <td>390</td>\n",
              "      <td>613</td>\n",
              "    </tr>\n",
              "  </tbody>\n",
              "</table>\n",
              "</div>"
            ],
            "text/plain": [
              "   기관명    소계  2013년도 이전  2014년  2015년  2016년\n",
              "0  강남구  3238       1292    430    584    932\n",
              "1  강동구  1010        379     99    155    377\n",
              "2  강북구   831        369    120    138    204\n",
              "3  강서구   911        388    258    184     81\n",
              "4  관악구  2109        846    260    390    613"
            ]
          },
          "metadata": {
            "tags": []
          },
          "execution_count": 13
        }
      ]
    },
    {
      "cell_type": "code",
      "metadata": {
        "id": "3aBSPcmveo6y",
        "colab_type": "code",
        "colab": {
          "base_uri": "https://localhost:8080/",
          "height": 34
        },
        "outputId": "2d0c3a62-2b19-4aa5-bcdf-821a4a81f0bf"
      },
      "source": [
        "CCTV_Seoul.columns"
      ],
      "execution_count": 14,
      "outputs": [
        {
          "output_type": "execute_result",
          "data": {
            "text/plain": [
              "Index(['기관명', '소계', '2013년도 이전', '2014년', '2015년', '2016년'], dtype='object')"
            ]
          },
          "metadata": {
            "tags": []
          },
          "execution_count": 14
        }
      ]
    },
    {
      "cell_type": "code",
      "metadata": {
        "id": "1kL3_Do3fJ5q",
        "colab_type": "code",
        "colab": {
          "base_uri": "https://localhost:8080/",
          "height": 34
        },
        "outputId": "9b0c8457-c3a2-4ece-8a48-2246f15923d2"
      },
      "source": [
        "CCTV_Seoul.columns[0]"
      ],
      "execution_count": 15,
      "outputs": [
        {
          "output_type": "execute_result",
          "data": {
            "text/plain": [
              "'기관명'"
            ]
          },
          "metadata": {
            "tags": []
          },
          "execution_count": 15
        }
      ]
    },
    {
      "cell_type": "code",
      "metadata": {
        "id": "PVv42YkLfMe0",
        "colab_type": "code",
        "colab": {
          "base_uri": "https://localhost:8080/",
          "height": 204
        },
        "outputId": "719953e6-2933-40a2-c7cd-96e04c7a6a2b"
      },
      "source": [
        "CCTV_Seoul.rename(columns={CCTV_Seoul.columns[0]: \"구별\"}, inplace=True)\n",
        "CCTV_Seoul.head()"
      ],
      "execution_count": 17,
      "outputs": [
        {
          "output_type": "execute_result",
          "data": {
            "text/html": [
              "<div>\n",
              "<style scoped>\n",
              "    .dataframe tbody tr th:only-of-type {\n",
              "        vertical-align: middle;\n",
              "    }\n",
              "\n",
              "    .dataframe tbody tr th {\n",
              "        vertical-align: top;\n",
              "    }\n",
              "\n",
              "    .dataframe thead th {\n",
              "        text-align: right;\n",
              "    }\n",
              "</style>\n",
              "<table border=\"1\" class=\"dataframe\">\n",
              "  <thead>\n",
              "    <tr style=\"text-align: right;\">\n",
              "      <th></th>\n",
              "      <th>구별</th>\n",
              "      <th>소계</th>\n",
              "      <th>2013년도 이전</th>\n",
              "      <th>2014년</th>\n",
              "      <th>2015년</th>\n",
              "      <th>2016년</th>\n",
              "    </tr>\n",
              "  </thead>\n",
              "  <tbody>\n",
              "    <tr>\n",
              "      <th>0</th>\n",
              "      <td>강남구</td>\n",
              "      <td>3238</td>\n",
              "      <td>1292</td>\n",
              "      <td>430</td>\n",
              "      <td>584</td>\n",
              "      <td>932</td>\n",
              "    </tr>\n",
              "    <tr>\n",
              "      <th>1</th>\n",
              "      <td>강동구</td>\n",
              "      <td>1010</td>\n",
              "      <td>379</td>\n",
              "      <td>99</td>\n",
              "      <td>155</td>\n",
              "      <td>377</td>\n",
              "    </tr>\n",
              "    <tr>\n",
              "      <th>2</th>\n",
              "      <td>강북구</td>\n",
              "      <td>831</td>\n",
              "      <td>369</td>\n",
              "      <td>120</td>\n",
              "      <td>138</td>\n",
              "      <td>204</td>\n",
              "    </tr>\n",
              "    <tr>\n",
              "      <th>3</th>\n",
              "      <td>강서구</td>\n",
              "      <td>911</td>\n",
              "      <td>388</td>\n",
              "      <td>258</td>\n",
              "      <td>184</td>\n",
              "      <td>81</td>\n",
              "    </tr>\n",
              "    <tr>\n",
              "      <th>4</th>\n",
              "      <td>관악구</td>\n",
              "      <td>2109</td>\n",
              "      <td>846</td>\n",
              "      <td>260</td>\n",
              "      <td>390</td>\n",
              "      <td>613</td>\n",
              "    </tr>\n",
              "  </tbody>\n",
              "</table>\n",
              "</div>"
            ],
            "text/plain": [
              "    구별    소계  2013년도 이전  2014년  2015년  2016년\n",
              "0  강남구  3238       1292    430    584    932\n",
              "1  강동구  1010        379     99    155    377\n",
              "2  강북구   831        369    120    138    204\n",
              "3  강서구   911        388    258    184     81\n",
              "4  관악구  2109        846    260    390    613"
            ]
          },
          "metadata": {
            "tags": []
          },
          "execution_count": 17
        }
      ]
    },
    {
      "cell_type": "code",
      "metadata": {
        "id": "dyCzhHFffuch",
        "colab_type": "code",
        "colab": {}
      },
      "source": [
        "# 이제 엑셀 파일을 읽어오겠습니다."
      ],
      "execution_count": 0,
      "outputs": []
    },
    {
      "cell_type": "code",
      "metadata": {
        "id": "CaDFHFC6gMbE",
        "colab_type": "code",
        "colab": {
          "base_uri": "https://localhost:8080/",
          "height": 394
        },
        "outputId": "443c3c73-cf87-4b5c-f034-d05682fbd94a"
      },
      "source": [
        "pop_Seoul = pd.read_excel('./population_in_Seoul.xls', encoding='utf-8')\n",
        "pop_Seoul.head()"
      ],
      "execution_count": 21,
      "outputs": [
        {
          "output_type": "execute_result",
          "data": {
            "text/html": [
              "<div>\n",
              "<style scoped>\n",
              "    .dataframe tbody tr th:only-of-type {\n",
              "        vertical-align: middle;\n",
              "    }\n",
              "\n",
              "    .dataframe tbody tr th {\n",
              "        vertical-align: top;\n",
              "    }\n",
              "\n",
              "    .dataframe thead th {\n",
              "        text-align: right;\n",
              "    }\n",
              "</style>\n",
              "<table border=\"1\" class=\"dataframe\">\n",
              "  <thead>\n",
              "    <tr style=\"text-align: right;\">\n",
              "      <th></th>\n",
              "      <th>기간</th>\n",
              "      <th>자치구</th>\n",
              "      <th>세대</th>\n",
              "      <th>인구</th>\n",
              "      <th>인구.1</th>\n",
              "      <th>인구.2</th>\n",
              "      <th>인구.3</th>\n",
              "      <th>인구.4</th>\n",
              "      <th>인구.5</th>\n",
              "      <th>인구.6</th>\n",
              "      <th>인구.7</th>\n",
              "      <th>인구.8</th>\n",
              "      <th>세대당인구</th>\n",
              "      <th>65세이상고령자</th>\n",
              "    </tr>\n",
              "  </thead>\n",
              "  <tbody>\n",
              "    <tr>\n",
              "      <th>0</th>\n",
              "      <td>기간</td>\n",
              "      <td>자치구</td>\n",
              "      <td>세대</td>\n",
              "      <td>합계</td>\n",
              "      <td>합계</td>\n",
              "      <td>합계</td>\n",
              "      <td>한국인</td>\n",
              "      <td>한국인</td>\n",
              "      <td>한국인</td>\n",
              "      <td>등록외국인</td>\n",
              "      <td>등록외국인</td>\n",
              "      <td>등록외국인</td>\n",
              "      <td>세대당인구</td>\n",
              "      <td>65세이상고령자</td>\n",
              "    </tr>\n",
              "    <tr>\n",
              "      <th>1</th>\n",
              "      <td>기간</td>\n",
              "      <td>자치구</td>\n",
              "      <td>세대</td>\n",
              "      <td>계</td>\n",
              "      <td>남자</td>\n",
              "      <td>여자</td>\n",
              "      <td>계</td>\n",
              "      <td>남자</td>\n",
              "      <td>여자</td>\n",
              "      <td>계</td>\n",
              "      <td>남자</td>\n",
              "      <td>여자</td>\n",
              "      <td>세대당인구</td>\n",
              "      <td>65세이상고령자</td>\n",
              "    </tr>\n",
              "    <tr>\n",
              "      <th>2</th>\n",
              "      <td>2018</td>\n",
              "      <td>합계</td>\n",
              "      <td>4263868</td>\n",
              "      <td>10049607</td>\n",
              "      <td>4910849</td>\n",
              "      <td>5138758</td>\n",
              "      <td>9765623</td>\n",
              "      <td>4773899</td>\n",
              "      <td>4991724</td>\n",
              "      <td>283984</td>\n",
              "      <td>136950</td>\n",
              "      <td>147034</td>\n",
              "      <td>2.29</td>\n",
              "      <td>1416131</td>\n",
              "    </tr>\n",
              "    <tr>\n",
              "      <th>3</th>\n",
              "      <td>2018</td>\n",
              "      <td>종로구</td>\n",
              "      <td>73735</td>\n",
              "      <td>163026</td>\n",
              "      <td>79156</td>\n",
              "      <td>83870</td>\n",
              "      <td>153065</td>\n",
              "      <td>74825</td>\n",
              "      <td>78240</td>\n",
              "      <td>9961</td>\n",
              "      <td>4331</td>\n",
              "      <td>5630</td>\n",
              "      <td>2.08</td>\n",
              "      <td>26742</td>\n",
              "    </tr>\n",
              "    <tr>\n",
              "      <th>4</th>\n",
              "      <td>2018</td>\n",
              "      <td>중구</td>\n",
              "      <td>61502</td>\n",
              "      <td>135633</td>\n",
              "      <td>66674</td>\n",
              "      <td>68959</td>\n",
              "      <td>125725</td>\n",
              "      <td>61947</td>\n",
              "      <td>63778</td>\n",
              "      <td>9908</td>\n",
              "      <td>4727</td>\n",
              "      <td>5181</td>\n",
              "      <td>2.04</td>\n",
              "      <td>22005</td>\n",
              "    </tr>\n",
              "  </tbody>\n",
              "</table>\n",
              "</div>"
            ],
            "text/plain": [
              "     기간  자치구       세대        인구     인구.1     인구.2     인구.3     인구.4     인구.5  \\\n",
              "0    기간  자치구       세대        합계       합계       합계      한국인      한국인      한국인   \n",
              "1    기간  자치구       세대         계       남자       여자        계       남자       여자   \n",
              "2  2018   합계  4263868  10049607  4910849  5138758  9765623  4773899  4991724   \n",
              "3  2018  종로구    73735    163026    79156    83870   153065    74825    78240   \n",
              "4  2018   중구    61502    135633    66674    68959   125725    61947    63778   \n",
              "\n",
              "     인구.6    인구.7    인구.8  세대당인구  65세이상고령자  \n",
              "0   등록외국인   등록외국인   등록외국인  세대당인구  65세이상고령자  \n",
              "1       계      남자      여자  세대당인구  65세이상고령자  \n",
              "2  283984  136950  147034   2.29   1416131  \n",
              "3    9961    4331    5630   2.08     26742  \n",
              "4    9908    4727    5181   2.04     22005  "
            ]
          },
          "metadata": {
            "tags": []
          },
          "execution_count": 21
        }
      ]
    },
    {
      "cell_type": "code",
      "metadata": {
        "id": "su7eNGQxhi4L",
        "colab_type": "code",
        "colab": {}
      },
      "source": [
        ""
      ],
      "execution_count": 0,
      "outputs": []
    }
  ]
}