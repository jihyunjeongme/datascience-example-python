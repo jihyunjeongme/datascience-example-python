{
  "nbformat": 4,
  "nbformat_minor": 0,
  "metadata": {
    "colab": {
      "name": "1장 - 서울시 구별 CCTV 현황분석.ipynb",
      "version": "0.3.2",
      "provenance": [],
      "collapsed_sections": [],
      "include_colab_link": true
    },
    "kernelspec": {
      "name": "python3",
      "display_name": "Python 3"
    },
    "accelerator": "GPU"
  },
  "cells": [
    {
      "cell_type": "markdown",
      "metadata": {
        "id": "view-in-github",
        "colab_type": "text"
      },
      "source": [
        "<a href=\"https://colab.research.google.com/github/jihyunjeongme/datascience-example-python/blob/master/1%EC%9E%A5_%EC%84%9C%EC%9A%B8%EC%8B%9C_%EA%B5%AC%EB%B3%84_CCTV_%ED%98%84%ED%99%A9%EB%B6%84%EC%84%9D.ipynb\" target=\"_parent\"><img src=\"https://colab.research.google.com/assets/colab-badge.svg\" alt=\"Open In Colab\"/></a>"
      ]
    },
    {
      "cell_type": "code",
      "metadata": {
        "id": "NkyEiBgRdpLo",
        "colab_type": "code",
        "outputId": "1613d889-fa0c-41e6-ef19-70622aa9d088",
        "colab": {
          "base_uri": "https://localhost:8080/",
          "height": 122
        }
      },
      "source": [
        "from google.colab import drive\n",
        "\n",
        "drive.mount('/content/gdrive')"
      ],
      "execution_count": 0,
      "outputs": [
        {
          "output_type": "stream",
          "text": [
            "Go to this URL in a browser: https://accounts.google.com/o/oauth2/auth?client_id=947318989803-6bn6qk8qdgf4n4g3pfee6491hc0brc4i.apps.googleusercontent.com&redirect_uri=urn%3Aietf%3Awg%3Aoauth%3A2.0%3Aoob&scope=email%20https%3A%2F%2Fwww.googleapis.com%2Fauth%2Fdocs.test%20https%3A%2F%2Fwww.googleapis.com%2Fauth%2Fdrive%20https%3A%2F%2Fwww.googleapis.com%2Fauth%2Fdrive.photos.readonly%20https%3A%2F%2Fwww.googleapis.com%2Fauth%2Fpeopleapi.readonly&response_type=code\n",
            "\n",
            "Enter your authorization code:\n",
            "··········\n",
            "Mounted at /content/gdrive\n"
          ],
          "name": "stdout"
        }
      ]
    },
    {
      "cell_type": "code",
      "metadata": {
        "id": "1rrvHk9GdxNJ",
        "colab_type": "code",
        "colab": {}
      },
      "source": [
        "# 내 구글 드라이브에서 파일 가져옴"
      ],
      "execution_count": 0,
      "outputs": []
    },
    {
      "cell_type": "code",
      "metadata": {
        "id": "b-WxxJP4eTX1",
        "colab_type": "code",
        "outputId": "7657bf96-73b5-4bef-a6bc-cc9c01f734fd",
        "colab": {
          "base_uri": "https://localhost:8080/",
          "height": 34
        }
      },
      "source": [
        "cd /content/gdrive/My Drive/Colab Notebooks/datascience/1. cctv_seoul"
      ],
      "execution_count": 0,
      "outputs": [
        {
          "output_type": "stream",
          "text": [
            "/content/gdrive/My Drive/Colab Notebooks/datascience/1. cctv_seoul\n"
          ],
          "name": "stdout"
        }
      ]
    },
    {
      "cell_type": "code",
      "metadata": {
        "id": "JF6dUnfKeVkI",
        "colab_type": "code",
        "outputId": "d5422ea3-cf7e-4674-ae63-de3c8f4e6313",
        "colab": {
          "base_uri": "https://localhost:8080/",
          "height": 34
        }
      },
      "source": [
        "ls"
      ],
      "execution_count": 0,
      "outputs": [
        {
          "output_type": "stream",
          "text": [
            "CCTV_in_Seoul.csv  population_in_Seoul.xls\n"
          ],
          "name": "stdout"
        }
      ]
    },
    {
      "cell_type": "code",
      "metadata": {
        "id": "ZN-SmigTeZ7z",
        "colab_type": "code",
        "colab": {}
      },
      "source": [
        "import pandas as pd\n",
        "import numpy as np\n"
      ],
      "execution_count": 0,
      "outputs": []
    },
    {
      "cell_type": "code",
      "metadata": {
        "id": "Aqu5ur2jedKH",
        "colab_type": "code",
        "outputId": "3efaafee-88f1-4a6b-9c61-1b4e3d78f58d",
        "colab": {
          "base_uri": "https://localhost:8080/",
          "height": 204
        }
      },
      "source": [
        "CCTV_Seoul = pd.read_csv('./CCTV_in_Seoul.csv', encoding='utf-8')\n",
        "CCTV_Seoul.head()"
      ],
      "execution_count": 0,
      "outputs": [
        {
          "output_type": "execute_result",
          "data": {
            "text/html": [
              "<div>\n",
              "<style scoped>\n",
              "    .dataframe tbody tr th:only-of-type {\n",
              "        vertical-align: middle;\n",
              "    }\n",
              "\n",
              "    .dataframe tbody tr th {\n",
              "        vertical-align: top;\n",
              "    }\n",
              "\n",
              "    .dataframe thead th {\n",
              "        text-align: right;\n",
              "    }\n",
              "</style>\n",
              "<table border=\"1\" class=\"dataframe\">\n",
              "  <thead>\n",
              "    <tr style=\"text-align: right;\">\n",
              "      <th></th>\n",
              "      <th>기관명</th>\n",
              "      <th>소계</th>\n",
              "      <th>2013년도 이전</th>\n",
              "      <th>2014년</th>\n",
              "      <th>2015년</th>\n",
              "      <th>2016년</th>\n",
              "    </tr>\n",
              "  </thead>\n",
              "  <tbody>\n",
              "    <tr>\n",
              "      <th>0</th>\n",
              "      <td>강남구</td>\n",
              "      <td>3238</td>\n",
              "      <td>1292</td>\n",
              "      <td>430</td>\n",
              "      <td>584</td>\n",
              "      <td>932</td>\n",
              "    </tr>\n",
              "    <tr>\n",
              "      <th>1</th>\n",
              "      <td>강동구</td>\n",
              "      <td>1010</td>\n",
              "      <td>379</td>\n",
              "      <td>99</td>\n",
              "      <td>155</td>\n",
              "      <td>377</td>\n",
              "    </tr>\n",
              "    <tr>\n",
              "      <th>2</th>\n",
              "      <td>강북구</td>\n",
              "      <td>831</td>\n",
              "      <td>369</td>\n",
              "      <td>120</td>\n",
              "      <td>138</td>\n",
              "      <td>204</td>\n",
              "    </tr>\n",
              "    <tr>\n",
              "      <th>3</th>\n",
              "      <td>강서구</td>\n",
              "      <td>911</td>\n",
              "      <td>388</td>\n",
              "      <td>258</td>\n",
              "      <td>184</td>\n",
              "      <td>81</td>\n",
              "    </tr>\n",
              "    <tr>\n",
              "      <th>4</th>\n",
              "      <td>관악구</td>\n",
              "      <td>2109</td>\n",
              "      <td>846</td>\n",
              "      <td>260</td>\n",
              "      <td>390</td>\n",
              "      <td>613</td>\n",
              "    </tr>\n",
              "  </tbody>\n",
              "</table>\n",
              "</div>"
            ],
            "text/plain": [
              "   기관명    소계  2013년도 이전  2014년  2015년  2016년\n",
              "0  강남구  3238       1292    430    584    932\n",
              "1  강동구  1010        379     99    155    377\n",
              "2  강북구   831        369    120    138    204\n",
              "3  강서구   911        388    258    184     81\n",
              "4  관악구  2109        846    260    390    613"
            ]
          },
          "metadata": {
            "tags": []
          },
          "execution_count": 6
        }
      ]
    },
    {
      "cell_type": "code",
      "metadata": {
        "id": "3aBSPcmveo6y",
        "colab_type": "code",
        "outputId": "adb853e2-f643-4a9b-fc74-acba0f755ee0",
        "colab": {
          "base_uri": "https://localhost:8080/",
          "height": 34
        }
      },
      "source": [
        "CCTV_Seoul.columns"
      ],
      "execution_count": 0,
      "outputs": [
        {
          "output_type": "execute_result",
          "data": {
            "text/plain": [
              "Index(['기관명', '소계', '2013년도 이전', '2014년', '2015년', '2016년'], dtype='object')"
            ]
          },
          "metadata": {
            "tags": []
          },
          "execution_count": 7
        }
      ]
    },
    {
      "cell_type": "code",
      "metadata": {
        "id": "1kL3_Do3fJ5q",
        "colab_type": "code",
        "outputId": "69d100f8-16da-4c1d-a4fb-20427645be69",
        "colab": {
          "base_uri": "https://localhost:8080/",
          "height": 34
        }
      },
      "source": [
        "CCTV_Seoul.columns[0]"
      ],
      "execution_count": 0,
      "outputs": [
        {
          "output_type": "execute_result",
          "data": {
            "text/plain": [
              "'기관명'"
            ]
          },
          "metadata": {
            "tags": []
          },
          "execution_count": 8
        }
      ]
    },
    {
      "cell_type": "code",
      "metadata": {
        "id": "PVv42YkLfMe0",
        "colab_type": "code",
        "outputId": "bb6b148b-85db-48db-9298-4575c40dacef",
        "colab": {
          "base_uri": "https://localhost:8080/",
          "height": 204
        }
      },
      "source": [
        "CCTV_Seoul.rename(columns={CCTV_Seoul.columns[0]: \"구별\"}, inplace=True)\n",
        "CCTV_Seoul.head()"
      ],
      "execution_count": 0,
      "outputs": [
        {
          "output_type": "execute_result",
          "data": {
            "text/html": [
              "<div>\n",
              "<style scoped>\n",
              "    .dataframe tbody tr th:only-of-type {\n",
              "        vertical-align: middle;\n",
              "    }\n",
              "\n",
              "    .dataframe tbody tr th {\n",
              "        vertical-align: top;\n",
              "    }\n",
              "\n",
              "    .dataframe thead th {\n",
              "        text-align: right;\n",
              "    }\n",
              "</style>\n",
              "<table border=\"1\" class=\"dataframe\">\n",
              "  <thead>\n",
              "    <tr style=\"text-align: right;\">\n",
              "      <th></th>\n",
              "      <th>구별</th>\n",
              "      <th>소계</th>\n",
              "      <th>2013년도 이전</th>\n",
              "      <th>2014년</th>\n",
              "      <th>2015년</th>\n",
              "      <th>2016년</th>\n",
              "    </tr>\n",
              "  </thead>\n",
              "  <tbody>\n",
              "    <tr>\n",
              "      <th>0</th>\n",
              "      <td>강남구</td>\n",
              "      <td>3238</td>\n",
              "      <td>1292</td>\n",
              "      <td>430</td>\n",
              "      <td>584</td>\n",
              "      <td>932</td>\n",
              "    </tr>\n",
              "    <tr>\n",
              "      <th>1</th>\n",
              "      <td>강동구</td>\n",
              "      <td>1010</td>\n",
              "      <td>379</td>\n",
              "      <td>99</td>\n",
              "      <td>155</td>\n",
              "      <td>377</td>\n",
              "    </tr>\n",
              "    <tr>\n",
              "      <th>2</th>\n",
              "      <td>강북구</td>\n",
              "      <td>831</td>\n",
              "      <td>369</td>\n",
              "      <td>120</td>\n",
              "      <td>138</td>\n",
              "      <td>204</td>\n",
              "    </tr>\n",
              "    <tr>\n",
              "      <th>3</th>\n",
              "      <td>강서구</td>\n",
              "      <td>911</td>\n",
              "      <td>388</td>\n",
              "      <td>258</td>\n",
              "      <td>184</td>\n",
              "      <td>81</td>\n",
              "    </tr>\n",
              "    <tr>\n",
              "      <th>4</th>\n",
              "      <td>관악구</td>\n",
              "      <td>2109</td>\n",
              "      <td>846</td>\n",
              "      <td>260</td>\n",
              "      <td>390</td>\n",
              "      <td>613</td>\n",
              "    </tr>\n",
              "  </tbody>\n",
              "</table>\n",
              "</div>"
            ],
            "text/plain": [
              "    구별    소계  2013년도 이전  2014년  2015년  2016년\n",
              "0  강남구  3238       1292    430    584    932\n",
              "1  강동구  1010        379     99    155    377\n",
              "2  강북구   831        369    120    138    204\n",
              "3  강서구   911        388    258    184     81\n",
              "4  관악구  2109        846    260    390    613"
            ]
          },
          "metadata": {
            "tags": []
          },
          "execution_count": 9
        }
      ]
    },
    {
      "cell_type": "code",
      "metadata": {
        "id": "dyCzhHFffuch",
        "colab_type": "code",
        "colab": {}
      },
      "source": [
        "# 이제 엑셀 파일을 읽어오겠습니다."
      ],
      "execution_count": 0,
      "outputs": []
    },
    {
      "cell_type": "code",
      "metadata": {
        "id": "CaDFHFC6gMbE",
        "colab_type": "code",
        "outputId": "d773266c-534e-4441-e46e-38a2a5f671b4",
        "colab": {
          "base_uri": "https://localhost:8080/",
          "height": 272
        }
      },
      "source": [
        "pop_Seoul = pd.read_excel('./population_in_Seoul.xls', encoding='utf-8')\n",
        "pop_Seoul.head()"
      ],
      "execution_count": 0,
      "outputs": [
        {
          "output_type": "execute_result",
          "data": {
            "text/html": [
              "<div>\n",
              "<style scoped>\n",
              "    .dataframe tbody tr th:only-of-type {\n",
              "        vertical-align: middle;\n",
              "    }\n",
              "\n",
              "    .dataframe tbody tr th {\n",
              "        vertical-align: top;\n",
              "    }\n",
              "\n",
              "    .dataframe thead th {\n",
              "        text-align: right;\n",
              "    }\n",
              "</style>\n",
              "<table border=\"1\" class=\"dataframe\">\n",
              "  <thead>\n",
              "    <tr style=\"text-align: right;\">\n",
              "      <th></th>\n",
              "      <th>기간</th>\n",
              "      <th>자치구</th>\n",
              "      <th>세대</th>\n",
              "      <th>인구</th>\n",
              "      <th>인구.1</th>\n",
              "      <th>인구.2</th>\n",
              "      <th>인구.3</th>\n",
              "      <th>인구.4</th>\n",
              "      <th>인구.5</th>\n",
              "      <th>인구.6</th>\n",
              "      <th>인구.7</th>\n",
              "      <th>인구.8</th>\n",
              "      <th>세대당인구</th>\n",
              "      <th>65세이상고령자</th>\n",
              "    </tr>\n",
              "  </thead>\n",
              "  <tbody>\n",
              "    <tr>\n",
              "      <th>0</th>\n",
              "      <td>기간</td>\n",
              "      <td>자치구</td>\n",
              "      <td>세대</td>\n",
              "      <td>합계</td>\n",
              "      <td>합계</td>\n",
              "      <td>합계</td>\n",
              "      <td>한국인</td>\n",
              "      <td>한국인</td>\n",
              "      <td>한국인</td>\n",
              "      <td>등록외국인</td>\n",
              "      <td>등록외국인</td>\n",
              "      <td>등록외국인</td>\n",
              "      <td>세대당인구</td>\n",
              "      <td>65세이상고령자</td>\n",
              "    </tr>\n",
              "    <tr>\n",
              "      <th>1</th>\n",
              "      <td>기간</td>\n",
              "      <td>자치구</td>\n",
              "      <td>세대</td>\n",
              "      <td>계</td>\n",
              "      <td>남자</td>\n",
              "      <td>여자</td>\n",
              "      <td>계</td>\n",
              "      <td>남자</td>\n",
              "      <td>여자</td>\n",
              "      <td>계</td>\n",
              "      <td>남자</td>\n",
              "      <td>여자</td>\n",
              "      <td>세대당인구</td>\n",
              "      <td>65세이상고령자</td>\n",
              "    </tr>\n",
              "    <tr>\n",
              "      <th>2</th>\n",
              "      <td>2018</td>\n",
              "      <td>합계</td>\n",
              "      <td>4263868</td>\n",
              "      <td>10049607</td>\n",
              "      <td>4910849</td>\n",
              "      <td>5138758</td>\n",
              "      <td>9765623</td>\n",
              "      <td>4773899</td>\n",
              "      <td>4991724</td>\n",
              "      <td>283984</td>\n",
              "      <td>136950</td>\n",
              "      <td>147034</td>\n",
              "      <td>2.29</td>\n",
              "      <td>1416131</td>\n",
              "    </tr>\n",
              "    <tr>\n",
              "      <th>3</th>\n",
              "      <td>2018</td>\n",
              "      <td>종로구</td>\n",
              "      <td>73735</td>\n",
              "      <td>163026</td>\n",
              "      <td>79156</td>\n",
              "      <td>83870</td>\n",
              "      <td>153065</td>\n",
              "      <td>74825</td>\n",
              "      <td>78240</td>\n",
              "      <td>9961</td>\n",
              "      <td>4331</td>\n",
              "      <td>5630</td>\n",
              "      <td>2.08</td>\n",
              "      <td>26742</td>\n",
              "    </tr>\n",
              "    <tr>\n",
              "      <th>4</th>\n",
              "      <td>2018</td>\n",
              "      <td>중구</td>\n",
              "      <td>61502</td>\n",
              "      <td>135633</td>\n",
              "      <td>66674</td>\n",
              "      <td>68959</td>\n",
              "      <td>125725</td>\n",
              "      <td>61947</td>\n",
              "      <td>63778</td>\n",
              "      <td>9908</td>\n",
              "      <td>4727</td>\n",
              "      <td>5181</td>\n",
              "      <td>2.04</td>\n",
              "      <td>22005</td>\n",
              "    </tr>\n",
              "  </tbody>\n",
              "</table>\n",
              "</div>"
            ],
            "text/plain": [
              "     기간  자치구       세대        인구     인구.1     인구.2     인구.3     인구.4     인구.5  \\\n",
              "0    기간  자치구       세대        합계       합계       합계      한국인      한국인      한국인   \n",
              "1    기간  자치구       세대         계       남자       여자        계       남자       여자   \n",
              "2  2018   합계  4263868  10049607  4910849  5138758  9765623  4773899  4991724   \n",
              "3  2018  종로구    73735    163026    79156    83870   153065    74825    78240   \n",
              "4  2018   중구    61502    135633    66674    68959   125725    61947    63778   \n",
              "\n",
              "     인구.6    인구.7    인구.8  세대당인구  65세이상고령자  \n",
              "0   등록외국인   등록외국인   등록외국인  세대당인구  65세이상고령자  \n",
              "1       계      남자      여자  세대당인구  65세이상고령자  \n",
              "2  283984  136950  147034   2.29   1416131  \n",
              "3    9961    4331    5630   2.08     26742  \n",
              "4    9908    4727    5181   2.04     22005  "
            ]
          },
          "metadata": {
            "tags": []
          },
          "execution_count": 11
        }
      ]
    },
    {
      "cell_type": "code",
      "metadata": {
        "id": "su7eNGQxhi4L",
        "colab_type": "code",
        "outputId": "49164978-0272-41a1-a0f7-c6a9c1de187b",
        "colab": {
          "base_uri": "https://localhost:8080/",
          "height": 204
        }
      },
      "source": [
        "pop_Seoul = pd.read_excel('./population_in_Seoul.xls',\n",
        "                         header = 2,\n",
        "                         usecols = 'B, D, G, J, N',\n",
        "                         encoding='utf-8')\n",
        "pop_Seoul.head()"
      ],
      "execution_count": 0,
      "outputs": [
        {
          "output_type": "execute_result",
          "data": {
            "text/html": [
              "<div>\n",
              "<style scoped>\n",
              "    .dataframe tbody tr th:only-of-type {\n",
              "        vertical-align: middle;\n",
              "    }\n",
              "\n",
              "    .dataframe tbody tr th {\n",
              "        vertical-align: top;\n",
              "    }\n",
              "\n",
              "    .dataframe thead th {\n",
              "        text-align: right;\n",
              "    }\n",
              "</style>\n",
              "<table border=\"1\" class=\"dataframe\">\n",
              "  <thead>\n",
              "    <tr style=\"text-align: right;\">\n",
              "      <th></th>\n",
              "      <th>자치구</th>\n",
              "      <th>계</th>\n",
              "      <th>계.1</th>\n",
              "      <th>계.2</th>\n",
              "      <th>65세이상고령자</th>\n",
              "    </tr>\n",
              "  </thead>\n",
              "  <tbody>\n",
              "    <tr>\n",
              "      <th>0</th>\n",
              "      <td>합계</td>\n",
              "      <td>10049607</td>\n",
              "      <td>9765623</td>\n",
              "      <td>283984</td>\n",
              "      <td>1416131</td>\n",
              "    </tr>\n",
              "    <tr>\n",
              "      <th>1</th>\n",
              "      <td>종로구</td>\n",
              "      <td>163026</td>\n",
              "      <td>153065</td>\n",
              "      <td>9961</td>\n",
              "      <td>26742</td>\n",
              "    </tr>\n",
              "    <tr>\n",
              "      <th>2</th>\n",
              "      <td>중구</td>\n",
              "      <td>135633</td>\n",
              "      <td>125725</td>\n",
              "      <td>9908</td>\n",
              "      <td>22005</td>\n",
              "    </tr>\n",
              "    <tr>\n",
              "      <th>3</th>\n",
              "      <td>용산구</td>\n",
              "      <td>245090</td>\n",
              "      <td>228999</td>\n",
              "      <td>16091</td>\n",
              "      <td>37640</td>\n",
              "    </tr>\n",
              "    <tr>\n",
              "      <th>4</th>\n",
              "      <td>성동구</td>\n",
              "      <td>316463</td>\n",
              "      <td>308221</td>\n",
              "      <td>8242</td>\n",
              "      <td>42767</td>\n",
              "    </tr>\n",
              "  </tbody>\n",
              "</table>\n",
              "</div>"
            ],
            "text/plain": [
              "   자치구         계      계.1     계.2  65세이상고령자\n",
              "0   합계  10049607  9765623  283984   1416131\n",
              "1  종로구    163026   153065    9961     26742\n",
              "2   중구    135633   125725    9908     22005\n",
              "3  용산구    245090   228999   16091     37640\n",
              "4  성동구    316463   308221    8242     42767"
            ]
          },
          "metadata": {
            "tags": []
          },
          "execution_count": 12
        }
      ]
    },
    {
      "cell_type": "markdown",
      "metadata": {
        "id": "2doIfe71qLoM",
        "colab_type": "text"
      },
      "source": [
        ""
      ]
    },
    {
      "cell_type": "code",
      "metadata": {
        "id": "pWPljBpZll16",
        "colab_type": "code",
        "outputId": "f0929072-81ad-4209-de77-b75035b90803",
        "colab": {
          "base_uri": "https://localhost:8080/",
          "height": 204
        }
      },
      "source": [
        "pop_Seoul.rename(columns={pop_Seoul.columns[0]: '구별',\n",
        "                          pop_Seoul.columns[1]: '인구수',\n",
        "                          pop_Seoul.columns[2]: '한국인',\n",
        "                          pop_Seoul.columns[3]: '외국인',\n",
        "                          pop_Seoul.columns[4]: '고령자'}, inplace=True)\n",
        "pop_Seoul.head()"
      ],
      "execution_count": 0,
      "outputs": [
        {
          "output_type": "execute_result",
          "data": {
            "text/html": [
              "<div>\n",
              "<style scoped>\n",
              "    .dataframe tbody tr th:only-of-type {\n",
              "        vertical-align: middle;\n",
              "    }\n",
              "\n",
              "    .dataframe tbody tr th {\n",
              "        vertical-align: top;\n",
              "    }\n",
              "\n",
              "    .dataframe thead th {\n",
              "        text-align: right;\n",
              "    }\n",
              "</style>\n",
              "<table border=\"1\" class=\"dataframe\">\n",
              "  <thead>\n",
              "    <tr style=\"text-align: right;\">\n",
              "      <th></th>\n",
              "      <th>구별</th>\n",
              "      <th>인구수</th>\n",
              "      <th>한국인</th>\n",
              "      <th>외국인</th>\n",
              "      <th>고령자</th>\n",
              "    </tr>\n",
              "  </thead>\n",
              "  <tbody>\n",
              "    <tr>\n",
              "      <th>0</th>\n",
              "      <td>합계</td>\n",
              "      <td>10049607</td>\n",
              "      <td>9765623</td>\n",
              "      <td>283984</td>\n",
              "      <td>1416131</td>\n",
              "    </tr>\n",
              "    <tr>\n",
              "      <th>1</th>\n",
              "      <td>종로구</td>\n",
              "      <td>163026</td>\n",
              "      <td>153065</td>\n",
              "      <td>9961</td>\n",
              "      <td>26742</td>\n",
              "    </tr>\n",
              "    <tr>\n",
              "      <th>2</th>\n",
              "      <td>중구</td>\n",
              "      <td>135633</td>\n",
              "      <td>125725</td>\n",
              "      <td>9908</td>\n",
              "      <td>22005</td>\n",
              "    </tr>\n",
              "    <tr>\n",
              "      <th>3</th>\n",
              "      <td>용산구</td>\n",
              "      <td>245090</td>\n",
              "      <td>228999</td>\n",
              "      <td>16091</td>\n",
              "      <td>37640</td>\n",
              "    </tr>\n",
              "    <tr>\n",
              "      <th>4</th>\n",
              "      <td>성동구</td>\n",
              "      <td>316463</td>\n",
              "      <td>308221</td>\n",
              "      <td>8242</td>\n",
              "      <td>42767</td>\n",
              "    </tr>\n",
              "  </tbody>\n",
              "</table>\n",
              "</div>"
            ],
            "text/plain": [
              "    구별       인구수      한국인     외국인      고령자\n",
              "0   합계  10049607  9765623  283984  1416131\n",
              "1  종로구    163026   153065    9961    26742\n",
              "2   중구    135633   125725    9908    22005\n",
              "3  용산구    245090   228999   16091    37640\n",
              "4  성동구    316463   308221    8242    42767"
            ]
          },
          "metadata": {
            "tags": []
          },
          "execution_count": 13
        }
      ]
    },
    {
      "cell_type": "code",
      "metadata": {
        "id": "kwT4RHsRqvVv",
        "colab_type": "code",
        "outputId": "eb1ab340-e824-4052-b892-30d08149ec5d",
        "colab": {
          "base_uri": "https://localhost:8080/",
          "height": 204
        }
      },
      "source": [
        "CCTV_Seoul.head()"
      ],
      "execution_count": 0,
      "outputs": [
        {
          "output_type": "execute_result",
          "data": {
            "text/html": [
              "<div>\n",
              "<style scoped>\n",
              "    .dataframe tbody tr th:only-of-type {\n",
              "        vertical-align: middle;\n",
              "    }\n",
              "\n",
              "    .dataframe tbody tr th {\n",
              "        vertical-align: top;\n",
              "    }\n",
              "\n",
              "    .dataframe thead th {\n",
              "        text-align: right;\n",
              "    }\n",
              "</style>\n",
              "<table border=\"1\" class=\"dataframe\">\n",
              "  <thead>\n",
              "    <tr style=\"text-align: right;\">\n",
              "      <th></th>\n",
              "      <th>구별</th>\n",
              "      <th>소계</th>\n",
              "      <th>2013년도 이전</th>\n",
              "      <th>2014년</th>\n",
              "      <th>2015년</th>\n",
              "      <th>2016년</th>\n",
              "    </tr>\n",
              "  </thead>\n",
              "  <tbody>\n",
              "    <tr>\n",
              "      <th>0</th>\n",
              "      <td>강남구</td>\n",
              "      <td>3238</td>\n",
              "      <td>1292</td>\n",
              "      <td>430</td>\n",
              "      <td>584</td>\n",
              "      <td>932</td>\n",
              "    </tr>\n",
              "    <tr>\n",
              "      <th>1</th>\n",
              "      <td>강동구</td>\n",
              "      <td>1010</td>\n",
              "      <td>379</td>\n",
              "      <td>99</td>\n",
              "      <td>155</td>\n",
              "      <td>377</td>\n",
              "    </tr>\n",
              "    <tr>\n",
              "      <th>2</th>\n",
              "      <td>강북구</td>\n",
              "      <td>831</td>\n",
              "      <td>369</td>\n",
              "      <td>120</td>\n",
              "      <td>138</td>\n",
              "      <td>204</td>\n",
              "    </tr>\n",
              "    <tr>\n",
              "      <th>3</th>\n",
              "      <td>강서구</td>\n",
              "      <td>911</td>\n",
              "      <td>388</td>\n",
              "      <td>258</td>\n",
              "      <td>184</td>\n",
              "      <td>81</td>\n",
              "    </tr>\n",
              "    <tr>\n",
              "      <th>4</th>\n",
              "      <td>관악구</td>\n",
              "      <td>2109</td>\n",
              "      <td>846</td>\n",
              "      <td>260</td>\n",
              "      <td>390</td>\n",
              "      <td>613</td>\n",
              "    </tr>\n",
              "  </tbody>\n",
              "</table>\n",
              "</div>"
            ],
            "text/plain": [
              "    구별    소계  2013년도 이전  2014년  2015년  2016년\n",
              "0  강남구  3238       1292    430    584    932\n",
              "1  강동구  1010        379     99    155    377\n",
              "2  강북구   831        369    120    138    204\n",
              "3  강서구   911        388    258    184     81\n",
              "4  관악구  2109        846    260    390    613"
            ]
          },
          "metadata": {
            "tags": []
          },
          "execution_count": 14
        }
      ]
    },
    {
      "cell_type": "code",
      "metadata": {
        "id": "IwbIF09jq2p6",
        "colab_type": "code",
        "outputId": "9301c0d9-3bfe-4093-e7d2-03922e4fe8a9",
        "colab": {
          "base_uri": "https://localhost:8080/",
          "height": 204
        }
      },
      "source": [
        "CCTV_Seoul.sort_values(by='소계', ascending=True).head(5)\n",
        "\n",
        "# CCTV 갯수(소계)로 정렬\n",
        "# CCTV의 전체 개수가 가장작은 구는 도봉구 > 강북구 > 광진구 순"
      ],
      "execution_count": 0,
      "outputs": [
        {
          "output_type": "execute_result",
          "data": {
            "text/html": [
              "<div>\n",
              "<style scoped>\n",
              "    .dataframe tbody tr th:only-of-type {\n",
              "        vertical-align: middle;\n",
              "    }\n",
              "\n",
              "    .dataframe tbody tr th {\n",
              "        vertical-align: top;\n",
              "    }\n",
              "\n",
              "    .dataframe thead th {\n",
              "        text-align: right;\n",
              "    }\n",
              "</style>\n",
              "<table border=\"1\" class=\"dataframe\">\n",
              "  <thead>\n",
              "    <tr style=\"text-align: right;\">\n",
              "      <th></th>\n",
              "      <th>구별</th>\n",
              "      <th>소계</th>\n",
              "      <th>2013년도 이전</th>\n",
              "      <th>2014년</th>\n",
              "      <th>2015년</th>\n",
              "      <th>2016년</th>\n",
              "    </tr>\n",
              "  </thead>\n",
              "  <tbody>\n",
              "    <tr>\n",
              "      <th>9</th>\n",
              "      <td>도봉구</td>\n",
              "      <td>825</td>\n",
              "      <td>238</td>\n",
              "      <td>159</td>\n",
              "      <td>42</td>\n",
              "      <td>386</td>\n",
              "    </tr>\n",
              "    <tr>\n",
              "      <th>2</th>\n",
              "      <td>강북구</td>\n",
              "      <td>831</td>\n",
              "      <td>369</td>\n",
              "      <td>120</td>\n",
              "      <td>138</td>\n",
              "      <td>204</td>\n",
              "    </tr>\n",
              "    <tr>\n",
              "      <th>5</th>\n",
              "      <td>광진구</td>\n",
              "      <td>878</td>\n",
              "      <td>573</td>\n",
              "      <td>78</td>\n",
              "      <td>53</td>\n",
              "      <td>174</td>\n",
              "    </tr>\n",
              "    <tr>\n",
              "      <th>3</th>\n",
              "      <td>강서구</td>\n",
              "      <td>911</td>\n",
              "      <td>388</td>\n",
              "      <td>258</td>\n",
              "      <td>184</td>\n",
              "      <td>81</td>\n",
              "    </tr>\n",
              "    <tr>\n",
              "      <th>24</th>\n",
              "      <td>중랑구</td>\n",
              "      <td>916</td>\n",
              "      <td>509</td>\n",
              "      <td>121</td>\n",
              "      <td>177</td>\n",
              "      <td>109</td>\n",
              "    </tr>\n",
              "  </tbody>\n",
              "</table>\n",
              "</div>"
            ],
            "text/plain": [
              "     구별   소계  2013년도 이전  2014년  2015년  2016년\n",
              "9   도봉구  825        238    159     42    386\n",
              "2   강북구  831        369    120    138    204\n",
              "5   광진구  878        573     78     53    174\n",
              "3   강서구  911        388    258    184     81\n",
              "24  중랑구  916        509    121    177    109"
            ]
          },
          "metadata": {
            "tags": []
          },
          "execution_count": 15
        }
      ]
    },
    {
      "cell_type": "code",
      "metadata": {
        "id": "cO5XE-tOqiwC",
        "colab_type": "code",
        "outputId": "a9705f6f-c3c5-48ae-cdf7-d0029d5178ed",
        "colab": {
          "base_uri": "https://localhost:8080/",
          "height": 204
        }
      },
      "source": [
        "CCTV_Seoul.sort_values(by='소계', ascending=False).head(5)\n",
        "\n",
        "# CCTV 갯수(소계)로 정렬\n",
        "# CCTV의 전체 개수가 가장 많은 구는 강남구 > 양천구 > 서초구 순"
      ],
      "execution_count": 0,
      "outputs": [
        {
          "output_type": "execute_result",
          "data": {
            "text/html": [
              "<div>\n",
              "<style scoped>\n",
              "    .dataframe tbody tr th:only-of-type {\n",
              "        vertical-align: middle;\n",
              "    }\n",
              "\n",
              "    .dataframe tbody tr th {\n",
              "        vertical-align: top;\n",
              "    }\n",
              "\n",
              "    .dataframe thead th {\n",
              "        text-align: right;\n",
              "    }\n",
              "</style>\n",
              "<table border=\"1\" class=\"dataframe\">\n",
              "  <thead>\n",
              "    <tr style=\"text-align: right;\">\n",
              "      <th></th>\n",
              "      <th>구별</th>\n",
              "      <th>소계</th>\n",
              "      <th>2013년도 이전</th>\n",
              "      <th>2014년</th>\n",
              "      <th>2015년</th>\n",
              "      <th>2016년</th>\n",
              "    </tr>\n",
              "  </thead>\n",
              "  <tbody>\n",
              "    <tr>\n",
              "      <th>0</th>\n",
              "      <td>강남구</td>\n",
              "      <td>3238</td>\n",
              "      <td>1292</td>\n",
              "      <td>430</td>\n",
              "      <td>584</td>\n",
              "      <td>932</td>\n",
              "    </tr>\n",
              "    <tr>\n",
              "      <th>18</th>\n",
              "      <td>양천구</td>\n",
              "      <td>2482</td>\n",
              "      <td>1843</td>\n",
              "      <td>142</td>\n",
              "      <td>30</td>\n",
              "      <td>467</td>\n",
              "    </tr>\n",
              "    <tr>\n",
              "      <th>14</th>\n",
              "      <td>서초구</td>\n",
              "      <td>2297</td>\n",
              "      <td>1406</td>\n",
              "      <td>157</td>\n",
              "      <td>336</td>\n",
              "      <td>398</td>\n",
              "    </tr>\n",
              "    <tr>\n",
              "      <th>4</th>\n",
              "      <td>관악구</td>\n",
              "      <td>2109</td>\n",
              "      <td>846</td>\n",
              "      <td>260</td>\n",
              "      <td>390</td>\n",
              "      <td>613</td>\n",
              "    </tr>\n",
              "    <tr>\n",
              "      <th>21</th>\n",
              "      <td>은평구</td>\n",
              "      <td>2108</td>\n",
              "      <td>1138</td>\n",
              "      <td>224</td>\n",
              "      <td>278</td>\n",
              "      <td>468</td>\n",
              "    </tr>\n",
              "  </tbody>\n",
              "</table>\n",
              "</div>"
            ],
            "text/plain": [
              "     구별    소계  2013년도 이전  2014년  2015년  2016년\n",
              "0   강남구  3238       1292    430    584    932\n",
              "18  양천구  2482       1843    142     30    467\n",
              "14  서초구  2297       1406    157    336    398\n",
              "4   관악구  2109        846    260    390    613\n",
              "21  은평구  2108       1138    224    278    468"
            ]
          },
          "metadata": {
            "tags": []
          },
          "execution_count": 17
        }
      ]
    },
    {
      "cell_type": "code",
      "metadata": {
        "id": "CAWgV6Zeq_He",
        "colab_type": "code",
        "outputId": "9cdac336-abc0-477e-aca9-d66e30bc1d43",
        "colab": {
          "base_uri": "https://localhost:8080/",
          "height": 204
        }
      },
      "source": [
        "CCTV_Seoul['최근증가율'] = (CCTV_Seoul['2016년'] + CCTV_Seoul['2015년'] + \\\n",
        "                         CCTV_Seoul['2014년'] / CCTV_Seoul['2013년도 이전'] * 100)\n",
        "\n",
        "CCTV_Seoul.sort_values(by='최근증가율', ascending=False).head(5)\n",
        "\n",
        "# 최근증가율을 보면 강남구 > 관악구 > 노원구 순입니다."
      ],
      "execution_count": 0,
      "outputs": [
        {
          "output_type": "execute_result",
          "data": {
            "text/html": [
              "<div>\n",
              "<style scoped>\n",
              "    .dataframe tbody tr th:only-of-type {\n",
              "        vertical-align: middle;\n",
              "    }\n",
              "\n",
              "    .dataframe tbody tr th {\n",
              "        vertical-align: top;\n",
              "    }\n",
              "\n",
              "    .dataframe thead th {\n",
              "        text-align: right;\n",
              "    }\n",
              "</style>\n",
              "<table border=\"1\" class=\"dataframe\">\n",
              "  <thead>\n",
              "    <tr style=\"text-align: right;\">\n",
              "      <th></th>\n",
              "      <th>구별</th>\n",
              "      <th>소계</th>\n",
              "      <th>2013년도 이전</th>\n",
              "      <th>2014년</th>\n",
              "      <th>2015년</th>\n",
              "      <th>2016년</th>\n",
              "      <th>최근증가율</th>\n",
              "    </tr>\n",
              "  </thead>\n",
              "  <tbody>\n",
              "    <tr>\n",
              "      <th>0</th>\n",
              "      <td>강남구</td>\n",
              "      <td>3238</td>\n",
              "      <td>1292</td>\n",
              "      <td>430</td>\n",
              "      <td>584</td>\n",
              "      <td>932</td>\n",
              "      <td>1549.281734</td>\n",
              "    </tr>\n",
              "    <tr>\n",
              "      <th>4</th>\n",
              "      <td>관악구</td>\n",
              "      <td>2109</td>\n",
              "      <td>846</td>\n",
              "      <td>260</td>\n",
              "      <td>390</td>\n",
              "      <td>613</td>\n",
              "      <td>1033.732861</td>\n",
              "    </tr>\n",
              "    <tr>\n",
              "      <th>8</th>\n",
              "      <td>노원구</td>\n",
              "      <td>1566</td>\n",
              "      <td>542</td>\n",
              "      <td>57</td>\n",
              "      <td>451</td>\n",
              "      <td>516</td>\n",
              "      <td>977.516605</td>\n",
              "    </tr>\n",
              "    <tr>\n",
              "      <th>22</th>\n",
              "      <td>종로구</td>\n",
              "      <td>1619</td>\n",
              "      <td>464</td>\n",
              "      <td>314</td>\n",
              "      <td>211</td>\n",
              "      <td>630</td>\n",
              "      <td>908.672414</td>\n",
              "    </tr>\n",
              "    <tr>\n",
              "      <th>10</th>\n",
              "      <td>동대문구</td>\n",
              "      <td>1870</td>\n",
              "      <td>1070</td>\n",
              "      <td>23</td>\n",
              "      <td>198</td>\n",
              "      <td>579</td>\n",
              "      <td>779.149533</td>\n",
              "    </tr>\n",
              "  </tbody>\n",
              "</table>\n",
              "</div>"
            ],
            "text/plain": [
              "      구별    소계  2013년도 이전  2014년  2015년  2016년        최근증가율\n",
              "0    강남구  3238       1292    430    584    932  1549.281734\n",
              "4    관악구  2109        846    260    390    613  1033.732861\n",
              "8    노원구  1566        542     57    451    516   977.516605\n",
              "22   종로구  1619        464    314    211    630   908.672414\n",
              "10  동대문구  1870       1070     23    198    579   779.149533"
            ]
          },
          "metadata": {
            "tags": []
          },
          "execution_count": 21
        }
      ]
    },
    {
      "cell_type": "code",
      "metadata": {
        "id": "fncT7vOvroKa",
        "colab_type": "code",
        "outputId": "42648907-b50f-4d24-9a31-b58a51db3bce",
        "colab": {
          "base_uri": "https://localhost:8080/",
          "height": 204
        }
      },
      "source": [
        "pop_Seoul.head()"
      ],
      "execution_count": 0,
      "outputs": [
        {
          "output_type": "execute_result",
          "data": {
            "text/html": [
              "<div>\n",
              "<style scoped>\n",
              "    .dataframe tbody tr th:only-of-type {\n",
              "        vertical-align: middle;\n",
              "    }\n",
              "\n",
              "    .dataframe tbody tr th {\n",
              "        vertical-align: top;\n",
              "    }\n",
              "\n",
              "    .dataframe thead th {\n",
              "        text-align: right;\n",
              "    }\n",
              "</style>\n",
              "<table border=\"1\" class=\"dataframe\">\n",
              "  <thead>\n",
              "    <tr style=\"text-align: right;\">\n",
              "      <th></th>\n",
              "      <th>구별</th>\n",
              "      <th>인구수</th>\n",
              "      <th>한국인</th>\n",
              "      <th>외국인</th>\n",
              "      <th>고령자</th>\n",
              "    </tr>\n",
              "  </thead>\n",
              "  <tbody>\n",
              "    <tr>\n",
              "      <th>0</th>\n",
              "      <td>합계</td>\n",
              "      <td>10049607</td>\n",
              "      <td>9765623</td>\n",
              "      <td>283984</td>\n",
              "      <td>1416131</td>\n",
              "    </tr>\n",
              "    <tr>\n",
              "      <th>1</th>\n",
              "      <td>종로구</td>\n",
              "      <td>163026</td>\n",
              "      <td>153065</td>\n",
              "      <td>9961</td>\n",
              "      <td>26742</td>\n",
              "    </tr>\n",
              "    <tr>\n",
              "      <th>2</th>\n",
              "      <td>중구</td>\n",
              "      <td>135633</td>\n",
              "      <td>125725</td>\n",
              "      <td>9908</td>\n",
              "      <td>22005</td>\n",
              "    </tr>\n",
              "    <tr>\n",
              "      <th>3</th>\n",
              "      <td>용산구</td>\n",
              "      <td>245090</td>\n",
              "      <td>228999</td>\n",
              "      <td>16091</td>\n",
              "      <td>37640</td>\n",
              "    </tr>\n",
              "    <tr>\n",
              "      <th>4</th>\n",
              "      <td>성동구</td>\n",
              "      <td>316463</td>\n",
              "      <td>308221</td>\n",
              "      <td>8242</td>\n",
              "      <td>42767</td>\n",
              "    </tr>\n",
              "  </tbody>\n",
              "</table>\n",
              "</div>"
            ],
            "text/plain": [
              "    구별       인구수      한국인     외국인      고령자\n",
              "0   합계  10049607  9765623  283984  1416131\n",
              "1  종로구    163026   153065    9961    26742\n",
              "2   중구    135633   125725    9908    22005\n",
              "3  용산구    245090   228999   16091    37640\n",
              "4  성동구    316463   308221    8242    42767"
            ]
          },
          "metadata": {
            "tags": []
          },
          "execution_count": 22
        }
      ]
    },
    {
      "cell_type": "code",
      "metadata": {
        "id": "_PZOmcEWsK3o",
        "colab_type": "code",
        "outputId": "ba36aa5e-c864-4dfc-96da-5ef0bf74955c",
        "colab": {
          "base_uri": "https://localhost:8080/",
          "height": 204
        }
      },
      "source": [
        "pop_Seoul.drop([0], inplace=True)\n",
        "pop_Seoul.head()\n",
        "\n",
        "# 0번 행에 합계는 필요 없음. 행을 지우는 명령어 drop"
      ],
      "execution_count": 0,
      "outputs": [
        {
          "output_type": "execute_result",
          "data": {
            "text/html": [
              "<div>\n",
              "<style scoped>\n",
              "    .dataframe tbody tr th:only-of-type {\n",
              "        vertical-align: middle;\n",
              "    }\n",
              "\n",
              "    .dataframe tbody tr th {\n",
              "        vertical-align: top;\n",
              "    }\n",
              "\n",
              "    .dataframe thead th {\n",
              "        text-align: right;\n",
              "    }\n",
              "</style>\n",
              "<table border=\"1\" class=\"dataframe\">\n",
              "  <thead>\n",
              "    <tr style=\"text-align: right;\">\n",
              "      <th></th>\n",
              "      <th>구별</th>\n",
              "      <th>인구수</th>\n",
              "      <th>한국인</th>\n",
              "      <th>외국인</th>\n",
              "      <th>고령자</th>\n",
              "    </tr>\n",
              "  </thead>\n",
              "  <tbody>\n",
              "    <tr>\n",
              "      <th>1</th>\n",
              "      <td>종로구</td>\n",
              "      <td>163026</td>\n",
              "      <td>153065</td>\n",
              "      <td>9961</td>\n",
              "      <td>26742</td>\n",
              "    </tr>\n",
              "    <tr>\n",
              "      <th>2</th>\n",
              "      <td>중구</td>\n",
              "      <td>135633</td>\n",
              "      <td>125725</td>\n",
              "      <td>9908</td>\n",
              "      <td>22005</td>\n",
              "    </tr>\n",
              "    <tr>\n",
              "      <th>3</th>\n",
              "      <td>용산구</td>\n",
              "      <td>245090</td>\n",
              "      <td>228999</td>\n",
              "      <td>16091</td>\n",
              "      <td>37640</td>\n",
              "    </tr>\n",
              "    <tr>\n",
              "      <th>4</th>\n",
              "      <td>성동구</td>\n",
              "      <td>316463</td>\n",
              "      <td>308221</td>\n",
              "      <td>8242</td>\n",
              "      <td>42767</td>\n",
              "    </tr>\n",
              "    <tr>\n",
              "      <th>5</th>\n",
              "      <td>광진구</td>\n",
              "      <td>371063</td>\n",
              "      <td>355559</td>\n",
              "      <td>15504</td>\n",
              "      <td>45619</td>\n",
              "    </tr>\n",
              "  </tbody>\n",
              "</table>\n",
              "</div>"
            ],
            "text/plain": [
              "    구별     인구수     한국인    외국인    고령자\n",
              "1  종로구  163026  153065   9961  26742\n",
              "2   중구  135633  125725   9908  22005\n",
              "3  용산구  245090  228999  16091  37640\n",
              "4  성동구  316463  308221   8242  42767\n",
              "5  광진구  371063  355559  15504  45619"
            ]
          },
          "metadata": {
            "tags": []
          },
          "execution_count": 23
        }
      ]
    },
    {
      "cell_type": "code",
      "metadata": {
        "id": "URcGOil-sfnc",
        "colab_type": "code",
        "outputId": "7722fde8-7da7-454f-f342-84b29c3cc400",
        "colab": {
          "base_uri": "https://localhost:8080/",
          "height": 68
        }
      },
      "source": [
        "pop_Seoul['구별'].unique()\n",
        "\n",
        "# 반복된 데이터는 하나로 나타내서 한번 이상 나타난 데이터를 확인 하는 것"
      ],
      "execution_count": 0,
      "outputs": [
        {
          "output_type": "execute_result",
          "data": {
            "text/plain": [
              "array(['종로구', '중구', '용산구', '성동구', '광진구', '동대문구', '중랑구', '성북구', '강북구',\n",
              "       '도봉구', '노원구', '은평구', '서대문구', '마포구', '양천구', '강서구', '구로구', '금천구',\n",
              "       '영등포구', '동작구', '관악구', '서초구', '강남구', '송파구', '강동구'], dtype=object)"
            ]
          },
          "metadata": {
            "tags": []
          },
          "execution_count": 24
        }
      ]
    },
    {
      "cell_type": "code",
      "metadata": {
        "id": "O0UUglGPsqHU",
        "colab_type": "code",
        "outputId": "c7be0053-a498-4b64-c1d2-ca5e57c1d6a3",
        "colab": {
          "base_uri": "https://localhost:8080/",
          "height": 49
        }
      },
      "source": [
        "pop_Seoul[pop_Seoul['구별'].isnull()]\n",
        "\n",
        "# isnull 명령어로 NaN이 있는 데이터를 추출\n",
        "# drop 명령으로 NaN이 있던 행을 삭제 가능\n",
        "# pop_Seoul.drop([26], inplace=True)"
      ],
      "execution_count": 0,
      "outputs": [
        {
          "output_type": "execute_result",
          "data": {
            "text/html": [
              "<div>\n",
              "<style scoped>\n",
              "    .dataframe tbody tr th:only-of-type {\n",
              "        vertical-align: middle;\n",
              "    }\n",
              "\n",
              "    .dataframe tbody tr th {\n",
              "        vertical-align: top;\n",
              "    }\n",
              "\n",
              "    .dataframe thead th {\n",
              "        text-align: right;\n",
              "    }\n",
              "</style>\n",
              "<table border=\"1\" class=\"dataframe\">\n",
              "  <thead>\n",
              "    <tr style=\"text-align: right;\">\n",
              "      <th></th>\n",
              "      <th>구별</th>\n",
              "      <th>인구수</th>\n",
              "      <th>한국인</th>\n",
              "      <th>외국인</th>\n",
              "      <th>고령자</th>\n",
              "    </tr>\n",
              "  </thead>\n",
              "  <tbody>\n",
              "  </tbody>\n",
              "</table>\n",
              "</div>"
            ],
            "text/plain": [
              "Empty DataFrame\n",
              "Columns: [구별, 인구수, 한국인, 외국인, 고령자]\n",
              "Index: []"
            ]
          },
          "metadata": {
            "tags": []
          },
          "execution_count": 25
        }
      ]
    },
    {
      "cell_type": "code",
      "metadata": {
        "id": "RfmHUY-ktDrW",
        "colab_type": "code",
        "outputId": "9b289372-97b2-470d-f697-094f0c6d3e05",
        "colab": {
          "base_uri": "https://localhost:8080/",
          "height": 204
        }
      },
      "source": [
        "# 각 구별 전체 인구를 이용해서 구별'외국인비율'과 '고령자비율' 계산\n",
        "\n",
        "pop_Seoul['외국인비율'] = pop_Seoul['외국인'] / pop_Seoul['인구수'] * 100\n",
        "pop_Seoul['고령자비율'] = pop_Seoul['고령자'] / pop_Seoul['인구수'] * 100\n",
        "\n",
        "pop_Seoul.head()"
      ],
      "execution_count": 0,
      "outputs": [
        {
          "output_type": "execute_result",
          "data": {
            "text/html": [
              "<div>\n",
              "<style scoped>\n",
              "    .dataframe tbody tr th:only-of-type {\n",
              "        vertical-align: middle;\n",
              "    }\n",
              "\n",
              "    .dataframe tbody tr th {\n",
              "        vertical-align: top;\n",
              "    }\n",
              "\n",
              "    .dataframe thead th {\n",
              "        text-align: right;\n",
              "    }\n",
              "</style>\n",
              "<table border=\"1\" class=\"dataframe\">\n",
              "  <thead>\n",
              "    <tr style=\"text-align: right;\">\n",
              "      <th></th>\n",
              "      <th>구별</th>\n",
              "      <th>인구수</th>\n",
              "      <th>한국인</th>\n",
              "      <th>외국인</th>\n",
              "      <th>고령자</th>\n",
              "      <th>외국인비율</th>\n",
              "      <th>고령자비율</th>\n",
              "    </tr>\n",
              "  </thead>\n",
              "  <tbody>\n",
              "    <tr>\n",
              "      <th>1</th>\n",
              "      <td>종로구</td>\n",
              "      <td>163026</td>\n",
              "      <td>153065</td>\n",
              "      <td>9961</td>\n",
              "      <td>26742</td>\n",
              "      <td>6.110068</td>\n",
              "      <td>16.403518</td>\n",
              "    </tr>\n",
              "    <tr>\n",
              "      <th>2</th>\n",
              "      <td>중구</td>\n",
              "      <td>135633</td>\n",
              "      <td>125725</td>\n",
              "      <td>9908</td>\n",
              "      <td>22005</td>\n",
              "      <td>7.305007</td>\n",
              "      <td>16.223928</td>\n",
              "    </tr>\n",
              "    <tr>\n",
              "      <th>3</th>\n",
              "      <td>용산구</td>\n",
              "      <td>245090</td>\n",
              "      <td>228999</td>\n",
              "      <td>16091</td>\n",
              "      <td>37640</td>\n",
              "      <td>6.565343</td>\n",
              "      <td>15.357624</td>\n",
              "    </tr>\n",
              "    <tr>\n",
              "      <th>4</th>\n",
              "      <td>성동구</td>\n",
              "      <td>316463</td>\n",
              "      <td>308221</td>\n",
              "      <td>8242</td>\n",
              "      <td>42767</td>\n",
              "      <td>2.604412</td>\n",
              "      <td>13.514060</td>\n",
              "    </tr>\n",
              "    <tr>\n",
              "      <th>5</th>\n",
              "      <td>광진구</td>\n",
              "      <td>371063</td>\n",
              "      <td>355559</td>\n",
              "      <td>15504</td>\n",
              "      <td>45619</td>\n",
              "      <td>4.178266</td>\n",
              "      <td>12.294139</td>\n",
              "    </tr>\n",
              "  </tbody>\n",
              "</table>\n",
              "</div>"
            ],
            "text/plain": [
              "    구별     인구수     한국인    외국인    고령자     외국인비율      고령자비율\n",
              "1  종로구  163026  153065   9961  26742  6.110068  16.403518\n",
              "2   중구  135633  125725   9908  22005  7.305007  16.223928\n",
              "3  용산구  245090  228999  16091  37640  6.565343  15.357624\n",
              "4  성동구  316463  308221   8242  42767  2.604412  13.514060\n",
              "5  광진구  371063  355559  15504  45619  4.178266  12.294139"
            ]
          },
          "metadata": {
            "tags": []
          },
          "execution_count": 26
        }
      ]
    },
    {
      "cell_type": "code",
      "metadata": {
        "id": "PBKcW_7Ntstw",
        "colab_type": "code",
        "outputId": "9183310c-6ac5-4589-fdab-b8aecf418c49",
        "colab": {
          "base_uri": "https://localhost:8080/",
          "height": 204
        }
      },
      "source": [
        "# 인구순으로 정렬\n",
        "# 송파구 > 강서구 > 노원구 > 강남구 순으로 인구가 많음.\n",
        "\n",
        "pop_Seoul.sort_values(by='인구수', ascending=False).head(5)"
      ],
      "execution_count": 0,
      "outputs": [
        {
          "output_type": "execute_result",
          "data": {
            "text/html": [
              "<div>\n",
              "<style scoped>\n",
              "    .dataframe tbody tr th:only-of-type {\n",
              "        vertical-align: middle;\n",
              "    }\n",
              "\n",
              "    .dataframe tbody tr th {\n",
              "        vertical-align: top;\n",
              "    }\n",
              "\n",
              "    .dataframe thead th {\n",
              "        text-align: right;\n",
              "    }\n",
              "</style>\n",
              "<table border=\"1\" class=\"dataframe\">\n",
              "  <thead>\n",
              "    <tr style=\"text-align: right;\">\n",
              "      <th></th>\n",
              "      <th>구별</th>\n",
              "      <th>인구수</th>\n",
              "      <th>한국인</th>\n",
              "      <th>외국인</th>\n",
              "      <th>고령자</th>\n",
              "      <th>외국인비율</th>\n",
              "      <th>고령자비율</th>\n",
              "    </tr>\n",
              "  </thead>\n",
              "  <tbody>\n",
              "    <tr>\n",
              "      <th>24</th>\n",
              "      <td>송파구</td>\n",
              "      <td>673507</td>\n",
              "      <td>666635</td>\n",
              "      <td>6872</td>\n",
              "      <td>81364</td>\n",
              "      <td>1.020331</td>\n",
              "      <td>12.080647</td>\n",
              "    </tr>\n",
              "    <tr>\n",
              "      <th>16</th>\n",
              "      <td>강서구</td>\n",
              "      <td>603611</td>\n",
              "      <td>596949</td>\n",
              "      <td>6662</td>\n",
              "      <td>79660</td>\n",
              "      <td>1.103691</td>\n",
              "      <td>13.197241</td>\n",
              "    </tr>\n",
              "    <tr>\n",
              "      <th>11</th>\n",
              "      <td>노원구</td>\n",
              "      <td>548160</td>\n",
              "      <td>543752</td>\n",
              "      <td>4408</td>\n",
              "      <td>77096</td>\n",
              "      <td>0.804145</td>\n",
              "      <td>14.064507</td>\n",
              "    </tr>\n",
              "    <tr>\n",
              "      <th>23</th>\n",
              "      <td>강남구</td>\n",
              "      <td>547453</td>\n",
              "      <td>542364</td>\n",
              "      <td>5089</td>\n",
              "      <td>67085</td>\n",
              "      <td>0.929578</td>\n",
              "      <td>12.254020</td>\n",
              "    </tr>\n",
              "    <tr>\n",
              "      <th>21</th>\n",
              "      <td>관악구</td>\n",
              "      <td>520040</td>\n",
              "      <td>501957</td>\n",
              "      <td>18083</td>\n",
              "      <td>72249</td>\n",
              "      <td>3.477233</td>\n",
              "      <td>13.892970</td>\n",
              "    </tr>\n",
              "  </tbody>\n",
              "</table>\n",
              "</div>"
            ],
            "text/plain": [
              "     구별     인구수     한국인    외국인    고령자     외국인비율      고령자비율\n",
              "24  송파구  673507  666635   6872  81364  1.020331  12.080647\n",
              "16  강서구  603611  596949   6662  79660  1.103691  13.197241\n",
              "11  노원구  548160  543752   4408  77096  0.804145  14.064507\n",
              "23  강남구  547453  542364   5089  67085  0.929578  12.254020\n",
              "21  관악구  520040  501957  18083  72249  3.477233  13.892970"
            ]
          },
          "metadata": {
            "tags": []
          },
          "execution_count": 27
        }
      ]
    },
    {
      "cell_type": "code",
      "metadata": {
        "id": "-0YMrQ1Et5ki",
        "colab_type": "code",
        "outputId": "420716c3-b9e7-4c70-e58b-41e6aafc76ce",
        "colab": {
          "base_uri": "https://localhost:8080/",
          "height": 204
        }
      },
      "source": [
        "# 외국인으로 정렬\n",
        "# 외국인 수는 영등포구 > 구로구 > 금천구 순\n",
        "\n",
        "pop_Seoul.sort_values(by='외국인', ascending=False).head(5)"
      ],
      "execution_count": 0,
      "outputs": [
        {
          "output_type": "execute_result",
          "data": {
            "text/html": [
              "<div>\n",
              "<style scoped>\n",
              "    .dataframe tbody tr th:only-of-type {\n",
              "        vertical-align: middle;\n",
              "    }\n",
              "\n",
              "    .dataframe tbody tr th {\n",
              "        vertical-align: top;\n",
              "    }\n",
              "\n",
              "    .dataframe thead th {\n",
              "        text-align: right;\n",
              "    }\n",
              "</style>\n",
              "<table border=\"1\" class=\"dataframe\">\n",
              "  <thead>\n",
              "    <tr style=\"text-align: right;\">\n",
              "      <th></th>\n",
              "      <th>구별</th>\n",
              "      <th>인구수</th>\n",
              "      <th>한국인</th>\n",
              "      <th>외국인</th>\n",
              "      <th>고령자</th>\n",
              "      <th>외국인비율</th>\n",
              "      <th>고령자비율</th>\n",
              "    </tr>\n",
              "  </thead>\n",
              "  <tbody>\n",
              "    <tr>\n",
              "      <th>19</th>\n",
              "      <td>영등포구</td>\n",
              "      <td>403600</td>\n",
              "      <td>367778</td>\n",
              "      <td>35822</td>\n",
              "      <td>55673</td>\n",
              "      <td>8.875619</td>\n",
              "      <td>13.794103</td>\n",
              "    </tr>\n",
              "    <tr>\n",
              "      <th>17</th>\n",
              "      <td>구로구</td>\n",
              "      <td>438486</td>\n",
              "      <td>404497</td>\n",
              "      <td>33989</td>\n",
              "      <td>61801</td>\n",
              "      <td>7.751445</td>\n",
              "      <td>14.094179</td>\n",
              "    </tr>\n",
              "    <tr>\n",
              "      <th>18</th>\n",
              "      <td>금천구</td>\n",
              "      <td>254021</td>\n",
              "      <td>233917</td>\n",
              "      <td>20104</td>\n",
              "      <td>35739</td>\n",
              "      <td>7.914306</td>\n",
              "      <td>14.069309</td>\n",
              "    </tr>\n",
              "    <tr>\n",
              "      <th>21</th>\n",
              "      <td>관악구</td>\n",
              "      <td>520040</td>\n",
              "      <td>501957</td>\n",
              "      <td>18083</td>\n",
              "      <td>72249</td>\n",
              "      <td>3.477233</td>\n",
              "      <td>13.892970</td>\n",
              "    </tr>\n",
              "    <tr>\n",
              "      <th>6</th>\n",
              "      <td>동대문구</td>\n",
              "      <td>364338</td>\n",
              "      <td>348052</td>\n",
              "      <td>16286</td>\n",
              "      <td>57165</td>\n",
              "      <td>4.470025</td>\n",
              "      <td>15.690101</td>\n",
              "    </tr>\n",
              "  </tbody>\n",
              "</table>\n",
              "</div>"
            ],
            "text/plain": [
              "      구별     인구수     한국인    외국인    고령자     외국인비율      고령자비율\n",
              "19  영등포구  403600  367778  35822  55673  8.875619  13.794103\n",
              "17   구로구  438486  404497  33989  61801  7.751445  14.094179\n",
              "18   금천구  254021  233917  20104  35739  7.914306  14.069309\n",
              "21   관악구  520040  501957  18083  72249  3.477233  13.892970\n",
              "6   동대문구  364338  348052  16286  57165  4.470025  15.690101"
            ]
          },
          "metadata": {
            "tags": []
          },
          "execution_count": 28
        }
      ]
    },
    {
      "cell_type": "code",
      "metadata": {
        "id": "mocxtu6FuJa1",
        "colab_type": "code",
        "outputId": "695741db-5d23-4b9a-9307-0e646a06daa9",
        "colab": {
          "base_uri": "https://localhost:8080/",
          "height": 204
        }
      },
      "source": [
        "# 외국인비율으로 정렬\n",
        "# 외국인 비율 순은 영등포구 > 금천구 > 구로구\n",
        "\n",
        "pop_Seoul.sort_values(by='외국인비율', ascending=False).head(5)"
      ],
      "execution_count": 0,
      "outputs": [
        {
          "output_type": "execute_result",
          "data": {
            "text/html": [
              "<div>\n",
              "<style scoped>\n",
              "    .dataframe tbody tr th:only-of-type {\n",
              "        vertical-align: middle;\n",
              "    }\n",
              "\n",
              "    .dataframe tbody tr th {\n",
              "        vertical-align: top;\n",
              "    }\n",
              "\n",
              "    .dataframe thead th {\n",
              "        text-align: right;\n",
              "    }\n",
              "</style>\n",
              "<table border=\"1\" class=\"dataframe\">\n",
              "  <thead>\n",
              "    <tr style=\"text-align: right;\">\n",
              "      <th></th>\n",
              "      <th>구별</th>\n",
              "      <th>인구수</th>\n",
              "      <th>한국인</th>\n",
              "      <th>외국인</th>\n",
              "      <th>고령자</th>\n",
              "      <th>외국인비율</th>\n",
              "      <th>고령자비율</th>\n",
              "    </tr>\n",
              "  </thead>\n",
              "  <tbody>\n",
              "    <tr>\n",
              "      <th>19</th>\n",
              "      <td>영등포구</td>\n",
              "      <td>403600</td>\n",
              "      <td>367778</td>\n",
              "      <td>35822</td>\n",
              "      <td>55673</td>\n",
              "      <td>8.875619</td>\n",
              "      <td>13.794103</td>\n",
              "    </tr>\n",
              "    <tr>\n",
              "      <th>18</th>\n",
              "      <td>금천구</td>\n",
              "      <td>254021</td>\n",
              "      <td>233917</td>\n",
              "      <td>20104</td>\n",
              "      <td>35739</td>\n",
              "      <td>7.914306</td>\n",
              "      <td>14.069309</td>\n",
              "    </tr>\n",
              "    <tr>\n",
              "      <th>17</th>\n",
              "      <td>구로구</td>\n",
              "      <td>438486</td>\n",
              "      <td>404497</td>\n",
              "      <td>33989</td>\n",
              "      <td>61801</td>\n",
              "      <td>7.751445</td>\n",
              "      <td>14.094179</td>\n",
              "    </tr>\n",
              "    <tr>\n",
              "      <th>2</th>\n",
              "      <td>중구</td>\n",
              "      <td>135633</td>\n",
              "      <td>125725</td>\n",
              "      <td>9908</td>\n",
              "      <td>22005</td>\n",
              "      <td>7.305007</td>\n",
              "      <td>16.223928</td>\n",
              "    </tr>\n",
              "    <tr>\n",
              "      <th>3</th>\n",
              "      <td>용산구</td>\n",
              "      <td>245090</td>\n",
              "      <td>228999</td>\n",
              "      <td>16091</td>\n",
              "      <td>37640</td>\n",
              "      <td>6.565343</td>\n",
              "      <td>15.357624</td>\n",
              "    </tr>\n",
              "  </tbody>\n",
              "</table>\n",
              "</div>"
            ],
            "text/plain": [
              "      구별     인구수     한국인    외국인    고령자     외국인비율      고령자비율\n",
              "19  영등포구  403600  367778  35822  55673  8.875619  13.794103\n",
              "18   금천구  254021  233917  20104  35739  7.914306  14.069309\n",
              "17   구로구  438486  404497  33989  61801  7.751445  14.094179\n",
              "2     중구  135633  125725   9908  22005  7.305007  16.223928\n",
              "3    용산구  245090  228999  16091  37640  6.565343  15.357624"
            ]
          },
          "metadata": {
            "tags": []
          },
          "execution_count": 29
        }
      ]
    },
    {
      "cell_type": "code",
      "metadata": {
        "id": "gkWEdxxFuMsr",
        "colab_type": "code",
        "outputId": "d2283846-e7cd-4a0e-c5b9-7734334a748b",
        "colab": {
          "base_uri": "https://localhost:8080/",
          "height": 204
        }
      },
      "source": [
        "# 고령자로 정렬\n",
        "# 고령자 순은 송파구 > 강서구 > 은평구\n",
        "\n",
        "pop_Seoul.sort_values(by='고령자', ascending=False).head(5)"
      ],
      "execution_count": 0,
      "outputs": [
        {
          "output_type": "execute_result",
          "data": {
            "text/html": [
              "<div>\n",
              "<style scoped>\n",
              "    .dataframe tbody tr th:only-of-type {\n",
              "        vertical-align: middle;\n",
              "    }\n",
              "\n",
              "    .dataframe tbody tr th {\n",
              "        vertical-align: top;\n",
              "    }\n",
              "\n",
              "    .dataframe thead th {\n",
              "        text-align: right;\n",
              "    }\n",
              "</style>\n",
              "<table border=\"1\" class=\"dataframe\">\n",
              "  <thead>\n",
              "    <tr style=\"text-align: right;\">\n",
              "      <th></th>\n",
              "      <th>구별</th>\n",
              "      <th>인구수</th>\n",
              "      <th>한국인</th>\n",
              "      <th>외국인</th>\n",
              "      <th>고령자</th>\n",
              "      <th>외국인비율</th>\n",
              "      <th>고령자비율</th>\n",
              "    </tr>\n",
              "  </thead>\n",
              "  <tbody>\n",
              "    <tr>\n",
              "      <th>24</th>\n",
              "      <td>송파구</td>\n",
              "      <td>673507</td>\n",
              "      <td>666635</td>\n",
              "      <td>6872</td>\n",
              "      <td>81364</td>\n",
              "      <td>1.020331</td>\n",
              "      <td>12.080647</td>\n",
              "    </tr>\n",
              "    <tr>\n",
              "      <th>16</th>\n",
              "      <td>강서구</td>\n",
              "      <td>603611</td>\n",
              "      <td>596949</td>\n",
              "      <td>6662</td>\n",
              "      <td>79660</td>\n",
              "      <td>1.103691</td>\n",
              "      <td>13.197241</td>\n",
              "    </tr>\n",
              "    <tr>\n",
              "      <th>12</th>\n",
              "      <td>은평구</td>\n",
              "      <td>487666</td>\n",
              "      <td>483197</td>\n",
              "      <td>4469</td>\n",
              "      <td>77420</td>\n",
              "      <td>0.916406</td>\n",
              "      <td>15.875620</td>\n",
              "    </tr>\n",
              "    <tr>\n",
              "      <th>11</th>\n",
              "      <td>노원구</td>\n",
              "      <td>548160</td>\n",
              "      <td>543752</td>\n",
              "      <td>4408</td>\n",
              "      <td>77096</td>\n",
              "      <td>0.804145</td>\n",
              "      <td>14.064507</td>\n",
              "    </tr>\n",
              "    <tr>\n",
              "      <th>21</th>\n",
              "      <td>관악구</td>\n",
              "      <td>520040</td>\n",
              "      <td>501957</td>\n",
              "      <td>18083</td>\n",
              "      <td>72249</td>\n",
              "      <td>3.477233</td>\n",
              "      <td>13.892970</td>\n",
              "    </tr>\n",
              "  </tbody>\n",
              "</table>\n",
              "</div>"
            ],
            "text/plain": [
              "     구별     인구수     한국인    외국인    고령자     외국인비율      고령자비율\n",
              "24  송파구  673507  666635   6872  81364  1.020331  12.080647\n",
              "16  강서구  603611  596949   6662  79660  1.103691  13.197241\n",
              "12  은평구  487666  483197   4469  77420  0.916406  15.875620\n",
              "11  노원구  548160  543752   4408  77096  0.804145  14.064507\n",
              "21  관악구  520040  501957  18083  72249  3.477233  13.892970"
            ]
          },
          "metadata": {
            "tags": []
          },
          "execution_count": 30
        }
      ]
    },
    {
      "cell_type": "code",
      "metadata": {
        "id": "fE8JZvVTuYml",
        "colab_type": "code",
        "outputId": "010096e9-8c16-4374-f994-1e70e2c283c9",
        "colab": {
          "base_uri": "https://localhost:8080/",
          "height": 204
        }
      },
      "source": [
        "# 고령자비율로 정렬\n",
        "# 고령자 비율 순은 강북구 > 종로구 > 도봉구\n",
        "\n",
        "pop_Seoul.sort_values(by='고령자비율', ascending=False).head(5)"
      ],
      "execution_count": 0,
      "outputs": [
        {
          "output_type": "execute_result",
          "data": {
            "text/html": [
              "<div>\n",
              "<style scoped>\n",
              "    .dataframe tbody tr th:only-of-type {\n",
              "        vertical-align: middle;\n",
              "    }\n",
              "\n",
              "    .dataframe tbody tr th {\n",
              "        vertical-align: top;\n",
              "    }\n",
              "\n",
              "    .dataframe thead th {\n",
              "        text-align: right;\n",
              "    }\n",
              "</style>\n",
              "<table border=\"1\" class=\"dataframe\">\n",
              "  <thead>\n",
              "    <tr style=\"text-align: right;\">\n",
              "      <th></th>\n",
              "      <th>구별</th>\n",
              "      <th>인구수</th>\n",
              "      <th>한국인</th>\n",
              "      <th>외국인</th>\n",
              "      <th>고령자</th>\n",
              "      <th>외국인비율</th>\n",
              "      <th>고령자비율</th>\n",
              "    </tr>\n",
              "  </thead>\n",
              "  <tbody>\n",
              "    <tr>\n",
              "      <th>9</th>\n",
              "      <td>강북구</td>\n",
              "      <td>322915</td>\n",
              "      <td>319164</td>\n",
              "      <td>3751</td>\n",
              "      <td>58196</td>\n",
              "      <td>1.161606</td>\n",
              "      <td>18.022080</td>\n",
              "    </tr>\n",
              "    <tr>\n",
              "      <th>1</th>\n",
              "      <td>종로구</td>\n",
              "      <td>163026</td>\n",
              "      <td>153065</td>\n",
              "      <td>9961</td>\n",
              "      <td>26742</td>\n",
              "      <td>6.110068</td>\n",
              "      <td>16.403518</td>\n",
              "    </tr>\n",
              "    <tr>\n",
              "      <th>10</th>\n",
              "      <td>도봉구</td>\n",
              "      <td>341649</td>\n",
              "      <td>339413</td>\n",
              "      <td>2236</td>\n",
              "      <td>55964</td>\n",
              "      <td>0.654473</td>\n",
              "      <td>16.380554</td>\n",
              "    </tr>\n",
              "    <tr>\n",
              "      <th>2</th>\n",
              "      <td>중구</td>\n",
              "      <td>135633</td>\n",
              "      <td>125725</td>\n",
              "      <td>9908</td>\n",
              "      <td>22005</td>\n",
              "      <td>7.305007</td>\n",
              "      <td>16.223928</td>\n",
              "    </tr>\n",
              "    <tr>\n",
              "      <th>12</th>\n",
              "      <td>은평구</td>\n",
              "      <td>487666</td>\n",
              "      <td>483197</td>\n",
              "      <td>4469</td>\n",
              "      <td>77420</td>\n",
              "      <td>0.916406</td>\n",
              "      <td>15.875620</td>\n",
              "    </tr>\n",
              "  </tbody>\n",
              "</table>\n",
              "</div>"
            ],
            "text/plain": [
              "     구별     인구수     한국인   외국인    고령자     외국인비율      고령자비율\n",
              "9   강북구  322915  319164  3751  58196  1.161606  18.022080\n",
              "1   종로구  163026  153065  9961  26742  6.110068  16.403518\n",
              "10  도봉구  341649  339413  2236  55964  0.654473  16.380554\n",
              "2    중구  135633  125725  9908  22005  7.305007  16.223928\n",
              "12  은평구  487666  483197  4469  77420  0.916406  15.875620"
            ]
          },
          "metadata": {
            "tags": []
          },
          "execution_count": 32
        }
      ]
    },
    {
      "cell_type": "code",
      "metadata": {
        "id": "3OohCM1KucAt",
        "colab_type": "code",
        "outputId": "ea5ebd0b-7fde-44ab-fbc8-fc0b40c67d5e",
        "colab": {
          "base_uri": "https://localhost:8080/",
          "height": 204
        }
      },
      "source": [
        "# 이제 두 데이터의 공통된 컬럼인 '구별' 로 merge\n",
        "data_result = pd.merge(CCTV_Seoul, pop_Seoul, on='구별')\n",
        "data_result.head()"
      ],
      "execution_count": 0,
      "outputs": [
        {
          "output_type": "execute_result",
          "data": {
            "text/html": [
              "<div>\n",
              "<style scoped>\n",
              "    .dataframe tbody tr th:only-of-type {\n",
              "        vertical-align: middle;\n",
              "    }\n",
              "\n",
              "    .dataframe tbody tr th {\n",
              "        vertical-align: top;\n",
              "    }\n",
              "\n",
              "    .dataframe thead th {\n",
              "        text-align: right;\n",
              "    }\n",
              "</style>\n",
              "<table border=\"1\" class=\"dataframe\">\n",
              "  <thead>\n",
              "    <tr style=\"text-align: right;\">\n",
              "      <th></th>\n",
              "      <th>구별</th>\n",
              "      <th>소계</th>\n",
              "      <th>2013년도 이전</th>\n",
              "      <th>2014년</th>\n",
              "      <th>2015년</th>\n",
              "      <th>2016년</th>\n",
              "      <th>최근증가율</th>\n",
              "      <th>인구수</th>\n",
              "      <th>한국인</th>\n",
              "      <th>외국인</th>\n",
              "      <th>고령자</th>\n",
              "      <th>외국인비율</th>\n",
              "      <th>고령자비율</th>\n",
              "    </tr>\n",
              "  </thead>\n",
              "  <tbody>\n",
              "    <tr>\n",
              "      <th>0</th>\n",
              "      <td>강남구</td>\n",
              "      <td>3238</td>\n",
              "      <td>1292</td>\n",
              "      <td>430</td>\n",
              "      <td>584</td>\n",
              "      <td>932</td>\n",
              "      <td>1549.281734</td>\n",
              "      <td>547453</td>\n",
              "      <td>542364</td>\n",
              "      <td>5089</td>\n",
              "      <td>67085</td>\n",
              "      <td>0.929578</td>\n",
              "      <td>12.254020</td>\n",
              "    </tr>\n",
              "    <tr>\n",
              "      <th>1</th>\n",
              "      <td>강동구</td>\n",
              "      <td>1010</td>\n",
              "      <td>379</td>\n",
              "      <td>99</td>\n",
              "      <td>155</td>\n",
              "      <td>377</td>\n",
              "      <td>558.121372</td>\n",
              "      <td>431920</td>\n",
              "      <td>427573</td>\n",
              "      <td>4347</td>\n",
              "      <td>58770</td>\n",
              "      <td>1.006436</td>\n",
              "      <td>13.606686</td>\n",
              "    </tr>\n",
              "    <tr>\n",
              "      <th>2</th>\n",
              "      <td>강북구</td>\n",
              "      <td>831</td>\n",
              "      <td>369</td>\n",
              "      <td>120</td>\n",
              "      <td>138</td>\n",
              "      <td>204</td>\n",
              "      <td>374.520325</td>\n",
              "      <td>322915</td>\n",
              "      <td>319164</td>\n",
              "      <td>3751</td>\n",
              "      <td>58196</td>\n",
              "      <td>1.161606</td>\n",
              "      <td>18.022080</td>\n",
              "    </tr>\n",
              "    <tr>\n",
              "      <th>3</th>\n",
              "      <td>강서구</td>\n",
              "      <td>911</td>\n",
              "      <td>388</td>\n",
              "      <td>258</td>\n",
              "      <td>184</td>\n",
              "      <td>81</td>\n",
              "      <td>331.494845</td>\n",
              "      <td>603611</td>\n",
              "      <td>596949</td>\n",
              "      <td>6662</td>\n",
              "      <td>79660</td>\n",
              "      <td>1.103691</td>\n",
              "      <td>13.197241</td>\n",
              "    </tr>\n",
              "    <tr>\n",
              "      <th>4</th>\n",
              "      <td>관악구</td>\n",
              "      <td>2109</td>\n",
              "      <td>846</td>\n",
              "      <td>260</td>\n",
              "      <td>390</td>\n",
              "      <td>613</td>\n",
              "      <td>1033.732861</td>\n",
              "      <td>520040</td>\n",
              "      <td>501957</td>\n",
              "      <td>18083</td>\n",
              "      <td>72249</td>\n",
              "      <td>3.477233</td>\n",
              "      <td>13.892970</td>\n",
              "    </tr>\n",
              "  </tbody>\n",
              "</table>\n",
              "</div>"
            ],
            "text/plain": [
              "    구별    소계  2013년도 이전  2014년  2015년  2016년        최근증가율     인구수     한국인  \\\n",
              "0  강남구  3238       1292    430    584    932  1549.281734  547453  542364   \n",
              "1  강동구  1010        379     99    155    377   558.121372  431920  427573   \n",
              "2  강북구   831        369    120    138    204   374.520325  322915  319164   \n",
              "3  강서구   911        388    258    184     81   331.494845  603611  596949   \n",
              "4  관악구  2109        846    260    390    613  1033.732861  520040  501957   \n",
              "\n",
              "     외국인    고령자     외국인비율      고령자비율  \n",
              "0   5089  67085  0.929578  12.254020  \n",
              "1   4347  58770  1.006436  13.606686  \n",
              "2   3751  58196  1.161606  18.022080  \n",
              "3   6662  79660  1.103691  13.197241  \n",
              "4  18083  72249  3.477233  13.892970  "
            ]
          },
          "metadata": {
            "tags": []
          },
          "execution_count": 34
        }
      ]
    },
    {
      "cell_type": "code",
      "metadata": {
        "id": "kEw2yz5213N1",
        "colab_type": "code",
        "outputId": "4badf7d7-f907-4a8c-dce4-56e48c9c44b2",
        "colab": {
          "base_uri": "https://localhost:8080/",
          "height": 204
        }
      },
      "source": [
        "# 의미 없는 컬럼은 지우도록 하겠습니다. \n",
        "# 행 방향으로 삭제하는 것은 drop\n",
        "# 열 삭제하는 명령은 del\n",
        "\n",
        "del data_result['2013년도 이전']\n",
        "del data_result['2014년']\n",
        "del data_result['2015년']\n",
        "del data_result['2016년']\n",
        "data_result.head()"
      ],
      "execution_count": 0,
      "outputs": [
        {
          "output_type": "execute_result",
          "data": {
            "text/html": [
              "<div>\n",
              "<style scoped>\n",
              "    .dataframe tbody tr th:only-of-type {\n",
              "        vertical-align: middle;\n",
              "    }\n",
              "\n",
              "    .dataframe tbody tr th {\n",
              "        vertical-align: top;\n",
              "    }\n",
              "\n",
              "    .dataframe thead th {\n",
              "        text-align: right;\n",
              "    }\n",
              "</style>\n",
              "<table border=\"1\" class=\"dataframe\">\n",
              "  <thead>\n",
              "    <tr style=\"text-align: right;\">\n",
              "      <th></th>\n",
              "      <th>구별</th>\n",
              "      <th>소계</th>\n",
              "      <th>최근증가율</th>\n",
              "      <th>인구수</th>\n",
              "      <th>한국인</th>\n",
              "      <th>외국인</th>\n",
              "      <th>고령자</th>\n",
              "      <th>외국인비율</th>\n",
              "      <th>고령자비율</th>\n",
              "    </tr>\n",
              "  </thead>\n",
              "  <tbody>\n",
              "    <tr>\n",
              "      <th>0</th>\n",
              "      <td>강남구</td>\n",
              "      <td>3238</td>\n",
              "      <td>1549.281734</td>\n",
              "      <td>547453</td>\n",
              "      <td>542364</td>\n",
              "      <td>5089</td>\n",
              "      <td>67085</td>\n",
              "      <td>0.929578</td>\n",
              "      <td>12.254020</td>\n",
              "    </tr>\n",
              "    <tr>\n",
              "      <th>1</th>\n",
              "      <td>강동구</td>\n",
              "      <td>1010</td>\n",
              "      <td>558.121372</td>\n",
              "      <td>431920</td>\n",
              "      <td>427573</td>\n",
              "      <td>4347</td>\n",
              "      <td>58770</td>\n",
              "      <td>1.006436</td>\n",
              "      <td>13.606686</td>\n",
              "    </tr>\n",
              "    <tr>\n",
              "      <th>2</th>\n",
              "      <td>강북구</td>\n",
              "      <td>831</td>\n",
              "      <td>374.520325</td>\n",
              "      <td>322915</td>\n",
              "      <td>319164</td>\n",
              "      <td>3751</td>\n",
              "      <td>58196</td>\n",
              "      <td>1.161606</td>\n",
              "      <td>18.022080</td>\n",
              "    </tr>\n",
              "    <tr>\n",
              "      <th>3</th>\n",
              "      <td>강서구</td>\n",
              "      <td>911</td>\n",
              "      <td>331.494845</td>\n",
              "      <td>603611</td>\n",
              "      <td>596949</td>\n",
              "      <td>6662</td>\n",
              "      <td>79660</td>\n",
              "      <td>1.103691</td>\n",
              "      <td>13.197241</td>\n",
              "    </tr>\n",
              "    <tr>\n",
              "      <th>4</th>\n",
              "      <td>관악구</td>\n",
              "      <td>2109</td>\n",
              "      <td>1033.732861</td>\n",
              "      <td>520040</td>\n",
              "      <td>501957</td>\n",
              "      <td>18083</td>\n",
              "      <td>72249</td>\n",
              "      <td>3.477233</td>\n",
              "      <td>13.892970</td>\n",
              "    </tr>\n",
              "  </tbody>\n",
              "</table>\n",
              "</div>"
            ],
            "text/plain": [
              "    구별    소계        최근증가율     인구수     한국인    외국인    고령자     외국인비율      고령자비율\n",
              "0  강남구  3238  1549.281734  547453  542364   5089  67085  0.929578  12.254020\n",
              "1  강동구  1010   558.121372  431920  427573   4347  58770  1.006436  13.606686\n",
              "2  강북구   831   374.520325  322915  319164   3751  58196  1.161606  18.022080\n",
              "3  강서구   911   331.494845  603611  596949   6662  79660  1.103691  13.197241\n",
              "4  관악구  2109  1033.732861  520040  501957  18083  72249  3.477233  13.892970"
            ]
          },
          "metadata": {
            "tags": []
          },
          "execution_count": 35
        }
      ]
    },
    {
      "cell_type": "code",
      "metadata": {
        "id": "rGGk1R0O2QiR",
        "colab_type": "code",
        "outputId": "efa0cf3a-e353-46a5-f06a-a310de396e1f",
        "colab": {
          "base_uri": "https://localhost:8080/",
          "height": 235
        }
      },
      "source": [
        "# 나중에 그래프 그릴 것을 생각하면 index는 구 이름이 되면 여러모로 유리함.\n",
        "# 그렇게 설정하는 명령이 set_index\n",
        "\n",
        "data_result.set_index('구별', inplace=True)\n",
        "data_result.head()"
      ],
      "execution_count": 0,
      "outputs": [
        {
          "output_type": "execute_result",
          "data": {
            "text/html": [
              "<div>\n",
              "<style scoped>\n",
              "    .dataframe tbody tr th:only-of-type {\n",
              "        vertical-align: middle;\n",
              "    }\n",
              "\n",
              "    .dataframe tbody tr th {\n",
              "        vertical-align: top;\n",
              "    }\n",
              "\n",
              "    .dataframe thead th {\n",
              "        text-align: right;\n",
              "    }\n",
              "</style>\n",
              "<table border=\"1\" class=\"dataframe\">\n",
              "  <thead>\n",
              "    <tr style=\"text-align: right;\">\n",
              "      <th></th>\n",
              "      <th>소계</th>\n",
              "      <th>최근증가율</th>\n",
              "      <th>인구수</th>\n",
              "      <th>한국인</th>\n",
              "      <th>외국인</th>\n",
              "      <th>고령자</th>\n",
              "      <th>외국인비율</th>\n",
              "      <th>고령자비율</th>\n",
              "    </tr>\n",
              "    <tr>\n",
              "      <th>구별</th>\n",
              "      <th></th>\n",
              "      <th></th>\n",
              "      <th></th>\n",
              "      <th></th>\n",
              "      <th></th>\n",
              "      <th></th>\n",
              "      <th></th>\n",
              "      <th></th>\n",
              "    </tr>\n",
              "  </thead>\n",
              "  <tbody>\n",
              "    <tr>\n",
              "      <th>강남구</th>\n",
              "      <td>3238</td>\n",
              "      <td>1549.281734</td>\n",
              "      <td>547453</td>\n",
              "      <td>542364</td>\n",
              "      <td>5089</td>\n",
              "      <td>67085</td>\n",
              "      <td>0.929578</td>\n",
              "      <td>12.254020</td>\n",
              "    </tr>\n",
              "    <tr>\n",
              "      <th>강동구</th>\n",
              "      <td>1010</td>\n",
              "      <td>558.121372</td>\n",
              "      <td>431920</td>\n",
              "      <td>427573</td>\n",
              "      <td>4347</td>\n",
              "      <td>58770</td>\n",
              "      <td>1.006436</td>\n",
              "      <td>13.606686</td>\n",
              "    </tr>\n",
              "    <tr>\n",
              "      <th>강북구</th>\n",
              "      <td>831</td>\n",
              "      <td>374.520325</td>\n",
              "      <td>322915</td>\n",
              "      <td>319164</td>\n",
              "      <td>3751</td>\n",
              "      <td>58196</td>\n",
              "      <td>1.161606</td>\n",
              "      <td>18.022080</td>\n",
              "    </tr>\n",
              "    <tr>\n",
              "      <th>강서구</th>\n",
              "      <td>911</td>\n",
              "      <td>331.494845</td>\n",
              "      <td>603611</td>\n",
              "      <td>596949</td>\n",
              "      <td>6662</td>\n",
              "      <td>79660</td>\n",
              "      <td>1.103691</td>\n",
              "      <td>13.197241</td>\n",
              "    </tr>\n",
              "    <tr>\n",
              "      <th>관악구</th>\n",
              "      <td>2109</td>\n",
              "      <td>1033.732861</td>\n",
              "      <td>520040</td>\n",
              "      <td>501957</td>\n",
              "      <td>18083</td>\n",
              "      <td>72249</td>\n",
              "      <td>3.477233</td>\n",
              "      <td>13.892970</td>\n",
              "    </tr>\n",
              "  </tbody>\n",
              "</table>\n",
              "</div>"
            ],
            "text/plain": [
              "       소계        최근증가율     인구수     한국인    외국인    고령자     외국인비율      고령자비율\n",
              "구별                                                                       \n",
              "강남구  3238  1549.281734  547453  542364   5089  67085  0.929578  12.254020\n",
              "강동구  1010   558.121372  431920  427573   4347  58770  1.006436  13.606686\n",
              "강북구   831   374.520325  322915  319164   3751  58196  1.161606  18.022080\n",
              "강서구   911   331.494845  603611  596949   6662  79660  1.103691  13.197241\n",
              "관악구  2109  1033.732861  520040  501957  18083  72249  3.477233  13.892970"
            ]
          },
          "metadata": {
            "tags": []
          },
          "execution_count": 37
        }
      ]
    },
    {
      "cell_type": "code",
      "metadata": {
        "id": "gNOKetJ82fxm",
        "colab_type": "code",
        "outputId": "6f56e817-6707-4719-dbcb-bb3c1ac1f887",
        "colab": {
          "base_uri": "https://localhost:8080/",
          "height": 51
        }
      },
      "source": [
        "# 상관분석 실시\n",
        "# numpy 의 corrcoef 명령어 사용\n",
        "\n",
        "np.corrcoef(data_result['고령자비율'],data_result['소계'])\n",
        "                       "
      ],
      "execution_count": 0,
      "outputs": [
        {
          "output_type": "execute_result",
          "data": {
            "text/plain": [
              "array([[ 1.        , -0.27474224],\n",
              "       [-0.27474224,  1.        ]])"
            ]
          },
          "metadata": {
            "tags": []
          },
          "execution_count": 40
        }
      ]
    },
    {
      "cell_type": "code",
      "metadata": {
        "id": "IfCE4l0T3C9T",
        "colab_type": "code",
        "outputId": "2845f340-4ce0-4356-ddc4-075fc625e0fd",
        "colab": {
          "base_uri": "https://localhost:8080/",
          "height": 51
        }
      },
      "source": [
        "np.corrcoef(data_result['외국인비율'],data_result['소계'])"
      ],
      "execution_count": 0,
      "outputs": [
        {
          "output_type": "execute_result",
          "data": {
            "text/plain": [
              "array([[ 1.        , -0.05057013],\n",
              "       [-0.05057013,  1.        ]])"
            ]
          },
          "metadata": {
            "tags": []
          },
          "execution_count": 41
        }
      ]
    },
    {
      "cell_type": "code",
      "metadata": {
        "id": "LneKVqyv3Rsb",
        "colab_type": "code",
        "outputId": "1f4f5f87-1d64-45bc-a238-be42b119facc",
        "colab": {
          "base_uri": "https://localhost:8080/",
          "height": 51
        }
      },
      "source": [
        "np.corrcoef(data_result['인구수'],data_result['소계'])"
      ],
      "execution_count": 0,
      "outputs": [
        {
          "output_type": "execute_result",
          "data": {
            "text/plain": [
              "array([[1.        , 0.22152789],\n",
              "       [0.22152789, 1.        ]])"
            ]
          },
          "metadata": {
            "tags": []
          },
          "execution_count": 42
        }
      ]
    },
    {
      "cell_type": "code",
      "metadata": {
        "id": "7yU4Z0yq3TEF",
        "colab_type": "code",
        "colab": {}
      },
      "source": [
        "# 조사결과 \n",
        "# CCTV 개수와 고령자 비율 : 약한 음의 상관관계\n",
        "# CCTV 개수와 외국인 비율 : 약한 음의 상관관계\n",
        "# CCTV 개수와 인구수 비율 : 0.2 약한 상관관계"
      ],
      "execution_count": 0,
      "outputs": []
    },
    {
      "cell_type": "code",
      "metadata": {
        "id": "gspkodxh3nLV",
        "colab_type": "code",
        "outputId": "2d9761c1-903e-4294-beca-d7d7406b5889",
        "colab": {
          "base_uri": "https://localhost:8080/",
          "height": 235
        }
      },
      "source": [
        "data_result.sort_values(by='소계', ascending=False).head(5)"
      ],
      "execution_count": 0,
      "outputs": [
        {
          "output_type": "execute_result",
          "data": {
            "text/html": [
              "<div>\n",
              "<style scoped>\n",
              "    .dataframe tbody tr th:only-of-type {\n",
              "        vertical-align: middle;\n",
              "    }\n",
              "\n",
              "    .dataframe tbody tr th {\n",
              "        vertical-align: top;\n",
              "    }\n",
              "\n",
              "    .dataframe thead th {\n",
              "        text-align: right;\n",
              "    }\n",
              "</style>\n",
              "<table border=\"1\" class=\"dataframe\">\n",
              "  <thead>\n",
              "    <tr style=\"text-align: right;\">\n",
              "      <th></th>\n",
              "      <th>소계</th>\n",
              "      <th>최근증가율</th>\n",
              "      <th>인구수</th>\n",
              "      <th>한국인</th>\n",
              "      <th>외국인</th>\n",
              "      <th>고령자</th>\n",
              "      <th>외국인비율</th>\n",
              "      <th>고령자비율</th>\n",
              "    </tr>\n",
              "    <tr>\n",
              "      <th>구별</th>\n",
              "      <th></th>\n",
              "      <th></th>\n",
              "      <th></th>\n",
              "      <th></th>\n",
              "      <th></th>\n",
              "      <th></th>\n",
              "      <th></th>\n",
              "      <th></th>\n",
              "    </tr>\n",
              "  </thead>\n",
              "  <tbody>\n",
              "    <tr>\n",
              "      <th>강남구</th>\n",
              "      <td>3238</td>\n",
              "      <td>1549.281734</td>\n",
              "      <td>547453</td>\n",
              "      <td>542364</td>\n",
              "      <td>5089</td>\n",
              "      <td>67085</td>\n",
              "      <td>0.929578</td>\n",
              "      <td>12.254020</td>\n",
              "    </tr>\n",
              "    <tr>\n",
              "      <th>양천구</th>\n",
              "      <td>2482</td>\n",
              "      <td>504.704829</td>\n",
              "      <td>468145</td>\n",
              "      <td>464185</td>\n",
              "      <td>3960</td>\n",
              "      <td>58045</td>\n",
              "      <td>0.845892</td>\n",
              "      <td>12.398936</td>\n",
              "    </tr>\n",
              "    <tr>\n",
              "      <th>서초구</th>\n",
              "      <td>2297</td>\n",
              "      <td>745.166430</td>\n",
              "      <td>438163</td>\n",
              "      <td>433951</td>\n",
              "      <td>4212</td>\n",
              "      <td>54751</td>\n",
              "      <td>0.961286</td>\n",
              "      <td>12.495578</td>\n",
              "    </tr>\n",
              "    <tr>\n",
              "      <th>관악구</th>\n",
              "      <td>2109</td>\n",
              "      <td>1033.732861</td>\n",
              "      <td>520040</td>\n",
              "      <td>501957</td>\n",
              "      <td>18083</td>\n",
              "      <td>72249</td>\n",
              "      <td>3.477233</td>\n",
              "      <td>13.892970</td>\n",
              "    </tr>\n",
              "    <tr>\n",
              "      <th>은평구</th>\n",
              "      <td>2108</td>\n",
              "      <td>765.683656</td>\n",
              "      <td>487666</td>\n",
              "      <td>483197</td>\n",
              "      <td>4469</td>\n",
              "      <td>77420</td>\n",
              "      <td>0.916406</td>\n",
              "      <td>15.875620</td>\n",
              "    </tr>\n",
              "  </tbody>\n",
              "</table>\n",
              "</div>"
            ],
            "text/plain": [
              "       소계        최근증가율     인구수     한국인    외국인    고령자     외국인비율      고령자비율\n",
              "구별                                                                       \n",
              "강남구  3238  1549.281734  547453  542364   5089  67085  0.929578  12.254020\n",
              "양천구  2482   504.704829  468145  464185   3960  58045  0.845892  12.398936\n",
              "서초구  2297   745.166430  438163  433951   4212  54751  0.961286  12.495578\n",
              "관악구  2109  1033.732861  520040  501957  18083  72249  3.477233  13.892970\n",
              "은평구  2108   765.683656  487666  483197   4469  77420  0.916406  15.875620"
            ]
          },
          "metadata": {
            "tags": []
          },
          "execution_count": 45
        }
      ]
    },
    {
      "cell_type": "code",
      "metadata": {
        "id": "U71cb2nt3uFl",
        "colab_type": "code",
        "outputId": "d73d380f-30c4-44cb-aad9-ae8c29b34ca2",
        "colab": {
          "base_uri": "https://localhost:8080/",
          "height": 235
        }
      },
      "source": [
        "data_result.sort_values(by='인구수', ascending=False).head(5)"
      ],
      "execution_count": 0,
      "outputs": [
        {
          "output_type": "execute_result",
          "data": {
            "text/html": [
              "<div>\n",
              "<style scoped>\n",
              "    .dataframe tbody tr th:only-of-type {\n",
              "        vertical-align: middle;\n",
              "    }\n",
              "\n",
              "    .dataframe tbody tr th {\n",
              "        vertical-align: top;\n",
              "    }\n",
              "\n",
              "    .dataframe thead th {\n",
              "        text-align: right;\n",
              "    }\n",
              "</style>\n",
              "<table border=\"1\" class=\"dataframe\">\n",
              "  <thead>\n",
              "    <tr style=\"text-align: right;\">\n",
              "      <th></th>\n",
              "      <th>소계</th>\n",
              "      <th>최근증가율</th>\n",
              "      <th>인구수</th>\n",
              "      <th>한국인</th>\n",
              "      <th>외국인</th>\n",
              "      <th>고령자</th>\n",
              "      <th>외국인비율</th>\n",
              "      <th>고령자비율</th>\n",
              "    </tr>\n",
              "    <tr>\n",
              "      <th>구별</th>\n",
              "      <th></th>\n",
              "      <th></th>\n",
              "      <th></th>\n",
              "      <th></th>\n",
              "      <th></th>\n",
              "      <th></th>\n",
              "      <th></th>\n",
              "      <th></th>\n",
              "    </tr>\n",
              "  </thead>\n",
              "  <tbody>\n",
              "    <tr>\n",
              "      <th>송파구</th>\n",
              "      <td>1081</td>\n",
              "      <td>534.969754</td>\n",
              "      <td>673507</td>\n",
              "      <td>666635</td>\n",
              "      <td>6872</td>\n",
              "      <td>81364</td>\n",
              "      <td>1.020331</td>\n",
              "      <td>12.080647</td>\n",
              "    </tr>\n",
              "    <tr>\n",
              "      <th>강서구</th>\n",
              "      <td>911</td>\n",
              "      <td>331.494845</td>\n",
              "      <td>603611</td>\n",
              "      <td>596949</td>\n",
              "      <td>6662</td>\n",
              "      <td>79660</td>\n",
              "      <td>1.103691</td>\n",
              "      <td>13.197241</td>\n",
              "    </tr>\n",
              "    <tr>\n",
              "      <th>노원구</th>\n",
              "      <td>1566</td>\n",
              "      <td>977.516605</td>\n",
              "      <td>548160</td>\n",
              "      <td>543752</td>\n",
              "      <td>4408</td>\n",
              "      <td>77096</td>\n",
              "      <td>0.804145</td>\n",
              "      <td>14.064507</td>\n",
              "    </tr>\n",
              "    <tr>\n",
              "      <th>강남구</th>\n",
              "      <td>3238</td>\n",
              "      <td>1549.281734</td>\n",
              "      <td>547453</td>\n",
              "      <td>542364</td>\n",
              "      <td>5089</td>\n",
              "      <td>67085</td>\n",
              "      <td>0.929578</td>\n",
              "      <td>12.254020</td>\n",
              "    </tr>\n",
              "    <tr>\n",
              "      <th>관악구</th>\n",
              "      <td>2109</td>\n",
              "      <td>1033.732861</td>\n",
              "      <td>520040</td>\n",
              "      <td>501957</td>\n",
              "      <td>18083</td>\n",
              "      <td>72249</td>\n",
              "      <td>3.477233</td>\n",
              "      <td>13.892970</td>\n",
              "    </tr>\n",
              "  </tbody>\n",
              "</table>\n",
              "</div>"
            ],
            "text/plain": [
              "       소계        최근증가율     인구수     한국인    외국인    고령자     외국인비율      고령자비율\n",
              "구별                                                                       \n",
              "송파구  1081   534.969754  673507  666635   6872  81364  1.020331  12.080647\n",
              "강서구   911   331.494845  603611  596949   6662  79660  1.103691  13.197241\n",
              "노원구  1566   977.516605  548160  543752   4408  77096  0.804145  14.064507\n",
              "강남구  3238  1549.281734  547453  542364   5089  67085  0.929578  12.254020\n",
              "관악구  2109  1033.732861  520040  501957  18083  72249  3.477233  13.892970"
            ]
          },
          "metadata": {
            "tags": []
          },
          "execution_count": 46
        }
      ]
    },
    {
      "cell_type": "code",
      "metadata": {
        "id": "yqp7c6KC36Qk",
        "colab_type": "code",
        "colab": {}
      },
      "source": [
        "# 위에 보듯이 CCTV가 많이 설치된 구와 인구수가 많은 구를 시각적으로 비교"
      ],
      "execution_count": 0,
      "outputs": []
    },
    {
      "cell_type": "code",
      "metadata": {
        "id": "xpO0utof-Oj_",
        "colab_type": "code",
        "outputId": "5deaa596-26f2-4e0a-fbd5-83ebfae05fed",
        "colab": {
          "base_uri": "https://localhost:8080/",
          "height": 235
        }
      },
      "source": [
        "data_result.head()"
      ],
      "execution_count": 0,
      "outputs": [
        {
          "output_type": "execute_result",
          "data": {
            "text/html": [
              "<div>\n",
              "<style scoped>\n",
              "    .dataframe tbody tr th:only-of-type {\n",
              "        vertical-align: middle;\n",
              "    }\n",
              "\n",
              "    .dataframe tbody tr th {\n",
              "        vertical-align: top;\n",
              "    }\n",
              "\n",
              "    .dataframe thead th {\n",
              "        text-align: right;\n",
              "    }\n",
              "</style>\n",
              "<table border=\"1\" class=\"dataframe\">\n",
              "  <thead>\n",
              "    <tr style=\"text-align: right;\">\n",
              "      <th></th>\n",
              "      <th>소계</th>\n",
              "      <th>최근증가율</th>\n",
              "      <th>인구수</th>\n",
              "      <th>한국인</th>\n",
              "      <th>외국인</th>\n",
              "      <th>고령자</th>\n",
              "      <th>외국인비율</th>\n",
              "      <th>고령자비율</th>\n",
              "    </tr>\n",
              "    <tr>\n",
              "      <th>구별</th>\n",
              "      <th></th>\n",
              "      <th></th>\n",
              "      <th></th>\n",
              "      <th></th>\n",
              "      <th></th>\n",
              "      <th></th>\n",
              "      <th></th>\n",
              "      <th></th>\n",
              "    </tr>\n",
              "  </thead>\n",
              "  <tbody>\n",
              "    <tr>\n",
              "      <th>강남구</th>\n",
              "      <td>3238</td>\n",
              "      <td>1549.281734</td>\n",
              "      <td>547453</td>\n",
              "      <td>542364</td>\n",
              "      <td>5089</td>\n",
              "      <td>67085</td>\n",
              "      <td>0.929578</td>\n",
              "      <td>12.254020</td>\n",
              "    </tr>\n",
              "    <tr>\n",
              "      <th>강동구</th>\n",
              "      <td>1010</td>\n",
              "      <td>558.121372</td>\n",
              "      <td>431920</td>\n",
              "      <td>427573</td>\n",
              "      <td>4347</td>\n",
              "      <td>58770</td>\n",
              "      <td>1.006436</td>\n",
              "      <td>13.606686</td>\n",
              "    </tr>\n",
              "    <tr>\n",
              "      <th>강북구</th>\n",
              "      <td>831</td>\n",
              "      <td>374.520325</td>\n",
              "      <td>322915</td>\n",
              "      <td>319164</td>\n",
              "      <td>3751</td>\n",
              "      <td>58196</td>\n",
              "      <td>1.161606</td>\n",
              "      <td>18.022080</td>\n",
              "    </tr>\n",
              "    <tr>\n",
              "      <th>강서구</th>\n",
              "      <td>911</td>\n",
              "      <td>331.494845</td>\n",
              "      <td>603611</td>\n",
              "      <td>596949</td>\n",
              "      <td>6662</td>\n",
              "      <td>79660</td>\n",
              "      <td>1.103691</td>\n",
              "      <td>13.197241</td>\n",
              "    </tr>\n",
              "    <tr>\n",
              "      <th>관악구</th>\n",
              "      <td>2109</td>\n",
              "      <td>1033.732861</td>\n",
              "      <td>520040</td>\n",
              "      <td>501957</td>\n",
              "      <td>18083</td>\n",
              "      <td>72249</td>\n",
              "      <td>3.477233</td>\n",
              "      <td>13.892970</td>\n",
              "    </tr>\n",
              "  </tbody>\n",
              "</table>\n",
              "</div>"
            ],
            "text/plain": [
              "       소계        최근증가율     인구수     한국인    외국인    고령자     외국인비율      고령자비율\n",
              "구별                                                                       \n",
              "강남구  3238  1549.281734  547453  542364   5089  67085  0.929578  12.254020\n",
              "강동구  1010   558.121372  431920  427573   4347  58770  1.006436  13.606686\n",
              "강북구   831   374.520325  322915  319164   3751  58196  1.161606  18.022080\n",
              "강서구   911   331.494845  603611  596949   6662  79660  1.103691  13.197241\n",
              "관악구  2109  1033.732861  520040  501957  18083  72249  3.477233  13.892970"
            ]
          },
          "metadata": {
            "tags": []
          },
          "execution_count": 47
        }
      ]
    },
    {
      "cell_type": "code",
      "metadata": {
        "id": "0v5YFSDy-QMI",
        "colab_type": "code",
        "colab": {}
      },
      "source": [
        "# 그래프를 그리는 모듈은 matplotlib.pyplot \n",
        "# 흔히 줄여서 plt\n",
        "# %matplotlib inline 명령어는 그래프의 결과를 출력 세션에 나타나게 하는 설정\n",
        "\n",
        "import matplotlib.pyplot as plt\n",
        "import matplotlib.font_manager as fm  # 폰트 관련 용도\n",
        "%matplotlib inline\n"
      ],
      "execution_count": 0,
      "outputs": []
    },
    {
      "cell_type": "code",
      "metadata": {
        "id": "GL4wN9DD-iFT",
        "colab_type": "code",
        "outputId": "e4904bd0-d3d9-4008-c1bd-df3ba3454c10",
        "colab": {
          "base_uri": "https://localhost:8080/",
          "height": 88
        }
      },
      "source": [
        "# matplotlib 한글을 지원하지 않기 떄문에 아래를 참고함\n",
        "# https://colab.research.google.com/github/nicewook/datascience_exercise/blob/master/korean_font_on_matplotlib.ipynb#scrollTo=uOjYIs0z1tlk\n",
        "\n",
        "\n",
        "sys_font=fm.findSystemFonts()\n",
        "print(f\"sys_font number: {len(sys_font)}\")\n",
        "print(sys_font)\n",
        "\n",
        "nanum_font = [f for f in sys_font if 'Nanum' in f]\n",
        "print(f\"nanum_font number: {len(nanum_font)}\")"
      ],
      "execution_count": 0,
      "outputs": [
        {
          "output_type": "stream",
          "text": [
            "sys_font number: 16\n",
            "['/usr/share/fonts/truetype/liberation/LiberationSans-Bold.ttf', '/usr/share/fonts/truetype/liberation/LiberationMono-Bold.ttf', '/usr/share/fonts/truetype/liberation/LiberationSerif-Bold.ttf', '/usr/share/fonts/truetype/liberation/LiberationSans-Regular.ttf', '/usr/share/fonts/truetype/liberation/LiberationSansNarrow-BoldItalic.ttf', '/usr/share/fonts/truetype/liberation/LiberationSerif-Italic.ttf', '/usr/share/fonts/truetype/liberation/LiberationMono-BoldItalic.ttf', '/usr/share/fonts/truetype/liberation/LiberationSansNarrow-Bold.ttf', '/usr/share/fonts/truetype/liberation/LiberationSansNarrow-Italic.ttf', '/usr/share/fonts/truetype/liberation/LiberationSans-Italic.ttf', '/usr/share/fonts/truetype/liberation/LiberationMono-Italic.ttf', '/usr/share/fonts/truetype/liberation/LiberationSansNarrow-Regular.ttf', '/usr/share/fonts/truetype/liberation/LiberationSerif-BoldItalic.ttf', '/usr/share/fonts/truetype/liberation/LiberationMono-Regular.ttf', '/usr/share/fonts/truetype/liberation/LiberationSans-BoldItalic.ttf', '/usr/share/fonts/truetype/liberation/LiberationSerif-Regular.ttf']\n",
            "nanum_font number: 0\n"
          ],
          "name": "stdout"
        }
      ]
    },
    {
      "cell_type": "code",
      "metadata": {
        "id": "zgNocPMv_N_P",
        "colab_type": "code",
        "outputId": "25168eff-fa84-4760-8482-612ec334464c",
        "colab": {
          "base_uri": "https://localhost:8080/",
          "height": 323
        }
      },
      "source": [
        "# 나눔 고딕 인스톨\n",
        "\n",
        "!apt-get update -qq\n",
        "!apt-get install fonts-nanum* -qq"
      ],
      "execution_count": 0,
      "outputs": [
        {
          "output_type": "stream",
          "text": [
            "Selecting previously unselected package fonts-nanum.\n",
            "(Reading database ... 130812 files and directories currently installed.)\n",
            "Preparing to unpack .../fonts-nanum_20170925-1_all.deb ...\n",
            "Unpacking fonts-nanum (20170925-1) ...\n",
            "Selecting previously unselected package fonts-nanum-eco.\n",
            "Preparing to unpack .../fonts-nanum-eco_1.000-6_all.deb ...\n",
            "Unpacking fonts-nanum-eco (1.000-6) ...\n",
            "Selecting previously unselected package fonts-nanum-extra.\n",
            "Preparing to unpack .../fonts-nanum-extra_20170925-1_all.deb ...\n",
            "Unpacking fonts-nanum-extra (20170925-1) ...\n",
            "Selecting previously unselected package fonts-nanum-coding.\n",
            "Preparing to unpack .../fonts-nanum-coding_2.5-1_all.deb ...\n",
            "Unpacking fonts-nanum-coding (2.5-1) ...\n",
            "Setting up fonts-nanum-extra (20170925-1) ...\n",
            "Setting up fonts-nanum (20170925-1) ...\n",
            "Setting up fonts-nanum-coding (2.5-1) ...\n",
            "Setting up fonts-nanum-eco (1.000-6) ...\n",
            "Processing triggers for fontconfig (2.12.6-0ubuntu2) ...\n"
          ],
          "name": "stdout"
        }
      ]
    },
    {
      "cell_type": "code",
      "metadata": {
        "id": "RLlbcaV2_aCp",
        "colab_type": "code",
        "outputId": "6574ccb3-4e75-46c0-d943-1a738f3c7810",
        "colab": {
          "base_uri": "https://localhost:8080/",
          "height": 51
        }
      },
      "source": [
        "# 체크해보면 폰트 개수가 늘어났다\n",
        "sys_font=fm.findSystemFonts()\n",
        "print(f\"sys_font number: {len(sys_font)}\")\n",
        "\n",
        "nanum_font = [f for f in sys_font if 'Nanum' in f]\n",
        "print(f\"nanum_font number: {len(nanum_font)}\")"
      ],
      "execution_count": 0,
      "outputs": [
        {
          "output_type": "stream",
          "text": [
            "sys_font number: 47\n",
            "nanum_font number: 31\n"
          ],
          "name": "stdout"
        }
      ]
    },
    {
      "cell_type": "code",
      "metadata": {
        "id": "QyKr9Fag_euW",
        "colab_type": "code",
        "outputId": "5e0ca751-1c31-4d8b-f86c-4ed63cf5acea",
        "colab": {
          "base_uri": "https://localhost:8080/",
          "height": 544
        }
      },
      "source": [
        "# 한번 프린트 해보자\n",
        "nanum_font"
      ],
      "execution_count": 0,
      "outputs": [
        {
          "output_type": "execute_result",
          "data": {
            "text/plain": [
              "['/usr/share/fonts/truetype/nanum/NanumGothicEcoExtraBold.ttf',\n",
              " '/usr/share/fonts/truetype/nanum/NanumBarunGothic.ttf',\n",
              " '/usr/share/fonts/truetype/nanum/NanumGothicEcoBold.ttf',\n",
              " '/usr/share/fonts/truetype/nanum/NanumSquareRoundEB.ttf',\n",
              " '/usr/share/fonts/truetype/nanum/NanumMyeongjoExtraBold.ttf',\n",
              " '/usr/share/fonts/truetype/nanum/NanumMyeongjoBold.ttf',\n",
              " '/usr/share/fonts/truetype/nanum/NanumSquareEB.ttf',\n",
              " '/usr/share/fonts/truetype/nanum/NanumGothicLight.ttf',\n",
              " '/usr/share/fonts/truetype/nanum/NanumGothicBold.ttf',\n",
              " '/usr/share/fonts/truetype/nanum/NanumSquareRoundB.ttf',\n",
              " '/usr/share/fonts/truetype/nanum/NanumMyeongjoEcoExtraBold.ttf',\n",
              " '/usr/share/fonts/truetype/nanum/NanumMyeongjo.ttf',\n",
              " '/usr/share/fonts/truetype/nanum/NanumBarunGothicBold.ttf',\n",
              " '/usr/share/fonts/truetype/nanum/NanumGothicEco.ttf',\n",
              " '/usr/share/fonts/truetype/nanum/NanumGothic.ttf',\n",
              " '/usr/share/fonts/truetype/nanum/NanumBarunpenR.ttf',\n",
              " '/usr/share/fonts/truetype/nanum/NanumGothicCoding.ttf',\n",
              " '/usr/share/fonts/truetype/nanum/NanumPen.ttf',\n",
              " '/usr/share/fonts/truetype/nanum/NanumSquareB.ttf',\n",
              " '/usr/share/fonts/truetype/nanum/NanumSquareRoundL.ttf',\n",
              " '/usr/share/fonts/truetype/nanum/NanumSquareL.ttf',\n",
              " '/usr/share/fonts/truetype/nanum/NanumGothicExtraBold.ttf',\n",
              " '/usr/share/fonts/truetype/nanum/NanumBarunGothicUltraLight.ttf',\n",
              " '/usr/share/fonts/truetype/nanum/NanumMyeongjoEcoBold.ttf',\n",
              " '/usr/share/fonts/truetype/nanum/NanumGothicCoding-Bold.ttf',\n",
              " '/usr/share/fonts/truetype/nanum/NanumSquareRoundR.ttf',\n",
              " '/usr/share/fonts/truetype/nanum/NanumBarunpenB.ttf',\n",
              " '/usr/share/fonts/truetype/nanum/NanumBarunGothicLight.ttf',\n",
              " '/usr/share/fonts/truetype/nanum/NanumSquareR.ttf',\n",
              " '/usr/share/fonts/truetype/nanum/NanumMyeongjoEco.ttf',\n",
              " '/usr/share/fonts/truetype/nanum/NanumBrush.ttf']"
            ]
          },
          "metadata": {
            "tags": []
          },
          "execution_count": 70
        }
      ]
    },
    {
      "cell_type": "code",
      "metadata": {
        "id": "TFoqn67z_e2B",
        "colab_type": "code",
        "outputId": "e4b2e52e-58c8-41eb-91d4-06a4432d2b9f",
        "colab": {
          "base_uri": "https://localhost:8080/",
          "height": 51
        }
      },
      "source": [
        "# 현재 설정되어 있는 폰트 사이즈와 글꼴을 알아보자\n",
        "!python --version\n",
        "def current_font():\n",
        "  print(f\"설정 폰트 글꼴: {plt.rcParams['font.family']}, 설정 폰트 사이즈: {plt.rcParams['font.size']}\")  # 파이썬 3.6 이상 사용가능하다\n",
        "        \n",
        "current_font()"
      ],
      "execution_count": 0,
      "outputs": [
        {
          "output_type": "stream",
          "text": [
            "Python 3.6.7\n",
            "설정 폰트 글꼴: ['NanumGothic Eco'], 설정 폰트 사이즈: 10.0\n"
          ],
          "name": "stdout"
        }
      ]
    },
    {
      "cell_type": "code",
      "metadata": {
        "id": "rmo9X3m8_e81",
        "colab_type": "code",
        "outputId": "a19f7eb0-b46e-4220-c476-9a22c8838da6",
        "colab": {
          "base_uri": "https://localhost:8080/",
          "height": 34
        }
      },
      "source": [
        "path = '/usr/share/fonts/truetype/nanum/NanumMyeongjoBold.ttf'  # 설치된 나눔글꼴중 원하는 녀석의 전체 경로를 가져오자\n",
        "font_name = fm.FontProperties(fname=path, size=10).get_name()\n",
        "print(font_name)\n",
        "plt.rc('font', family=font_name)"
      ],
      "execution_count": 0,
      "outputs": [
        {
          "output_type": "stream",
          "text": [
            "NanumMyeongjo\n"
          ],
          "name": "stdout"
        }
      ]
    },
    {
      "cell_type": "code",
      "metadata": {
        "id": "q29SCn9e_o38",
        "colab_type": "code",
        "colab": {}
      },
      "source": [
        "# 우선 fm._rebuild() 를 해주고\n",
        "# fm._rebuild() 를 해줘야 system 에 추가 설치된 폰트를 matplotilb.font_manager 가 알아차리는 것으로 보인다.\n",
        "fm._rebuild()"
      ],
      "execution_count": 0,
      "outputs": []
    },
    {
      "cell_type": "code",
      "metadata": {
        "id": "moLVjLgH-WVZ",
        "colab_type": "code",
        "outputId": "f9f3c084-fa1e-4a9a-e89f-8fb655364aeb",
        "colab": {
          "base_uri": "https://localhost:8080/",
          "height": 595
        }
      },
      "source": [
        "# kind=barh로 지정해서 수평바로 그리도록 함\n",
        "# grid=True로 grid 그림\n",
        "\n",
        "data_result['소계'].plot(kind='barh', grid=True, figsize=(10,10))\n",
        "plt.show()"
      ],
      "execution_count": 0,
      "outputs": [
        {
          "output_type": "display_data",
          "data": {
            "image/png": "[encoded data removed]",
            "text/plain": [
              "<Figure size 720x720 with 1 Axes>"
            ]
          },
          "metadata": {
            "tags": []
          }
        }
      ]
    },
    {
      "cell_type": "code",
      "metadata": {
        "id": "wJ9lpkYE-dge",
        "colab_type": "code",
        "outputId": "1193b1b5-0141-454d-e4a9-c9ac0bd6e22d",
        "colab": {
          "base_uri": "https://localhost:8080/",
          "height": 595
        }
      },
      "source": [
        "# CCTV 갯수로 정렬\n",
        "\n",
        "data_result['소계'].sort_values().plot(kind='barh', grid=True, figsize=(10,10))\n",
        "plt.show()"
      ],
      "execution_count": 0,
      "outputs": [
        {
          "output_type": "display_data",
          "data": {
            "image/png": "[encoded data removed]",
            "text/plain": [
              "<Figure size 720x720 with 1 Axes>"
            ]
          },
          "metadata": {
            "tags": []
          }
        }
      ]
    },
    {
      "cell_type": "code",
      "metadata": {
        "id": "dG-zdzeJBOcK",
        "colab_type": "code",
        "colab": {}
      },
      "source": [
        ""
      ],
      "execution_count": 0,
      "outputs": []
    }
  ]
}