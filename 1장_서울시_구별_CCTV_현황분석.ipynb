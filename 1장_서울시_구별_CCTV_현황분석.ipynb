{
  "nbformat": 4,
  "nbformat_minor": 0,
  "metadata": {
    "colab": {
      "name": "1장 - 서울시 구별 CCTV 현황분석.ipynb",
      "version": "0.3.2",
      "provenance": [],
      "collapsed_sections": [],
      "include_colab_link": true
    },
    "kernelspec": {
      "name": "python3",
      "display_name": "Python 3"
    },
    "accelerator": "GPU"
  },
  "cells": [
    {
      "cell_type": "markdown",
      "metadata": {
        "id": "view-in-github",
        "colab_type": "text"
      },
      "source": [
        "<a href=\"https://colab.research.google.com/github/jihyunjeongme/datascience-example-python/blob/master/1%EC%9E%A5_%EC%84%9C%EC%9A%B8%EC%8B%9C_%EA%B5%AC%EB%B3%84_CCTV_%ED%98%84%ED%99%A9%EB%B6%84%EC%84%9D.ipynb\" target=\"_parent\"><img src=\"https://colab.research.google.com/assets/colab-badge.svg\" alt=\"Open In Colab\"/></a>"
      ]
    },
    {
      "cell_type": "code",
      "metadata": {
        "id": "NkyEiBgRdpLo",
        "colab_type": "code",
        "outputId": "806a2f35-2392-4986-bb5a-44e2a7f70505",
        "colab": {
          "base_uri": "https://localhost:8080/",
          "height": 54
        }
      },
      "source": [
        "from google.colab import drive\n",
        "\n",
        "drive.mount('/content/gdrive')"
      ],
      "execution_count": 49,
      "outputs": [
        {
          "output_type": "stream",
          "text": [
            "Drive already mounted at /content/gdrive; to attempt to forcibly remount, call drive.mount(\"/content/gdrive\", force_remount=True).\n"
          ],
          "name": "stdout"
        }
      ]
    },
    {
      "cell_type": "code",
      "metadata": {
        "id": "1rrvHk9GdxNJ",
        "colab_type": "code",
        "colab": {}
      },
      "source": [
        "# 내 구글 드라이브에서 파일 가져옴"
      ],
      "execution_count": 0,
      "outputs": []
    },
    {
      "cell_type": "code",
      "metadata": {
        "id": "b-WxxJP4eTX1",
        "colab_type": "code",
        "outputId": "fc3962e5-55d6-4ddd-8752-41a9500ccd39",
        "colab": {
          "base_uri": "https://localhost:8080/",
          "height": 34
        }
      },
      "source": [
        "cd /content/gdrive/My Drive/Colab Notebooks/datascience/1. cctv_seoul"
      ],
      "execution_count": 51,
      "outputs": [
        {
          "output_type": "stream",
          "text": [
            "/content/gdrive/My Drive/Colab Notebooks/datascience/1. cctv_seoul\n"
          ],
          "name": "stdout"
        }
      ]
    },
    {
      "cell_type": "code",
      "metadata": {
        "id": "JF6dUnfKeVkI",
        "colab_type": "code",
        "outputId": "66d51e03-6323-4fce-d9e4-f2ccaca32493",
        "colab": {
          "base_uri": "https://localhost:8080/",
          "height": 34
        }
      },
      "source": [
        "ls"
      ],
      "execution_count": 52,
      "outputs": [
        {
          "output_type": "stream",
          "text": [
            "CCTV_in_Seoul.csv  population_in_Seoul.xls\n"
          ],
          "name": "stdout"
        }
      ]
    },
    {
      "cell_type": "code",
      "metadata": {
        "id": "ZN-SmigTeZ7z",
        "colab_type": "code",
        "colab": {}
      },
      "source": [
        "import pandas as pd\n",
        "import numpy as np\n"
      ],
      "execution_count": 0,
      "outputs": []
    },
    {
      "cell_type": "code",
      "metadata": {
        "id": "Aqu5ur2jedKH",
        "colab_type": "code",
        "outputId": "a2fe084d-7102-41e7-a2c7-2a6a6af5b80b",
        "colab": {
          "base_uri": "https://localhost:8080/",
          "height": 204
        }
      },
      "source": [
        "CCTV_Seoul = pd.read_csv('./CCTV_in_Seoul.csv', encoding='utf-8')\n",
        "CCTV_Seoul.head()"
      ],
      "execution_count": 54,
      "outputs": [
        {
          "output_type": "execute_result",
          "data": {
            "text/html": [
              "<div>\n",
              "<style scoped>\n",
              "    .dataframe tbody tr th:only-of-type {\n",
              "        vertical-align: middle;\n",
              "    }\n",
              "\n",
              "    .dataframe tbody tr th {\n",
              "        vertical-align: top;\n",
              "    }\n",
              "\n",
              "    .dataframe thead th {\n",
              "        text-align: right;\n",
              "    }\n",
              "</style>\n",
              "<table border=\"1\" class=\"dataframe\">\n",
              "  <thead>\n",
              "    <tr style=\"text-align: right;\">\n",
              "      <th></th>\n",
              "      <th>기관명</th>\n",
              "      <th>소계</th>\n",
              "      <th>2013년도 이전</th>\n",
              "      <th>2014년</th>\n",
              "      <th>2015년</th>\n",
              "      <th>2016년</th>\n",
              "    </tr>\n",
              "  </thead>\n",
              "  <tbody>\n",
              "    <tr>\n",
              "      <th>0</th>\n",
              "      <td>강남구</td>\n",
              "      <td>3238</td>\n",
              "      <td>1292</td>\n",
              "      <td>430</td>\n",
              "      <td>584</td>\n",
              "      <td>932</td>\n",
              "    </tr>\n",
              "    <tr>\n",
              "      <th>1</th>\n",
              "      <td>강동구</td>\n",
              "      <td>1010</td>\n",
              "      <td>379</td>\n",
              "      <td>99</td>\n",
              "      <td>155</td>\n",
              "      <td>377</td>\n",
              "    </tr>\n",
              "    <tr>\n",
              "      <th>2</th>\n",
              "      <td>강북구</td>\n",
              "      <td>831</td>\n",
              "      <td>369</td>\n",
              "      <td>120</td>\n",
              "      <td>138</td>\n",
              "      <td>204</td>\n",
              "    </tr>\n",
              "    <tr>\n",
              "      <th>3</th>\n",
              "      <td>강서구</td>\n",
              "      <td>911</td>\n",
              "      <td>388</td>\n",
              "      <td>258</td>\n",
              "      <td>184</td>\n",
              "      <td>81</td>\n",
              "    </tr>\n",
              "    <tr>\n",
              "      <th>4</th>\n",
              "      <td>관악구</td>\n",
              "      <td>2109</td>\n",
              "      <td>846</td>\n",
              "      <td>260</td>\n",
              "      <td>390</td>\n",
              "      <td>613</td>\n",
              "    </tr>\n",
              "  </tbody>\n",
              "</table>\n",
              "</div>"
            ],
            "text/plain": [
              "   기관명    소계  2013년도 이전  2014년  2015년  2016년\n",
              "0  강남구  3238       1292    430    584    932\n",
              "1  강동구  1010        379     99    155    377\n",
              "2  강북구   831        369    120    138    204\n",
              "3  강서구   911        388    258    184     81\n",
              "4  관악구  2109        846    260    390    613"
            ]
          },
          "metadata": {
            "tags": []
          },
          "execution_count": 54
        }
      ]
    },
    {
      "cell_type": "code",
      "metadata": {
        "id": "3aBSPcmveo6y",
        "colab_type": "code",
        "outputId": "58bcd693-3f6b-4ebb-91d8-7faa71a469e9",
        "colab": {
          "base_uri": "https://localhost:8080/",
          "height": 34
        }
      },
      "source": [
        "CCTV_Seoul.columns"
      ],
      "execution_count": 55,
      "outputs": [
        {
          "output_type": "execute_result",
          "data": {
            "text/plain": [
              "Index(['기관명', '소계', '2013년도 이전', '2014년', '2015년', '2016년'], dtype='object')"
            ]
          },
          "metadata": {
            "tags": []
          },
          "execution_count": 55
        }
      ]
    },
    {
      "cell_type": "code",
      "metadata": {
        "id": "1kL3_Do3fJ5q",
        "colab_type": "code",
        "outputId": "41af564c-0cc1-45f3-c1f2-0ad05dd6d6a7",
        "colab": {
          "base_uri": "https://localhost:8080/",
          "height": 34
        }
      },
      "source": [
        "CCTV_Seoul.columns[0]"
      ],
      "execution_count": 56,
      "outputs": [
        {
          "output_type": "execute_result",
          "data": {
            "text/plain": [
              "'기관명'"
            ]
          },
          "metadata": {
            "tags": []
          },
          "execution_count": 56
        }
      ]
    },
    {
      "cell_type": "code",
      "metadata": {
        "id": "PVv42YkLfMe0",
        "colab_type": "code",
        "outputId": "47cd79b5-34d6-4cd2-8a37-52b5a1406c17",
        "colab": {
          "base_uri": "https://localhost:8080/",
          "height": 204
        }
      },
      "source": [
        "CCTV_Seoul.rename(columns={CCTV_Seoul.columns[0]: \"구별\"}, inplace=True)\n",
        "CCTV_Seoul.head()"
      ],
      "execution_count": 57,
      "outputs": [
        {
          "output_type": "execute_result",
          "data": {
            "text/html": [
              "<div>\n",
              "<style scoped>\n",
              "    .dataframe tbody tr th:only-of-type {\n",
              "        vertical-align: middle;\n",
              "    }\n",
              "\n",
              "    .dataframe tbody tr th {\n",
              "        vertical-align: top;\n",
              "    }\n",
              "\n",
              "    .dataframe thead th {\n",
              "        text-align: right;\n",
              "    }\n",
              "</style>\n",
              "<table border=\"1\" class=\"dataframe\">\n",
              "  <thead>\n",
              "    <tr style=\"text-align: right;\">\n",
              "      <th></th>\n",
              "      <th>구별</th>\n",
              "      <th>소계</th>\n",
              "      <th>2013년도 이전</th>\n",
              "      <th>2014년</th>\n",
              "      <th>2015년</th>\n",
              "      <th>2016년</th>\n",
              "    </tr>\n",
              "  </thead>\n",
              "  <tbody>\n",
              "    <tr>\n",
              "      <th>0</th>\n",
              "      <td>강남구</td>\n",
              "      <td>3238</td>\n",
              "      <td>1292</td>\n",
              "      <td>430</td>\n",
              "      <td>584</td>\n",
              "      <td>932</td>\n",
              "    </tr>\n",
              "    <tr>\n",
              "      <th>1</th>\n",
              "      <td>강동구</td>\n",
              "      <td>1010</td>\n",
              "      <td>379</td>\n",
              "      <td>99</td>\n",
              "      <td>155</td>\n",
              "      <td>377</td>\n",
              "    </tr>\n",
              "    <tr>\n",
              "      <th>2</th>\n",
              "      <td>강북구</td>\n",
              "      <td>831</td>\n",
              "      <td>369</td>\n",
              "      <td>120</td>\n",
              "      <td>138</td>\n",
              "      <td>204</td>\n",
              "    </tr>\n",
              "    <tr>\n",
              "      <th>3</th>\n",
              "      <td>강서구</td>\n",
              "      <td>911</td>\n",
              "      <td>388</td>\n",
              "      <td>258</td>\n",
              "      <td>184</td>\n",
              "      <td>81</td>\n",
              "    </tr>\n",
              "    <tr>\n",
              "      <th>4</th>\n",
              "      <td>관악구</td>\n",
              "      <td>2109</td>\n",
              "      <td>846</td>\n",
              "      <td>260</td>\n",
              "      <td>390</td>\n",
              "      <td>613</td>\n",
              "    </tr>\n",
              "  </tbody>\n",
              "</table>\n",
              "</div>"
            ],
            "text/plain": [
              "    구별    소계  2013년도 이전  2014년  2015년  2016년\n",
              "0  강남구  3238       1292    430    584    932\n",
              "1  강동구  1010        379     99    155    377\n",
              "2  강북구   831        369    120    138    204\n",
              "3  강서구   911        388    258    184     81\n",
              "4  관악구  2109        846    260    390    613"
            ]
          },
          "metadata": {
            "tags": []
          },
          "execution_count": 57
        }
      ]
    },
    {
      "cell_type": "code",
      "metadata": {
        "id": "dyCzhHFffuch",
        "colab_type": "code",
        "colab": {}
      },
      "source": [
        "# 이제 엑셀 파일을 읽어오겠습니다."
      ],
      "execution_count": 0,
      "outputs": []
    },
    {
      "cell_type": "code",
      "metadata": {
        "id": "CaDFHFC6gMbE",
        "colab_type": "code",
        "outputId": "5ea79122-8a28-46ee-e88f-3cdaf9414a71",
        "colab": {
          "base_uri": "https://localhost:8080/",
          "height": 394
        }
      },
      "source": [
        "pop_Seoul = pd.read_excel('./population_in_Seoul.xls', encoding='utf-8')\n",
        "pop_Seoul.head()"
      ],
      "execution_count": 59,
      "outputs": [
        {
          "output_type": "execute_result",
          "data": {
            "text/html": [
              "<div>\n",
              "<style scoped>\n",
              "    .dataframe tbody tr th:only-of-type {\n",
              "        vertical-align: middle;\n",
              "    }\n",
              "\n",
              "    .dataframe tbody tr th {\n",
              "        vertical-align: top;\n",
              "    }\n",
              "\n",
              "    .dataframe thead th {\n",
              "        text-align: right;\n",
              "    }\n",
              "</style>\n",
              "<table border=\"1\" class=\"dataframe\">\n",
              "  <thead>\n",
              "    <tr style=\"text-align: right;\">\n",
              "      <th></th>\n",
              "      <th>기간</th>\n",
              "      <th>자치구</th>\n",
              "      <th>세대</th>\n",
              "      <th>인구</th>\n",
              "      <th>인구.1</th>\n",
              "      <th>인구.2</th>\n",
              "      <th>인구.3</th>\n",
              "      <th>인구.4</th>\n",
              "      <th>인구.5</th>\n",
              "      <th>인구.6</th>\n",
              "      <th>인구.7</th>\n",
              "      <th>인구.8</th>\n",
              "      <th>세대당인구</th>\n",
              "      <th>65세이상고령자</th>\n",
              "    </tr>\n",
              "  </thead>\n",
              "  <tbody>\n",
              "    <tr>\n",
              "      <th>0</th>\n",
              "      <td>기간</td>\n",
              "      <td>자치구</td>\n",
              "      <td>세대</td>\n",
              "      <td>합계</td>\n",
              "      <td>합계</td>\n",
              "      <td>합계</td>\n",
              "      <td>한국인</td>\n",
              "      <td>한국인</td>\n",
              "      <td>한국인</td>\n",
              "      <td>등록외국인</td>\n",
              "      <td>등록외국인</td>\n",
              "      <td>등록외국인</td>\n",
              "      <td>세대당인구</td>\n",
              "      <td>65세이상고령자</td>\n",
              "    </tr>\n",
              "    <tr>\n",
              "      <th>1</th>\n",
              "      <td>기간</td>\n",
              "      <td>자치구</td>\n",
              "      <td>세대</td>\n",
              "      <td>계</td>\n",
              "      <td>남자</td>\n",
              "      <td>여자</td>\n",
              "      <td>계</td>\n",
              "      <td>남자</td>\n",
              "      <td>여자</td>\n",
              "      <td>계</td>\n",
              "      <td>남자</td>\n",
              "      <td>여자</td>\n",
              "      <td>세대당인구</td>\n",
              "      <td>65세이상고령자</td>\n",
              "    </tr>\n",
              "    <tr>\n",
              "      <th>2</th>\n",
              "      <td>2018</td>\n",
              "      <td>합계</td>\n",
              "      <td>4263868</td>\n",
              "      <td>10049607</td>\n",
              "      <td>4910849</td>\n",
              "      <td>5138758</td>\n",
              "      <td>9765623</td>\n",
              "      <td>4773899</td>\n",
              "      <td>4991724</td>\n",
              "      <td>283984</td>\n",
              "      <td>136950</td>\n",
              "      <td>147034</td>\n",
              "      <td>2.29</td>\n",
              "      <td>1416131</td>\n",
              "    </tr>\n",
              "    <tr>\n",
              "      <th>3</th>\n",
              "      <td>2018</td>\n",
              "      <td>종로구</td>\n",
              "      <td>73735</td>\n",
              "      <td>163026</td>\n",
              "      <td>79156</td>\n",
              "      <td>83870</td>\n",
              "      <td>153065</td>\n",
              "      <td>74825</td>\n",
              "      <td>78240</td>\n",
              "      <td>9961</td>\n",
              "      <td>4331</td>\n",
              "      <td>5630</td>\n",
              "      <td>2.08</td>\n",
              "      <td>26742</td>\n",
              "    </tr>\n",
              "    <tr>\n",
              "      <th>4</th>\n",
              "      <td>2018</td>\n",
              "      <td>중구</td>\n",
              "      <td>61502</td>\n",
              "      <td>135633</td>\n",
              "      <td>66674</td>\n",
              "      <td>68959</td>\n",
              "      <td>125725</td>\n",
              "      <td>61947</td>\n",
              "      <td>63778</td>\n",
              "      <td>9908</td>\n",
              "      <td>4727</td>\n",
              "      <td>5181</td>\n",
              "      <td>2.04</td>\n",
              "      <td>22005</td>\n",
              "    </tr>\n",
              "  </tbody>\n",
              "</table>\n",
              "</div>"
            ],
            "text/plain": [
              "     기간  자치구       세대        인구     인구.1     인구.2     인구.3     인구.4     인구.5  \\\n",
              "0    기간  자치구       세대        합계       합계       합계      한국인      한국인      한국인   \n",
              "1    기간  자치구       세대         계       남자       여자        계       남자       여자   \n",
              "2  2018   합계  4263868  10049607  4910849  5138758  9765623  4773899  4991724   \n",
              "3  2018  종로구    73735    163026    79156    83870   153065    74825    78240   \n",
              "4  2018   중구    61502    135633    66674    68959   125725    61947    63778   \n",
              "\n",
              "     인구.6    인구.7    인구.8  세대당인구  65세이상고령자  \n",
              "0   등록외국인   등록외국인   등록외국인  세대당인구  65세이상고령자  \n",
              "1       계      남자      여자  세대당인구  65세이상고령자  \n",
              "2  283984  136950  147034   2.29   1416131  \n",
              "3    9961    4331    5630   2.08     26742  \n",
              "4    9908    4727    5181   2.04     22005  "
            ]
          },
          "metadata": {
            "tags": []
          },
          "execution_count": 59
        }
      ]
    },
    {
      "cell_type": "code",
      "metadata": {
        "id": "su7eNGQxhi4L",
        "colab_type": "code",
        "outputId": "94377298-c800-4e48-98a3-ebb620e094cb",
        "colab": {
          "base_uri": "https://localhost:8080/",
          "height": 204
        }
      },
      "source": [
        "pop_Seoul = pd.read_excel('./population_in_Seoul.xls',\n",
        "                         header = 2,\n",
        "                         usecols = 'B, D, G, J, N',\n",
        "                         encoding='utf-8')\n",
        "pop_Seoul.head()"
      ],
      "execution_count": 60,
      "outputs": [
        {
          "output_type": "execute_result",
          "data": {
            "text/html": [
              "<div>\n",
              "<style scoped>\n",
              "    .dataframe tbody tr th:only-of-type {\n",
              "        vertical-align: middle;\n",
              "    }\n",
              "\n",
              "    .dataframe tbody tr th {\n",
              "        vertical-align: top;\n",
              "    }\n",
              "\n",
              "    .dataframe thead th {\n",
              "        text-align: right;\n",
              "    }\n",
              "</style>\n",
              "<table border=\"1\" class=\"dataframe\">\n",
              "  <thead>\n",
              "    <tr style=\"text-align: right;\">\n",
              "      <th></th>\n",
              "      <th>자치구</th>\n",
              "      <th>계</th>\n",
              "      <th>계.1</th>\n",
              "      <th>계.2</th>\n",
              "      <th>65세이상고령자</th>\n",
              "    </tr>\n",
              "  </thead>\n",
              "  <tbody>\n",
              "    <tr>\n",
              "      <th>0</th>\n",
              "      <td>합계</td>\n",
              "      <td>10049607</td>\n",
              "      <td>9765623</td>\n",
              "      <td>283984</td>\n",
              "      <td>1416131</td>\n",
              "    </tr>\n",
              "    <tr>\n",
              "      <th>1</th>\n",
              "      <td>종로구</td>\n",
              "      <td>163026</td>\n",
              "      <td>153065</td>\n",
              "      <td>9961</td>\n",
              "      <td>26742</td>\n",
              "    </tr>\n",
              "    <tr>\n",
              "      <th>2</th>\n",
              "      <td>중구</td>\n",
              "      <td>135633</td>\n",
              "      <td>125725</td>\n",
              "      <td>9908</td>\n",
              "      <td>22005</td>\n",
              "    </tr>\n",
              "    <tr>\n",
              "      <th>3</th>\n",
              "      <td>용산구</td>\n",
              "      <td>245090</td>\n",
              "      <td>228999</td>\n",
              "      <td>16091</td>\n",
              "      <td>37640</td>\n",
              "    </tr>\n",
              "    <tr>\n",
              "      <th>4</th>\n",
              "      <td>성동구</td>\n",
              "      <td>316463</td>\n",
              "      <td>308221</td>\n",
              "      <td>8242</td>\n",
              "      <td>42767</td>\n",
              "    </tr>\n",
              "  </tbody>\n",
              "</table>\n",
              "</div>"
            ],
            "text/plain": [
              "   자치구         계      계.1     계.2  65세이상고령자\n",
              "0   합계  10049607  9765623  283984   1416131\n",
              "1  종로구    163026   153065    9961     26742\n",
              "2   중구    135633   125725    9908     22005\n",
              "3  용산구    245090   228999   16091     37640\n",
              "4  성동구    316463   308221    8242     42767"
            ]
          },
          "metadata": {
            "tags": []
          },
          "execution_count": 60
        }
      ]
    },
    {
      "cell_type": "markdown",
      "metadata": {
        "id": "2doIfe71qLoM",
        "colab_type": "text"
      },
      "source": [
        ""
      ]
    },
    {
      "cell_type": "code",
      "metadata": {
        "id": "pWPljBpZll16",
        "colab_type": "code",
        "outputId": "644e0ea6-8a45-4f9e-ddf4-867c4aa8cd98",
        "colab": {
          "base_uri": "https://localhost:8080/",
          "height": 204
        }
      },
      "source": [
        "pop_Seoul.rename(columns={pop_Seoul.columns[0]: '구별',\n",
        "                          pop_Seoul.columns[1]: '인구수',\n",
        "                          pop_Seoul.columns[2]: '한국인',\n",
        "                          pop_Seoul.columns[3]: '외국인',\n",
        "                          pop_Seoul.columns[4]: '고령자'}, inplace=True)\n",
        "pop_Seoul.head()"
      ],
      "execution_count": 61,
      "outputs": [
        {
          "output_type": "execute_result",
          "data": {
            "text/html": [
              "<div>\n",
              "<style scoped>\n",
              "    .dataframe tbody tr th:only-of-type {\n",
              "        vertical-align: middle;\n",
              "    }\n",
              "\n",
              "    .dataframe tbody tr th {\n",
              "        vertical-align: top;\n",
              "    }\n",
              "\n",
              "    .dataframe thead th {\n",
              "        text-align: right;\n",
              "    }\n",
              "</style>\n",
              "<table border=\"1\" class=\"dataframe\">\n",
              "  <thead>\n",
              "    <tr style=\"text-align: right;\">\n",
              "      <th></th>\n",
              "      <th>구별</th>\n",
              "      <th>인구수</th>\n",
              "      <th>한국인</th>\n",
              "      <th>외국인</th>\n",
              "      <th>고령자</th>\n",
              "    </tr>\n",
              "  </thead>\n",
              "  <tbody>\n",
              "    <tr>\n",
              "      <th>0</th>\n",
              "      <td>합계</td>\n",
              "      <td>10049607</td>\n",
              "      <td>9765623</td>\n",
              "      <td>283984</td>\n",
              "      <td>1416131</td>\n",
              "    </tr>\n",
              "    <tr>\n",
              "      <th>1</th>\n",
              "      <td>종로구</td>\n",
              "      <td>163026</td>\n",
              "      <td>153065</td>\n",
              "      <td>9961</td>\n",
              "      <td>26742</td>\n",
              "    </tr>\n",
              "    <tr>\n",
              "      <th>2</th>\n",
              "      <td>중구</td>\n",
              "      <td>135633</td>\n",
              "      <td>125725</td>\n",
              "      <td>9908</td>\n",
              "      <td>22005</td>\n",
              "    </tr>\n",
              "    <tr>\n",
              "      <th>3</th>\n",
              "      <td>용산구</td>\n",
              "      <td>245090</td>\n",
              "      <td>228999</td>\n",
              "      <td>16091</td>\n",
              "      <td>37640</td>\n",
              "    </tr>\n",
              "    <tr>\n",
              "      <th>4</th>\n",
              "      <td>성동구</td>\n",
              "      <td>316463</td>\n",
              "      <td>308221</td>\n",
              "      <td>8242</td>\n",
              "      <td>42767</td>\n",
              "    </tr>\n",
              "  </tbody>\n",
              "</table>\n",
              "</div>"
            ],
            "text/plain": [
              "    구별       인구수      한국인     외국인      고령자\n",
              "0   합계  10049607  9765623  283984  1416131\n",
              "1  종로구    163026   153065    9961    26742\n",
              "2   중구    135633   125725    9908    22005\n",
              "3  용산구    245090   228999   16091    37640\n",
              "4  성동구    316463   308221    8242    42767"
            ]
          },
          "metadata": {
            "tags": []
          },
          "execution_count": 61
        }
      ]
    },
    {
      "cell_type": "code",
      "metadata": {
        "id": "kwT4RHsRqvVv",
        "colab_type": "code",
        "outputId": "0b286fb6-2b9a-400b-d00d-78874cffbbb9",
        "colab": {
          "base_uri": "https://localhost:8080/",
          "height": 204
        }
      },
      "source": [
        "CCTV_Seoul.head()"
      ],
      "execution_count": 62,
      "outputs": [
        {
          "output_type": "execute_result",
          "data": {
            "text/html": [
              "<div>\n",
              "<style scoped>\n",
              "    .dataframe tbody tr th:only-of-type {\n",
              "        vertical-align: middle;\n",
              "    }\n",
              "\n",
              "    .dataframe tbody tr th {\n",
              "        vertical-align: top;\n",
              "    }\n",
              "\n",
              "    .dataframe thead th {\n",
              "        text-align: right;\n",
              "    }\n",
              "</style>\n",
              "<table border=\"1\" class=\"dataframe\">\n",
              "  <thead>\n",
              "    <tr style=\"text-align: right;\">\n",
              "      <th></th>\n",
              "      <th>구별</th>\n",
              "      <th>소계</th>\n",
              "      <th>2013년도 이전</th>\n",
              "      <th>2014년</th>\n",
              "      <th>2015년</th>\n",
              "      <th>2016년</th>\n",
              "    </tr>\n",
              "  </thead>\n",
              "  <tbody>\n",
              "    <tr>\n",
              "      <th>0</th>\n",
              "      <td>강남구</td>\n",
              "      <td>3238</td>\n",
              "      <td>1292</td>\n",
              "      <td>430</td>\n",
              "      <td>584</td>\n",
              "      <td>932</td>\n",
              "    </tr>\n",
              "    <tr>\n",
              "      <th>1</th>\n",
              "      <td>강동구</td>\n",
              "      <td>1010</td>\n",
              "      <td>379</td>\n",
              "      <td>99</td>\n",
              "      <td>155</td>\n",
              "      <td>377</td>\n",
              "    </tr>\n",
              "    <tr>\n",
              "      <th>2</th>\n",
              "      <td>강북구</td>\n",
              "      <td>831</td>\n",
              "      <td>369</td>\n",
              "      <td>120</td>\n",
              "      <td>138</td>\n",
              "      <td>204</td>\n",
              "    </tr>\n",
              "    <tr>\n",
              "      <th>3</th>\n",
              "      <td>강서구</td>\n",
              "      <td>911</td>\n",
              "      <td>388</td>\n",
              "      <td>258</td>\n",
              "      <td>184</td>\n",
              "      <td>81</td>\n",
              "    </tr>\n",
              "    <tr>\n",
              "      <th>4</th>\n",
              "      <td>관악구</td>\n",
              "      <td>2109</td>\n",
              "      <td>846</td>\n",
              "      <td>260</td>\n",
              "      <td>390</td>\n",
              "      <td>613</td>\n",
              "    </tr>\n",
              "  </tbody>\n",
              "</table>\n",
              "</div>"
            ],
            "text/plain": [
              "    구별    소계  2013년도 이전  2014년  2015년  2016년\n",
              "0  강남구  3238       1292    430    584    932\n",
              "1  강동구  1010        379     99    155    377\n",
              "2  강북구   831        369    120    138    204\n",
              "3  강서구   911        388    258    184     81\n",
              "4  관악구  2109        846    260    390    613"
            ]
          },
          "metadata": {
            "tags": []
          },
          "execution_count": 62
        }
      ]
    },
    {
      "cell_type": "code",
      "metadata": {
        "id": "IwbIF09jq2p6",
        "colab_type": "code",
        "outputId": "1cc6b607-652a-4179-9421-8dde576e1850",
        "colab": {
          "base_uri": "https://localhost:8080/",
          "height": 204
        }
      },
      "source": [
        "CCTV_Seoul.sort_values(by='소계', ascending=True).head(5)\n",
        "\n",
        "# CCTV 갯수(소계)로 정렬\n",
        "# CCTV의 전체 개수가 가장작은 구는 도봉구 > 강북구 > 광진구 순"
      ],
      "execution_count": 63,
      "outputs": [
        {
          "output_type": "execute_result",
          "data": {
            "text/html": [
              "<div>\n",
              "<style scoped>\n",
              "    .dataframe tbody tr th:only-of-type {\n",
              "        vertical-align: middle;\n",
              "    }\n",
              "\n",
              "    .dataframe tbody tr th {\n",
              "        vertical-align: top;\n",
              "    }\n",
              "\n",
              "    .dataframe thead th {\n",
              "        text-align: right;\n",
              "    }\n",
              "</style>\n",
              "<table border=\"1\" class=\"dataframe\">\n",
              "  <thead>\n",
              "    <tr style=\"text-align: right;\">\n",
              "      <th></th>\n",
              "      <th>구별</th>\n",
              "      <th>소계</th>\n",
              "      <th>2013년도 이전</th>\n",
              "      <th>2014년</th>\n",
              "      <th>2015년</th>\n",
              "      <th>2016년</th>\n",
              "    </tr>\n",
              "  </thead>\n",
              "  <tbody>\n",
              "    <tr>\n",
              "      <th>9</th>\n",
              "      <td>도봉구</td>\n",
              "      <td>825</td>\n",
              "      <td>238</td>\n",
              "      <td>159</td>\n",
              "      <td>42</td>\n",
              "      <td>386</td>\n",
              "    </tr>\n",
              "    <tr>\n",
              "      <th>2</th>\n",
              "      <td>강북구</td>\n",
              "      <td>831</td>\n",
              "      <td>369</td>\n",
              "      <td>120</td>\n",
              "      <td>138</td>\n",
              "      <td>204</td>\n",
              "    </tr>\n",
              "    <tr>\n",
              "      <th>5</th>\n",
              "      <td>광진구</td>\n",
              "      <td>878</td>\n",
              "      <td>573</td>\n",
              "      <td>78</td>\n",
              "      <td>53</td>\n",
              "      <td>174</td>\n",
              "    </tr>\n",
              "    <tr>\n",
              "      <th>3</th>\n",
              "      <td>강서구</td>\n",
              "      <td>911</td>\n",
              "      <td>388</td>\n",
              "      <td>258</td>\n",
              "      <td>184</td>\n",
              "      <td>81</td>\n",
              "    </tr>\n",
              "    <tr>\n",
              "      <th>24</th>\n",
              "      <td>중랑구</td>\n",
              "      <td>916</td>\n",
              "      <td>509</td>\n",
              "      <td>121</td>\n",
              "      <td>177</td>\n",
              "      <td>109</td>\n",
              "    </tr>\n",
              "  </tbody>\n",
              "</table>\n",
              "</div>"
            ],
            "text/plain": [
              "     구별   소계  2013년도 이전  2014년  2015년  2016년\n",
              "9   도봉구  825        238    159     42    386\n",
              "2   강북구  831        369    120    138    204\n",
              "5   광진구  878        573     78     53    174\n",
              "3   강서구  911        388    258    184     81\n",
              "24  중랑구  916        509    121    177    109"
            ]
          },
          "metadata": {
            "tags": []
          },
          "execution_count": 63
        }
      ]
    },
    {
      "cell_type": "code",
      "metadata": {
        "id": "cO5XE-tOqiwC",
        "colab_type": "code",
        "outputId": "1dbcd313-9213-4a28-cf1e-a026789f602e",
        "colab": {
          "base_uri": "https://localhost:8080/",
          "height": 204
        }
      },
      "source": [
        "CCTV_Seoul.sort_values(by='소계', ascending=False).head(5)\n",
        "\n",
        "# CCTV 갯수(소계)로 정렬\n",
        "# CCTV의 전체 개수가 가장 많은 구는 강남구 > 양천구 > 서초구 순"
      ],
      "execution_count": 64,
      "outputs": [
        {
          "output_type": "execute_result",
          "data": {
            "text/html": [
              "<div>\n",
              "<style scoped>\n",
              "    .dataframe tbody tr th:only-of-type {\n",
              "        vertical-align: middle;\n",
              "    }\n",
              "\n",
              "    .dataframe tbody tr th {\n",
              "        vertical-align: top;\n",
              "    }\n",
              "\n",
              "    .dataframe thead th {\n",
              "        text-align: right;\n",
              "    }\n",
              "</style>\n",
              "<table border=\"1\" class=\"dataframe\">\n",
              "  <thead>\n",
              "    <tr style=\"text-align: right;\">\n",
              "      <th></th>\n",
              "      <th>구별</th>\n",
              "      <th>소계</th>\n",
              "      <th>2013년도 이전</th>\n",
              "      <th>2014년</th>\n",
              "      <th>2015년</th>\n",
              "      <th>2016년</th>\n",
              "    </tr>\n",
              "  </thead>\n",
              "  <tbody>\n",
              "    <tr>\n",
              "      <th>0</th>\n",
              "      <td>강남구</td>\n",
              "      <td>3238</td>\n",
              "      <td>1292</td>\n",
              "      <td>430</td>\n",
              "      <td>584</td>\n",
              "      <td>932</td>\n",
              "    </tr>\n",
              "    <tr>\n",
              "      <th>18</th>\n",
              "      <td>양천구</td>\n",
              "      <td>2482</td>\n",
              "      <td>1843</td>\n",
              "      <td>142</td>\n",
              "      <td>30</td>\n",
              "      <td>467</td>\n",
              "    </tr>\n",
              "    <tr>\n",
              "      <th>14</th>\n",
              "      <td>서초구</td>\n",
              "      <td>2297</td>\n",
              "      <td>1406</td>\n",
              "      <td>157</td>\n",
              "      <td>336</td>\n",
              "      <td>398</td>\n",
              "    </tr>\n",
              "    <tr>\n",
              "      <th>4</th>\n",
              "      <td>관악구</td>\n",
              "      <td>2109</td>\n",
              "      <td>846</td>\n",
              "      <td>260</td>\n",
              "      <td>390</td>\n",
              "      <td>613</td>\n",
              "    </tr>\n",
              "    <tr>\n",
              "      <th>21</th>\n",
              "      <td>은평구</td>\n",
              "      <td>2108</td>\n",
              "      <td>1138</td>\n",
              "      <td>224</td>\n",
              "      <td>278</td>\n",
              "      <td>468</td>\n",
              "    </tr>\n",
              "  </tbody>\n",
              "</table>\n",
              "</div>"
            ],
            "text/plain": [
              "     구별    소계  2013년도 이전  2014년  2015년  2016년\n",
              "0   강남구  3238       1292    430    584    932\n",
              "18  양천구  2482       1843    142     30    467\n",
              "14  서초구  2297       1406    157    336    398\n",
              "4   관악구  2109        846    260    390    613\n",
              "21  은평구  2108       1138    224    278    468"
            ]
          },
          "metadata": {
            "tags": []
          },
          "execution_count": 64
        }
      ]
    },
    {
      "cell_type": "code",
      "metadata": {
        "id": "CAWgV6Zeq_He",
        "colab_type": "code",
        "outputId": "20a21ea5-deb5-4da1-8046-ee6489f05d74",
        "colab": {
          "base_uri": "https://localhost:8080/",
          "height": 204
        }
      },
      "source": [
        "CCTV_Seoul['최근증가율'] = (CCTV_Seoul['2016년'] + CCTV_Seoul['2015년'] + \\\n",
        "                         CCTV_Seoul['2014년'] / CCTV_Seoul['2013년도 이전'] * 100)\n",
        "\n",
        "CCTV_Seoul.sort_values(by='최근증가율', ascending=False).head(5)\n",
        "\n",
        "# 최근증가율을 보면 강남구 > 관악구 > 노원구 순입니다."
      ],
      "execution_count": 65,
      "outputs": [
        {
          "output_type": "execute_result",
          "data": {
            "text/html": [
              "<div>\n",
              "<style scoped>\n",
              "    .dataframe tbody tr th:only-of-type {\n",
              "        vertical-align: middle;\n",
              "    }\n",
              "\n",
              "    .dataframe tbody tr th {\n",
              "        vertical-align: top;\n",
              "    }\n",
              "\n",
              "    .dataframe thead th {\n",
              "        text-align: right;\n",
              "    }\n",
              "</style>\n",
              "<table border=\"1\" class=\"dataframe\">\n",
              "  <thead>\n",
              "    <tr style=\"text-align: right;\">\n",
              "      <th></th>\n",
              "      <th>구별</th>\n",
              "      <th>소계</th>\n",
              "      <th>2013년도 이전</th>\n",
              "      <th>2014년</th>\n",
              "      <th>2015년</th>\n",
              "      <th>2016년</th>\n",
              "      <th>최근증가율</th>\n",
              "    </tr>\n",
              "  </thead>\n",
              "  <tbody>\n",
              "    <tr>\n",
              "      <th>0</th>\n",
              "      <td>강남구</td>\n",
              "      <td>3238</td>\n",
              "      <td>1292</td>\n",
              "      <td>430</td>\n",
              "      <td>584</td>\n",
              "      <td>932</td>\n",
              "      <td>1549.281734</td>\n",
              "    </tr>\n",
              "    <tr>\n",
              "      <th>4</th>\n",
              "      <td>관악구</td>\n",
              "      <td>2109</td>\n",
              "      <td>846</td>\n",
              "      <td>260</td>\n",
              "      <td>390</td>\n",
              "      <td>613</td>\n",
              "      <td>1033.732861</td>\n",
              "    </tr>\n",
              "    <tr>\n",
              "      <th>8</th>\n",
              "      <td>노원구</td>\n",
              "      <td>1566</td>\n",
              "      <td>542</td>\n",
              "      <td>57</td>\n",
              "      <td>451</td>\n",
              "      <td>516</td>\n",
              "      <td>977.516605</td>\n",
              "    </tr>\n",
              "    <tr>\n",
              "      <th>22</th>\n",
              "      <td>종로구</td>\n",
              "      <td>1619</td>\n",
              "      <td>464</td>\n",
              "      <td>314</td>\n",
              "      <td>211</td>\n",
              "      <td>630</td>\n",
              "      <td>908.672414</td>\n",
              "    </tr>\n",
              "    <tr>\n",
              "      <th>10</th>\n",
              "      <td>동대문구</td>\n",
              "      <td>1870</td>\n",
              "      <td>1070</td>\n",
              "      <td>23</td>\n",
              "      <td>198</td>\n",
              "      <td>579</td>\n",
              "      <td>779.149533</td>\n",
              "    </tr>\n",
              "  </tbody>\n",
              "</table>\n",
              "</div>"
            ],
            "text/plain": [
              "      구별    소계  2013년도 이전  2014년  2015년  2016년        최근증가율\n",
              "0    강남구  3238       1292    430    584    932  1549.281734\n",
              "4    관악구  2109        846    260    390    613  1033.732861\n",
              "8    노원구  1566        542     57    451    516   977.516605\n",
              "22   종로구  1619        464    314    211    630   908.672414\n",
              "10  동대문구  1870       1070     23    198    579   779.149533"
            ]
          },
          "metadata": {
            "tags": []
          },
          "execution_count": 65
        }
      ]
    },
    {
      "cell_type": "code",
      "metadata": {
        "id": "fncT7vOvroKa",
        "colab_type": "code",
        "outputId": "79abb7a3-9fd5-49a8-da7c-c39e176a32ce",
        "colab": {
          "base_uri": "https://localhost:8080/",
          "height": 204
        }
      },
      "source": [
        "pop_Seoul.head()"
      ],
      "execution_count": 66,
      "outputs": [
        {
          "output_type": "execute_result",
          "data": {
            "text/html": [
              "<div>\n",
              "<style scoped>\n",
              "    .dataframe tbody tr th:only-of-type {\n",
              "        vertical-align: middle;\n",
              "    }\n",
              "\n",
              "    .dataframe tbody tr th {\n",
              "        vertical-align: top;\n",
              "    }\n",
              "\n",
              "    .dataframe thead th {\n",
              "        text-align: right;\n",
              "    }\n",
              "</style>\n",
              "<table border=\"1\" class=\"dataframe\">\n",
              "  <thead>\n",
              "    <tr style=\"text-align: right;\">\n",
              "      <th></th>\n",
              "      <th>구별</th>\n",
              "      <th>인구수</th>\n",
              "      <th>한국인</th>\n",
              "      <th>외국인</th>\n",
              "      <th>고령자</th>\n",
              "    </tr>\n",
              "  </thead>\n",
              "  <tbody>\n",
              "    <tr>\n",
              "      <th>0</th>\n",
              "      <td>합계</td>\n",
              "      <td>10049607</td>\n",
              "      <td>9765623</td>\n",
              "      <td>283984</td>\n",
              "      <td>1416131</td>\n",
              "    </tr>\n",
              "    <tr>\n",
              "      <th>1</th>\n",
              "      <td>종로구</td>\n",
              "      <td>163026</td>\n",
              "      <td>153065</td>\n",
              "      <td>9961</td>\n",
              "      <td>26742</td>\n",
              "    </tr>\n",
              "    <tr>\n",
              "      <th>2</th>\n",
              "      <td>중구</td>\n",
              "      <td>135633</td>\n",
              "      <td>125725</td>\n",
              "      <td>9908</td>\n",
              "      <td>22005</td>\n",
              "    </tr>\n",
              "    <tr>\n",
              "      <th>3</th>\n",
              "      <td>용산구</td>\n",
              "      <td>245090</td>\n",
              "      <td>228999</td>\n",
              "      <td>16091</td>\n",
              "      <td>37640</td>\n",
              "    </tr>\n",
              "    <tr>\n",
              "      <th>4</th>\n",
              "      <td>성동구</td>\n",
              "      <td>316463</td>\n",
              "      <td>308221</td>\n",
              "      <td>8242</td>\n",
              "      <td>42767</td>\n",
              "    </tr>\n",
              "  </tbody>\n",
              "</table>\n",
              "</div>"
            ],
            "text/plain": [
              "    구별       인구수      한국인     외국인      고령자\n",
              "0   합계  10049607  9765623  283984  1416131\n",
              "1  종로구    163026   153065    9961    26742\n",
              "2   중구    135633   125725    9908    22005\n",
              "3  용산구    245090   228999   16091    37640\n",
              "4  성동구    316463   308221    8242    42767"
            ]
          },
          "metadata": {
            "tags": []
          },
          "execution_count": 66
        }
      ]
    },
    {
      "cell_type": "code",
      "metadata": {
        "id": "_PZOmcEWsK3o",
        "colab_type": "code",
        "outputId": "454181f7-dc7b-48ea-dc57-88fe71116dd1",
        "colab": {
          "base_uri": "https://localhost:8080/",
          "height": 204
        }
      },
      "source": [
        "pop_Seoul.drop([0], inplace=True)\n",
        "pop_Seoul.head()\n",
        "\n",
        "# 0번 행에 합계는 필요 없음. 행을 지우는 명령어 drop"
      ],
      "execution_count": 67,
      "outputs": [
        {
          "output_type": "execute_result",
          "data": {
            "text/html": [
              "<div>\n",
              "<style scoped>\n",
              "    .dataframe tbody tr th:only-of-type {\n",
              "        vertical-align: middle;\n",
              "    }\n",
              "\n",
              "    .dataframe tbody tr th {\n",
              "        vertical-align: top;\n",
              "    }\n",
              "\n",
              "    .dataframe thead th {\n",
              "        text-align: right;\n",
              "    }\n",
              "</style>\n",
              "<table border=\"1\" class=\"dataframe\">\n",
              "  <thead>\n",
              "    <tr style=\"text-align: right;\">\n",
              "      <th></th>\n",
              "      <th>구별</th>\n",
              "      <th>인구수</th>\n",
              "      <th>한국인</th>\n",
              "      <th>외국인</th>\n",
              "      <th>고령자</th>\n",
              "    </tr>\n",
              "  </thead>\n",
              "  <tbody>\n",
              "    <tr>\n",
              "      <th>1</th>\n",
              "      <td>종로구</td>\n",
              "      <td>163026</td>\n",
              "      <td>153065</td>\n",
              "      <td>9961</td>\n",
              "      <td>26742</td>\n",
              "    </tr>\n",
              "    <tr>\n",
              "      <th>2</th>\n",
              "      <td>중구</td>\n",
              "      <td>135633</td>\n",
              "      <td>125725</td>\n",
              "      <td>9908</td>\n",
              "      <td>22005</td>\n",
              "    </tr>\n",
              "    <tr>\n",
              "      <th>3</th>\n",
              "      <td>용산구</td>\n",
              "      <td>245090</td>\n",
              "      <td>228999</td>\n",
              "      <td>16091</td>\n",
              "      <td>37640</td>\n",
              "    </tr>\n",
              "    <tr>\n",
              "      <th>4</th>\n",
              "      <td>성동구</td>\n",
              "      <td>316463</td>\n",
              "      <td>308221</td>\n",
              "      <td>8242</td>\n",
              "      <td>42767</td>\n",
              "    </tr>\n",
              "    <tr>\n",
              "      <th>5</th>\n",
              "      <td>광진구</td>\n",
              "      <td>371063</td>\n",
              "      <td>355559</td>\n",
              "      <td>15504</td>\n",
              "      <td>45619</td>\n",
              "    </tr>\n",
              "  </tbody>\n",
              "</table>\n",
              "</div>"
            ],
            "text/plain": [
              "    구별     인구수     한국인    외국인    고령자\n",
              "1  종로구  163026  153065   9961  26742\n",
              "2   중구  135633  125725   9908  22005\n",
              "3  용산구  245090  228999  16091  37640\n",
              "4  성동구  316463  308221   8242  42767\n",
              "5  광진구  371063  355559  15504  45619"
            ]
          },
          "metadata": {
            "tags": []
          },
          "execution_count": 67
        }
      ]
    },
    {
      "cell_type": "code",
      "metadata": {
        "id": "URcGOil-sfnc",
        "colab_type": "code",
        "outputId": "7fb897cb-1e7f-48c8-acb7-fdf029467b66",
        "colab": {
          "base_uri": "https://localhost:8080/",
          "height": 68
        }
      },
      "source": [
        "pop_Seoul['구별'].unique()\n",
        "\n",
        "# 반복된 데이터는 하나로 나타내서 한번 이상 나타난 데이터를 확인 하는 것"
      ],
      "execution_count": 68,
      "outputs": [
        {
          "output_type": "execute_result",
          "data": {
            "text/plain": [
              "array(['종로구', '중구', '용산구', '성동구', '광진구', '동대문구', '중랑구', '성북구', '강북구',\n",
              "       '도봉구', '노원구', '은평구', '서대문구', '마포구', '양천구', '강서구', '구로구', '금천구',\n",
              "       '영등포구', '동작구', '관악구', '서초구', '강남구', '송파구', '강동구'], dtype=object)"
            ]
          },
          "metadata": {
            "tags": []
          },
          "execution_count": 68
        }
      ]
    },
    {
      "cell_type": "code",
      "metadata": {
        "id": "O0UUglGPsqHU",
        "colab_type": "code",
        "outputId": "8468010c-6c92-423f-8403-c7c14da99eb1",
        "colab": {
          "base_uri": "https://localhost:8080/",
          "height": 49
        }
      },
      "source": [
        "pop_Seoul[pop_Seoul['구별'].isnull()]\n",
        "\n",
        "# isnull 명령어로 NaN이 있는 데이터를 추출\n",
        "# drop 명령으로 NaN이 있던 행을 삭제 가능\n",
        "# pop_Seoul.drop([26], inplace=True)"
      ],
      "execution_count": 69,
      "outputs": [
        {
          "output_type": "execute_result",
          "data": {
            "text/html": [
              "<div>\n",
              "<style scoped>\n",
              "    .dataframe tbody tr th:only-of-type {\n",
              "        vertical-align: middle;\n",
              "    }\n",
              "\n",
              "    .dataframe tbody tr th {\n",
              "        vertical-align: top;\n",
              "    }\n",
              "\n",
              "    .dataframe thead th {\n",
              "        text-align: right;\n",
              "    }\n",
              "</style>\n",
              "<table border=\"1\" class=\"dataframe\">\n",
              "  <thead>\n",
              "    <tr style=\"text-align: right;\">\n",
              "      <th></th>\n",
              "      <th>구별</th>\n",
              "      <th>인구수</th>\n",
              "      <th>한국인</th>\n",
              "      <th>외국인</th>\n",
              "      <th>고령자</th>\n",
              "    </tr>\n",
              "  </thead>\n",
              "  <tbody>\n",
              "  </tbody>\n",
              "</table>\n",
              "</div>"
            ],
            "text/plain": [
              "Empty DataFrame\n",
              "Columns: [구별, 인구수, 한국인, 외국인, 고령자]\n",
              "Index: []"
            ]
          },
          "metadata": {
            "tags": []
          },
          "execution_count": 69
        }
      ]
    },
    {
      "cell_type": "code",
      "metadata": {
        "id": "RfmHUY-ktDrW",
        "colab_type": "code",
        "outputId": "2cd05b68-b352-47a1-901b-136cc4d168aa",
        "colab": {
          "base_uri": "https://localhost:8080/",
          "height": 204
        }
      },
      "source": [
        "# 각 구별 전체 인구를 이용해서 구별'외국인비율'과 '고령자비율' 계산\n",
        "\n",
        "pop_Seoul['외국인비율'] = pop_Seoul['외국인'] / pop_Seoul['인구수'] * 100\n",
        "pop_Seoul['고령자비율'] = pop_Seoul['고령자'] / pop_Seoul['인구수'] * 100\n",
        "\n",
        "pop_Seoul.head()"
      ],
      "execution_count": 70,
      "outputs": [
        {
          "output_type": "execute_result",
          "data": {
            "text/html": [
              "<div>\n",
              "<style scoped>\n",
              "    .dataframe tbody tr th:only-of-type {\n",
              "        vertical-align: middle;\n",
              "    }\n",
              "\n",
              "    .dataframe tbody tr th {\n",
              "        vertical-align: top;\n",
              "    }\n",
              "\n",
              "    .dataframe thead th {\n",
              "        text-align: right;\n",
              "    }\n",
              "</style>\n",
              "<table border=\"1\" class=\"dataframe\">\n",
              "  <thead>\n",
              "    <tr style=\"text-align: right;\">\n",
              "      <th></th>\n",
              "      <th>구별</th>\n",
              "      <th>인구수</th>\n",
              "      <th>한국인</th>\n",
              "      <th>외국인</th>\n",
              "      <th>고령자</th>\n",
              "      <th>외국인비율</th>\n",
              "      <th>고령자비율</th>\n",
              "    </tr>\n",
              "  </thead>\n",
              "  <tbody>\n",
              "    <tr>\n",
              "      <th>1</th>\n",
              "      <td>종로구</td>\n",
              "      <td>163026</td>\n",
              "      <td>153065</td>\n",
              "      <td>9961</td>\n",
              "      <td>26742</td>\n",
              "      <td>6.110068</td>\n",
              "      <td>16.403518</td>\n",
              "    </tr>\n",
              "    <tr>\n",
              "      <th>2</th>\n",
              "      <td>중구</td>\n",
              "      <td>135633</td>\n",
              "      <td>125725</td>\n",
              "      <td>9908</td>\n",
              "      <td>22005</td>\n",
              "      <td>7.305007</td>\n",
              "      <td>16.223928</td>\n",
              "    </tr>\n",
              "    <tr>\n",
              "      <th>3</th>\n",
              "      <td>용산구</td>\n",
              "      <td>245090</td>\n",
              "      <td>228999</td>\n",
              "      <td>16091</td>\n",
              "      <td>37640</td>\n",
              "      <td>6.565343</td>\n",
              "      <td>15.357624</td>\n",
              "    </tr>\n",
              "    <tr>\n",
              "      <th>4</th>\n",
              "      <td>성동구</td>\n",
              "      <td>316463</td>\n",
              "      <td>308221</td>\n",
              "      <td>8242</td>\n",
              "      <td>42767</td>\n",
              "      <td>2.604412</td>\n",
              "      <td>13.514060</td>\n",
              "    </tr>\n",
              "    <tr>\n",
              "      <th>5</th>\n",
              "      <td>광진구</td>\n",
              "      <td>371063</td>\n",
              "      <td>355559</td>\n",
              "      <td>15504</td>\n",
              "      <td>45619</td>\n",
              "      <td>4.178266</td>\n",
              "      <td>12.294139</td>\n",
              "    </tr>\n",
              "  </tbody>\n",
              "</table>\n",
              "</div>"
            ],
            "text/plain": [
              "    구별     인구수     한국인    외국인    고령자     외국인비율      고령자비율\n",
              "1  종로구  163026  153065   9961  26742  6.110068  16.403518\n",
              "2   중구  135633  125725   9908  22005  7.305007  16.223928\n",
              "3  용산구  245090  228999  16091  37640  6.565343  15.357624\n",
              "4  성동구  316463  308221   8242  42767  2.604412  13.514060\n",
              "5  광진구  371063  355559  15504  45619  4.178266  12.294139"
            ]
          },
          "metadata": {
            "tags": []
          },
          "execution_count": 70
        }
      ]
    },
    {
      "cell_type": "code",
      "metadata": {
        "id": "PBKcW_7Ntstw",
        "colab_type": "code",
        "outputId": "dc91980c-b359-41fa-e278-a5fdb974abe1",
        "colab": {
          "base_uri": "https://localhost:8080/",
          "height": 204
        }
      },
      "source": [
        "# 인구순으로 정렬\n",
        "# 송파구 > 강서구 > 노원구 > 강남구 순으로 인구가 많음.\n",
        "\n",
        "pop_Seoul.sort_values(by='인구수', ascending=False).head(5)"
      ],
      "execution_count": 71,
      "outputs": [
        {
          "output_type": "execute_result",
          "data": {
            "text/html": [
              "<div>\n",
              "<style scoped>\n",
              "    .dataframe tbody tr th:only-of-type {\n",
              "        vertical-align: middle;\n",
              "    }\n",
              "\n",
              "    .dataframe tbody tr th {\n",
              "        vertical-align: top;\n",
              "    }\n",
              "\n",
              "    .dataframe thead th {\n",
              "        text-align: right;\n",
              "    }\n",
              "</style>\n",
              "<table border=\"1\" class=\"dataframe\">\n",
              "  <thead>\n",
              "    <tr style=\"text-align: right;\">\n",
              "      <th></th>\n",
              "      <th>구별</th>\n",
              "      <th>인구수</th>\n",
              "      <th>한국인</th>\n",
              "      <th>외국인</th>\n",
              "      <th>고령자</th>\n",
              "      <th>외국인비율</th>\n",
              "      <th>고령자비율</th>\n",
              "    </tr>\n",
              "  </thead>\n",
              "  <tbody>\n",
              "    <tr>\n",
              "      <th>24</th>\n",
              "      <td>송파구</td>\n",
              "      <td>673507</td>\n",
              "      <td>666635</td>\n",
              "      <td>6872</td>\n",
              "      <td>81364</td>\n",
              "      <td>1.020331</td>\n",
              "      <td>12.080647</td>\n",
              "    </tr>\n",
              "    <tr>\n",
              "      <th>16</th>\n",
              "      <td>강서구</td>\n",
              "      <td>603611</td>\n",
              "      <td>596949</td>\n",
              "      <td>6662</td>\n",
              "      <td>79660</td>\n",
              "      <td>1.103691</td>\n",
              "      <td>13.197241</td>\n",
              "    </tr>\n",
              "    <tr>\n",
              "      <th>11</th>\n",
              "      <td>노원구</td>\n",
              "      <td>548160</td>\n",
              "      <td>543752</td>\n",
              "      <td>4408</td>\n",
              "      <td>77096</td>\n",
              "      <td>0.804145</td>\n",
              "      <td>14.064507</td>\n",
              "    </tr>\n",
              "    <tr>\n",
              "      <th>23</th>\n",
              "      <td>강남구</td>\n",
              "      <td>547453</td>\n",
              "      <td>542364</td>\n",
              "      <td>5089</td>\n",
              "      <td>67085</td>\n",
              "      <td>0.929578</td>\n",
              "      <td>12.254020</td>\n",
              "    </tr>\n",
              "    <tr>\n",
              "      <th>21</th>\n",
              "      <td>관악구</td>\n",
              "      <td>520040</td>\n",
              "      <td>501957</td>\n",
              "      <td>18083</td>\n",
              "      <td>72249</td>\n",
              "      <td>3.477233</td>\n",
              "      <td>13.892970</td>\n",
              "    </tr>\n",
              "  </tbody>\n",
              "</table>\n",
              "</div>"
            ],
            "text/plain": [
              "     구별     인구수     한국인    외국인    고령자     외국인비율      고령자비율\n",
              "24  송파구  673507  666635   6872  81364  1.020331  12.080647\n",
              "16  강서구  603611  596949   6662  79660  1.103691  13.197241\n",
              "11  노원구  548160  543752   4408  77096  0.804145  14.064507\n",
              "23  강남구  547453  542364   5089  67085  0.929578  12.254020\n",
              "21  관악구  520040  501957  18083  72249  3.477233  13.892970"
            ]
          },
          "metadata": {
            "tags": []
          },
          "execution_count": 71
        }
      ]
    },
    {
      "cell_type": "code",
      "metadata": {
        "id": "-0YMrQ1Et5ki",
        "colab_type": "code",
        "outputId": "fd3079a2-eda2-4340-9467-14be4097e63b",
        "colab": {
          "base_uri": "https://localhost:8080/",
          "height": 204
        }
      },
      "source": [
        "# 외국인으로 정렬\n",
        "# 외국인 수는 영등포구 > 구로구 > 금천구 순\n",
        "\n",
        "pop_Seoul.sort_values(by='외국인', ascending=False).head(5)"
      ],
      "execution_count": 72,
      "outputs": [
        {
          "output_type": "execute_result",
          "data": {
            "text/html": [
              "<div>\n",
              "<style scoped>\n",
              "    .dataframe tbody tr th:only-of-type {\n",
              "        vertical-align: middle;\n",
              "    }\n",
              "\n",
              "    .dataframe tbody tr th {\n",
              "        vertical-align: top;\n",
              "    }\n",
              "\n",
              "    .dataframe thead th {\n",
              "        text-align: right;\n",
              "    }\n",
              "</style>\n",
              "<table border=\"1\" class=\"dataframe\">\n",
              "  <thead>\n",
              "    <tr style=\"text-align: right;\">\n",
              "      <th></th>\n",
              "      <th>구별</th>\n",
              "      <th>인구수</th>\n",
              "      <th>한국인</th>\n",
              "      <th>외국인</th>\n",
              "      <th>고령자</th>\n",
              "      <th>외국인비율</th>\n",
              "      <th>고령자비율</th>\n",
              "    </tr>\n",
              "  </thead>\n",
              "  <tbody>\n",
              "    <tr>\n",
              "      <th>19</th>\n",
              "      <td>영등포구</td>\n",
              "      <td>403600</td>\n",
              "      <td>367778</td>\n",
              "      <td>35822</td>\n",
              "      <td>55673</td>\n",
              "      <td>8.875619</td>\n",
              "      <td>13.794103</td>\n",
              "    </tr>\n",
              "    <tr>\n",
              "      <th>17</th>\n",
              "      <td>구로구</td>\n",
              "      <td>438486</td>\n",
              "      <td>404497</td>\n",
              "      <td>33989</td>\n",
              "      <td>61801</td>\n",
              "      <td>7.751445</td>\n",
              "      <td>14.094179</td>\n",
              "    </tr>\n",
              "    <tr>\n",
              "      <th>18</th>\n",
              "      <td>금천구</td>\n",
              "      <td>254021</td>\n",
              "      <td>233917</td>\n",
              "      <td>20104</td>\n",
              "      <td>35739</td>\n",
              "      <td>7.914306</td>\n",
              "      <td>14.069309</td>\n",
              "    </tr>\n",
              "    <tr>\n",
              "      <th>21</th>\n",
              "      <td>관악구</td>\n",
              "      <td>520040</td>\n",
              "      <td>501957</td>\n",
              "      <td>18083</td>\n",
              "      <td>72249</td>\n",
              "      <td>3.477233</td>\n",
              "      <td>13.892970</td>\n",
              "    </tr>\n",
              "    <tr>\n",
              "      <th>6</th>\n",
              "      <td>동대문구</td>\n",
              "      <td>364338</td>\n",
              "      <td>348052</td>\n",
              "      <td>16286</td>\n",
              "      <td>57165</td>\n",
              "      <td>4.470025</td>\n",
              "      <td>15.690101</td>\n",
              "    </tr>\n",
              "  </tbody>\n",
              "</table>\n",
              "</div>"
            ],
            "text/plain": [
              "      구별     인구수     한국인    외국인    고령자     외국인비율      고령자비율\n",
              "19  영등포구  403600  367778  35822  55673  8.875619  13.794103\n",
              "17   구로구  438486  404497  33989  61801  7.751445  14.094179\n",
              "18   금천구  254021  233917  20104  35739  7.914306  14.069309\n",
              "21   관악구  520040  501957  18083  72249  3.477233  13.892970\n",
              "6   동대문구  364338  348052  16286  57165  4.470025  15.690101"
            ]
          },
          "metadata": {
            "tags": []
          },
          "execution_count": 72
        }
      ]
    },
    {
      "cell_type": "code",
      "metadata": {
        "id": "mocxtu6FuJa1",
        "colab_type": "code",
        "outputId": "0772a679-3a73-436a-e7e1-e74b6a9ec41d",
        "colab": {
          "base_uri": "https://localhost:8080/",
          "height": 204
        }
      },
      "source": [
        "# 외국인비율으로 정렬\n",
        "# 외국인 비율 순은 영등포구 > 금천구 > 구로구\n",
        "\n",
        "pop_Seoul.sort_values(by='외국인비율', ascending=False).head(5)"
      ],
      "execution_count": 73,
      "outputs": [
        {
          "output_type": "execute_result",
          "data": {
            "text/html": [
              "<div>\n",
              "<style scoped>\n",
              "    .dataframe tbody tr th:only-of-type {\n",
              "        vertical-align: middle;\n",
              "    }\n",
              "\n",
              "    .dataframe tbody tr th {\n",
              "        vertical-align: top;\n",
              "    }\n",
              "\n",
              "    .dataframe thead th {\n",
              "        text-align: right;\n",
              "    }\n",
              "</style>\n",
              "<table border=\"1\" class=\"dataframe\">\n",
              "  <thead>\n",
              "    <tr style=\"text-align: right;\">\n",
              "      <th></th>\n",
              "      <th>구별</th>\n",
              "      <th>인구수</th>\n",
              "      <th>한국인</th>\n",
              "      <th>외국인</th>\n",
              "      <th>고령자</th>\n",
              "      <th>외국인비율</th>\n",
              "      <th>고령자비율</th>\n",
              "    </tr>\n",
              "  </thead>\n",
              "  <tbody>\n",
              "    <tr>\n",
              "      <th>19</th>\n",
              "      <td>영등포구</td>\n",
              "      <td>403600</td>\n",
              "      <td>367778</td>\n",
              "      <td>35822</td>\n",
              "      <td>55673</td>\n",
              "      <td>8.875619</td>\n",
              "      <td>13.794103</td>\n",
              "    </tr>\n",
              "    <tr>\n",
              "      <th>18</th>\n",
              "      <td>금천구</td>\n",
              "      <td>254021</td>\n",
              "      <td>233917</td>\n",
              "      <td>20104</td>\n",
              "      <td>35739</td>\n",
              "      <td>7.914306</td>\n",
              "      <td>14.069309</td>\n",
              "    </tr>\n",
              "    <tr>\n",
              "      <th>17</th>\n",
              "      <td>구로구</td>\n",
              "      <td>438486</td>\n",
              "      <td>404497</td>\n",
              "      <td>33989</td>\n",
              "      <td>61801</td>\n",
              "      <td>7.751445</td>\n",
              "      <td>14.094179</td>\n",
              "    </tr>\n",
              "    <tr>\n",
              "      <th>2</th>\n",
              "      <td>중구</td>\n",
              "      <td>135633</td>\n",
              "      <td>125725</td>\n",
              "      <td>9908</td>\n",
              "      <td>22005</td>\n",
              "      <td>7.305007</td>\n",
              "      <td>16.223928</td>\n",
              "    </tr>\n",
              "    <tr>\n",
              "      <th>3</th>\n",
              "      <td>용산구</td>\n",
              "      <td>245090</td>\n",
              "      <td>228999</td>\n",
              "      <td>16091</td>\n",
              "      <td>37640</td>\n",
              "      <td>6.565343</td>\n",
              "      <td>15.357624</td>\n",
              "    </tr>\n",
              "  </tbody>\n",
              "</table>\n",
              "</div>"
            ],
            "text/plain": [
              "      구별     인구수     한국인    외국인    고령자     외국인비율      고령자비율\n",
              "19  영등포구  403600  367778  35822  55673  8.875619  13.794103\n",
              "18   금천구  254021  233917  20104  35739  7.914306  14.069309\n",
              "17   구로구  438486  404497  33989  61801  7.751445  14.094179\n",
              "2     중구  135633  125725   9908  22005  7.305007  16.223928\n",
              "3    용산구  245090  228999  16091  37640  6.565343  15.357624"
            ]
          },
          "metadata": {
            "tags": []
          },
          "execution_count": 73
        }
      ]
    },
    {
      "cell_type": "code",
      "metadata": {
        "id": "gkWEdxxFuMsr",
        "colab_type": "code",
        "outputId": "badc1b10-b5bc-44ad-fc66-4c54c0056793",
        "colab": {
          "base_uri": "https://localhost:8080/",
          "height": 204
        }
      },
      "source": [
        "# 고령자로 정렬\n",
        "# 고령자 순은 송파구 > 강서구 > 은평구\n",
        "\n",
        "pop_Seoul.sort_values(by='고령자', ascending=False).head(5)"
      ],
      "execution_count": 74,
      "outputs": [
        {
          "output_type": "execute_result",
          "data": {
            "text/html": [
              "<div>\n",
              "<style scoped>\n",
              "    .dataframe tbody tr th:only-of-type {\n",
              "        vertical-align: middle;\n",
              "    }\n",
              "\n",
              "    .dataframe tbody tr th {\n",
              "        vertical-align: top;\n",
              "    }\n",
              "\n",
              "    .dataframe thead th {\n",
              "        text-align: right;\n",
              "    }\n",
              "</style>\n",
              "<table border=\"1\" class=\"dataframe\">\n",
              "  <thead>\n",
              "    <tr style=\"text-align: right;\">\n",
              "      <th></th>\n",
              "      <th>구별</th>\n",
              "      <th>인구수</th>\n",
              "      <th>한국인</th>\n",
              "      <th>외국인</th>\n",
              "      <th>고령자</th>\n",
              "      <th>외국인비율</th>\n",
              "      <th>고령자비율</th>\n",
              "    </tr>\n",
              "  </thead>\n",
              "  <tbody>\n",
              "    <tr>\n",
              "      <th>24</th>\n",
              "      <td>송파구</td>\n",
              "      <td>673507</td>\n",
              "      <td>666635</td>\n",
              "      <td>6872</td>\n",
              "      <td>81364</td>\n",
              "      <td>1.020331</td>\n",
              "      <td>12.080647</td>\n",
              "    </tr>\n",
              "    <tr>\n",
              "      <th>16</th>\n",
              "      <td>강서구</td>\n",
              "      <td>603611</td>\n",
              "      <td>596949</td>\n",
              "      <td>6662</td>\n",
              "      <td>79660</td>\n",
              "      <td>1.103691</td>\n",
              "      <td>13.197241</td>\n",
              "    </tr>\n",
              "    <tr>\n",
              "      <th>12</th>\n",
              "      <td>은평구</td>\n",
              "      <td>487666</td>\n",
              "      <td>483197</td>\n",
              "      <td>4469</td>\n",
              "      <td>77420</td>\n",
              "      <td>0.916406</td>\n",
              "      <td>15.875620</td>\n",
              "    </tr>\n",
              "    <tr>\n",
              "      <th>11</th>\n",
              "      <td>노원구</td>\n",
              "      <td>548160</td>\n",
              "      <td>543752</td>\n",
              "      <td>4408</td>\n",
              "      <td>77096</td>\n",
              "      <td>0.804145</td>\n",
              "      <td>14.064507</td>\n",
              "    </tr>\n",
              "    <tr>\n",
              "      <th>21</th>\n",
              "      <td>관악구</td>\n",
              "      <td>520040</td>\n",
              "      <td>501957</td>\n",
              "      <td>18083</td>\n",
              "      <td>72249</td>\n",
              "      <td>3.477233</td>\n",
              "      <td>13.892970</td>\n",
              "    </tr>\n",
              "  </tbody>\n",
              "</table>\n",
              "</div>"
            ],
            "text/plain": [
              "     구별     인구수     한국인    외국인    고령자     외국인비율      고령자비율\n",
              "24  송파구  673507  666635   6872  81364  1.020331  12.080647\n",
              "16  강서구  603611  596949   6662  79660  1.103691  13.197241\n",
              "12  은평구  487666  483197   4469  77420  0.916406  15.875620\n",
              "11  노원구  548160  543752   4408  77096  0.804145  14.064507\n",
              "21  관악구  520040  501957  18083  72249  3.477233  13.892970"
            ]
          },
          "metadata": {
            "tags": []
          },
          "execution_count": 74
        }
      ]
    },
    {
      "cell_type": "code",
      "metadata": {
        "id": "fE8JZvVTuYml",
        "colab_type": "code",
        "outputId": "af76b4af-7be8-48e4-cfbc-3f09d2963504",
        "colab": {
          "base_uri": "https://localhost:8080/",
          "height": 204
        }
      },
      "source": [
        "# 고령자비율로 정렬\n",
        "# 고령자 비율 순은 강북구 > 종로구 > 도봉구\n",
        "\n",
        "pop_Seoul.sort_values(by='고령자비율', ascending=False).head(5)"
      ],
      "execution_count": 75,
      "outputs": [
        {
          "output_type": "execute_result",
          "data": {
            "text/html": [
              "<div>\n",
              "<style scoped>\n",
              "    .dataframe tbody tr th:only-of-type {\n",
              "        vertical-align: middle;\n",
              "    }\n",
              "\n",
              "    .dataframe tbody tr th {\n",
              "        vertical-align: top;\n",
              "    }\n",
              "\n",
              "    .dataframe thead th {\n",
              "        text-align: right;\n",
              "    }\n",
              "</style>\n",
              "<table border=\"1\" class=\"dataframe\">\n",
              "  <thead>\n",
              "    <tr style=\"text-align: right;\">\n",
              "      <th></th>\n",
              "      <th>구별</th>\n",
              "      <th>인구수</th>\n",
              "      <th>한국인</th>\n",
              "      <th>외국인</th>\n",
              "      <th>고령자</th>\n",
              "      <th>외국인비율</th>\n",
              "      <th>고령자비율</th>\n",
              "    </tr>\n",
              "  </thead>\n",
              "  <tbody>\n",
              "    <tr>\n",
              "      <th>9</th>\n",
              "      <td>강북구</td>\n",
              "      <td>322915</td>\n",
              "      <td>319164</td>\n",
              "      <td>3751</td>\n",
              "      <td>58196</td>\n",
              "      <td>1.161606</td>\n",
              "      <td>18.022080</td>\n",
              "    </tr>\n",
              "    <tr>\n",
              "      <th>1</th>\n",
              "      <td>종로구</td>\n",
              "      <td>163026</td>\n",
              "      <td>153065</td>\n",
              "      <td>9961</td>\n",
              "      <td>26742</td>\n",
              "      <td>6.110068</td>\n",
              "      <td>16.403518</td>\n",
              "    </tr>\n",
              "    <tr>\n",
              "      <th>10</th>\n",
              "      <td>도봉구</td>\n",
              "      <td>341649</td>\n",
              "      <td>339413</td>\n",
              "      <td>2236</td>\n",
              "      <td>55964</td>\n",
              "      <td>0.654473</td>\n",
              "      <td>16.380554</td>\n",
              "    </tr>\n",
              "    <tr>\n",
              "      <th>2</th>\n",
              "      <td>중구</td>\n",
              "      <td>135633</td>\n",
              "      <td>125725</td>\n",
              "      <td>9908</td>\n",
              "      <td>22005</td>\n",
              "      <td>7.305007</td>\n",
              "      <td>16.223928</td>\n",
              "    </tr>\n",
              "    <tr>\n",
              "      <th>12</th>\n",
              "      <td>은평구</td>\n",
              "      <td>487666</td>\n",
              "      <td>483197</td>\n",
              "      <td>4469</td>\n",
              "      <td>77420</td>\n",
              "      <td>0.916406</td>\n",
              "      <td>15.875620</td>\n",
              "    </tr>\n",
              "  </tbody>\n",
              "</table>\n",
              "</div>"
            ],
            "text/plain": [
              "     구별     인구수     한국인   외국인    고령자     외국인비율      고령자비율\n",
              "9   강북구  322915  319164  3751  58196  1.161606  18.022080\n",
              "1   종로구  163026  153065  9961  26742  6.110068  16.403518\n",
              "10  도봉구  341649  339413  2236  55964  0.654473  16.380554\n",
              "2    중구  135633  125725  9908  22005  7.305007  16.223928\n",
              "12  은평구  487666  483197  4469  77420  0.916406  15.875620"
            ]
          },
          "metadata": {
            "tags": []
          },
          "execution_count": 75
        }
      ]
    },
    {
      "cell_type": "code",
      "metadata": {
        "id": "3OohCM1KucAt",
        "colab_type": "code",
        "outputId": "d68e423a-5c32-45e0-ab8e-fce3871ce2d4",
        "colab": {
          "base_uri": "https://localhost:8080/",
          "height": 306
        }
      },
      "source": [
        "# 이제 두 데이터의 공통된 컬럼인 '구별' 로 merge\n",
        "data_result = pd.merge(CCTV_Seoul, pop_Seoul, on='구별')\n",
        "data_result.head()"
      ],
      "execution_count": 76,
      "outputs": [
        {
          "output_type": "execute_result",
          "data": {
            "text/html": [
              "<div>\n",
              "<style scoped>\n",
              "    .dataframe tbody tr th:only-of-type {\n",
              "        vertical-align: middle;\n",
              "    }\n",
              "\n",
              "    .dataframe tbody tr th {\n",
              "        vertical-align: top;\n",
              "    }\n",
              "\n",
              "    .dataframe thead th {\n",
              "        text-align: right;\n",
              "    }\n",
              "</style>\n",
              "<table border=\"1\" class=\"dataframe\">\n",
              "  <thead>\n",
              "    <tr style=\"text-align: right;\">\n",
              "      <th></th>\n",
              "      <th>구별</th>\n",
              "      <th>소계</th>\n",
              "      <th>2013년도 이전</th>\n",
              "      <th>2014년</th>\n",
              "      <th>2015년</th>\n",
              "      <th>2016년</th>\n",
              "      <th>최근증가율</th>\n",
              "      <th>인구수</th>\n",
              "      <th>한국인</th>\n",
              "      <th>외국인</th>\n",
              "      <th>고령자</th>\n",
              "      <th>외국인비율</th>\n",
              "      <th>고령자비율</th>\n",
              "    </tr>\n",
              "  </thead>\n",
              "  <tbody>\n",
              "    <tr>\n",
              "      <th>0</th>\n",
              "      <td>강남구</td>\n",
              "      <td>3238</td>\n",
              "      <td>1292</td>\n",
              "      <td>430</td>\n",
              "      <td>584</td>\n",
              "      <td>932</td>\n",
              "      <td>1549.281734</td>\n",
              "      <td>547453</td>\n",
              "      <td>542364</td>\n",
              "      <td>5089</td>\n",
              "      <td>67085</td>\n",
              "      <td>0.929578</td>\n",
              "      <td>12.254020</td>\n",
              "    </tr>\n",
              "    <tr>\n",
              "      <th>1</th>\n",
              "      <td>강동구</td>\n",
              "      <td>1010</td>\n",
              "      <td>379</td>\n",
              "      <td>99</td>\n",
              "      <td>155</td>\n",
              "      <td>377</td>\n",
              "      <td>558.121372</td>\n",
              "      <td>431920</td>\n",
              "      <td>427573</td>\n",
              "      <td>4347</td>\n",
              "      <td>58770</td>\n",
              "      <td>1.006436</td>\n",
              "      <td>13.606686</td>\n",
              "    </tr>\n",
              "    <tr>\n",
              "      <th>2</th>\n",
              "      <td>강북구</td>\n",
              "      <td>831</td>\n",
              "      <td>369</td>\n",
              "      <td>120</td>\n",
              "      <td>138</td>\n",
              "      <td>204</td>\n",
              "      <td>374.520325</td>\n",
              "      <td>322915</td>\n",
              "      <td>319164</td>\n",
              "      <td>3751</td>\n",
              "      <td>58196</td>\n",
              "      <td>1.161606</td>\n",
              "      <td>18.022080</td>\n",
              "    </tr>\n",
              "    <tr>\n",
              "      <th>3</th>\n",
              "      <td>강서구</td>\n",
              "      <td>911</td>\n",
              "      <td>388</td>\n",
              "      <td>258</td>\n",
              "      <td>184</td>\n",
              "      <td>81</td>\n",
              "      <td>331.494845</td>\n",
              "      <td>603611</td>\n",
              "      <td>596949</td>\n",
              "      <td>6662</td>\n",
              "      <td>79660</td>\n",
              "      <td>1.103691</td>\n",
              "      <td>13.197241</td>\n",
              "    </tr>\n",
              "    <tr>\n",
              "      <th>4</th>\n",
              "      <td>관악구</td>\n",
              "      <td>2109</td>\n",
              "      <td>846</td>\n",
              "      <td>260</td>\n",
              "      <td>390</td>\n",
              "      <td>613</td>\n",
              "      <td>1033.732861</td>\n",
              "      <td>520040</td>\n",
              "      <td>501957</td>\n",
              "      <td>18083</td>\n",
              "      <td>72249</td>\n",
              "      <td>3.477233</td>\n",
              "      <td>13.892970</td>\n",
              "    </tr>\n",
              "  </tbody>\n",
              "</table>\n",
              "</div>"
            ],
            "text/plain": [
              "    구별    소계  2013년도 이전  2014년  2015년  2016년        최근증가율     인구수     한국인  \\\n",
              "0  강남구  3238       1292    430    584    932  1549.281734  547453  542364   \n",
              "1  강동구  1010        379     99    155    377   558.121372  431920  427573   \n",
              "2  강북구   831        369    120    138    204   374.520325  322915  319164   \n",
              "3  강서구   911        388    258    184     81   331.494845  603611  596949   \n",
              "4  관악구  2109        846    260    390    613  1033.732861  520040  501957   \n",
              "\n",
              "     외국인    고령자     외국인비율      고령자비율  \n",
              "0   5089  67085  0.929578  12.254020  \n",
              "1   4347  58770  1.006436  13.606686  \n",
              "2   3751  58196  1.161606  18.022080  \n",
              "3   6662  79660  1.103691  13.197241  \n",
              "4  18083  72249  3.477233  13.892970  "
            ]
          },
          "metadata": {
            "tags": []
          },
          "execution_count": 76
        }
      ]
    },
    {
      "cell_type": "code",
      "metadata": {
        "id": "kEw2yz5213N1",
        "colab_type": "code",
        "outputId": "bad8eb43-89b3-4183-81d0-8add207f7c9b",
        "colab": {
          "base_uri": "https://localhost:8080/",
          "height": 204
        }
      },
      "source": [
        "# 의미 없는 컬럼은 지우도록 하겠습니다. \n",
        "# 행 방향으로 삭제하는 것은 drop\n",
        "# 열 삭제하는 명령은 del\n",
        "\n",
        "del data_result['2013년도 이전']\n",
        "del data_result['2014년']\n",
        "del data_result['2015년']\n",
        "del data_result['2016년']\n",
        "data_result.head()"
      ],
      "execution_count": 77,
      "outputs": [
        {
          "output_type": "execute_result",
          "data": {
            "text/html": [
              "<div>\n",
              "<style scoped>\n",
              "    .dataframe tbody tr th:only-of-type {\n",
              "        vertical-align: middle;\n",
              "    }\n",
              "\n",
              "    .dataframe tbody tr th {\n",
              "        vertical-align: top;\n",
              "    }\n",
              "\n",
              "    .dataframe thead th {\n",
              "        text-align: right;\n",
              "    }\n",
              "</style>\n",
              "<table border=\"1\" class=\"dataframe\">\n",
              "  <thead>\n",
              "    <tr style=\"text-align: right;\">\n",
              "      <th></th>\n",
              "      <th>구별</th>\n",
              "      <th>소계</th>\n",
              "      <th>최근증가율</th>\n",
              "      <th>인구수</th>\n",
              "      <th>한국인</th>\n",
              "      <th>외국인</th>\n",
              "      <th>고령자</th>\n",
              "      <th>외국인비율</th>\n",
              "      <th>고령자비율</th>\n",
              "    </tr>\n",
              "  </thead>\n",
              "  <tbody>\n",
              "    <tr>\n",
              "      <th>0</th>\n",
              "      <td>강남구</td>\n",
              "      <td>3238</td>\n",
              "      <td>1549.281734</td>\n",
              "      <td>547453</td>\n",
              "      <td>542364</td>\n",
              "      <td>5089</td>\n",
              "      <td>67085</td>\n",
              "      <td>0.929578</td>\n",
              "      <td>12.254020</td>\n",
              "    </tr>\n",
              "    <tr>\n",
              "      <th>1</th>\n",
              "      <td>강동구</td>\n",
              "      <td>1010</td>\n",
              "      <td>558.121372</td>\n",
              "      <td>431920</td>\n",
              "      <td>427573</td>\n",
              "      <td>4347</td>\n",
              "      <td>58770</td>\n",
              "      <td>1.006436</td>\n",
              "      <td>13.606686</td>\n",
              "    </tr>\n",
              "    <tr>\n",
              "      <th>2</th>\n",
              "      <td>강북구</td>\n",
              "      <td>831</td>\n",
              "      <td>374.520325</td>\n",
              "      <td>322915</td>\n",
              "      <td>319164</td>\n",
              "      <td>3751</td>\n",
              "      <td>58196</td>\n",
              "      <td>1.161606</td>\n",
              "      <td>18.022080</td>\n",
              "    </tr>\n",
              "    <tr>\n",
              "      <th>3</th>\n",
              "      <td>강서구</td>\n",
              "      <td>911</td>\n",
              "      <td>331.494845</td>\n",
              "      <td>603611</td>\n",
              "      <td>596949</td>\n",
              "      <td>6662</td>\n",
              "      <td>79660</td>\n",
              "      <td>1.103691</td>\n",
              "      <td>13.197241</td>\n",
              "    </tr>\n",
              "    <tr>\n",
              "      <th>4</th>\n",
              "      <td>관악구</td>\n",
              "      <td>2109</td>\n",
              "      <td>1033.732861</td>\n",
              "      <td>520040</td>\n",
              "      <td>501957</td>\n",
              "      <td>18083</td>\n",
              "      <td>72249</td>\n",
              "      <td>3.477233</td>\n",
              "      <td>13.892970</td>\n",
              "    </tr>\n",
              "  </tbody>\n",
              "</table>\n",
              "</div>"
            ],
            "text/plain": [
              "    구별    소계        최근증가율     인구수     한국인    외국인    고령자     외국인비율      고령자비율\n",
              "0  강남구  3238  1549.281734  547453  542364   5089  67085  0.929578  12.254020\n",
              "1  강동구  1010   558.121372  431920  427573   4347  58770  1.006436  13.606686\n",
              "2  강북구   831   374.520325  322915  319164   3751  58196  1.161606  18.022080\n",
              "3  강서구   911   331.494845  603611  596949   6662  79660  1.103691  13.197241\n",
              "4  관악구  2109  1033.732861  520040  501957  18083  72249  3.477233  13.892970"
            ]
          },
          "metadata": {
            "tags": []
          },
          "execution_count": 77
        }
      ]
    },
    {
      "cell_type": "code",
      "metadata": {
        "id": "rGGk1R0O2QiR",
        "colab_type": "code",
        "outputId": "d33ea4cd-3a17-4953-f80c-90ac9c603570",
        "colab": {
          "base_uri": "https://localhost:8080/",
          "height": 235
        }
      },
      "source": [
        "# 나중에 그래프 그릴 것을 생각하면 index는 구 이름이 되면 여러모로 유리함.\n",
        "# 그렇게 설정하는 명령이 set_index\n",
        "\n",
        "data_result.set_index('구별', inplace=True)\n",
        "data_result.head()"
      ],
      "execution_count": 78,
      "outputs": [
        {
          "output_type": "execute_result",
          "data": {
            "text/html": [
              "<div>\n",
              "<style scoped>\n",
              "    .dataframe tbody tr th:only-of-type {\n",
              "        vertical-align: middle;\n",
              "    }\n",
              "\n",
              "    .dataframe tbody tr th {\n",
              "        vertical-align: top;\n",
              "    }\n",
              "\n",
              "    .dataframe thead th {\n",
              "        text-align: right;\n",
              "    }\n",
              "</style>\n",
              "<table border=\"1\" class=\"dataframe\">\n",
              "  <thead>\n",
              "    <tr style=\"text-align: right;\">\n",
              "      <th></th>\n",
              "      <th>소계</th>\n",
              "      <th>최근증가율</th>\n",
              "      <th>인구수</th>\n",
              "      <th>한국인</th>\n",
              "      <th>외국인</th>\n",
              "      <th>고령자</th>\n",
              "      <th>외국인비율</th>\n",
              "      <th>고령자비율</th>\n",
              "    </tr>\n",
              "    <tr>\n",
              "      <th>구별</th>\n",
              "      <th></th>\n",
              "      <th></th>\n",
              "      <th></th>\n",
              "      <th></th>\n",
              "      <th></th>\n",
              "      <th></th>\n",
              "      <th></th>\n",
              "      <th></th>\n",
              "    </tr>\n",
              "  </thead>\n",
              "  <tbody>\n",
              "    <tr>\n",
              "      <th>강남구</th>\n",
              "      <td>3238</td>\n",
              "      <td>1549.281734</td>\n",
              "      <td>547453</td>\n",
              "      <td>542364</td>\n",
              "      <td>5089</td>\n",
              "      <td>67085</td>\n",
              "      <td>0.929578</td>\n",
              "      <td>12.254020</td>\n",
              "    </tr>\n",
              "    <tr>\n",
              "      <th>강동구</th>\n",
              "      <td>1010</td>\n",
              "      <td>558.121372</td>\n",
              "      <td>431920</td>\n",
              "      <td>427573</td>\n",
              "      <td>4347</td>\n",
              "      <td>58770</td>\n",
              "      <td>1.006436</td>\n",
              "      <td>13.606686</td>\n",
              "    </tr>\n",
              "    <tr>\n",
              "      <th>강북구</th>\n",
              "      <td>831</td>\n",
              "      <td>374.520325</td>\n",
              "      <td>322915</td>\n",
              "      <td>319164</td>\n",
              "      <td>3751</td>\n",
              "      <td>58196</td>\n",
              "      <td>1.161606</td>\n",
              "      <td>18.022080</td>\n",
              "    </tr>\n",
              "    <tr>\n",
              "      <th>강서구</th>\n",
              "      <td>911</td>\n",
              "      <td>331.494845</td>\n",
              "      <td>603611</td>\n",
              "      <td>596949</td>\n",
              "      <td>6662</td>\n",
              "      <td>79660</td>\n",
              "      <td>1.103691</td>\n",
              "      <td>13.197241</td>\n",
              "    </tr>\n",
              "    <tr>\n",
              "      <th>관악구</th>\n",
              "      <td>2109</td>\n",
              "      <td>1033.732861</td>\n",
              "      <td>520040</td>\n",
              "      <td>501957</td>\n",
              "      <td>18083</td>\n",
              "      <td>72249</td>\n",
              "      <td>3.477233</td>\n",
              "      <td>13.892970</td>\n",
              "    </tr>\n",
              "  </tbody>\n",
              "</table>\n",
              "</div>"
            ],
            "text/plain": [
              "       소계        최근증가율     인구수     한국인    외국인    고령자     외국인비율      고령자비율\n",
              "구별                                                                       \n",
              "강남구  3238  1549.281734  547453  542364   5089  67085  0.929578  12.254020\n",
              "강동구  1010   558.121372  431920  427573   4347  58770  1.006436  13.606686\n",
              "강북구   831   374.520325  322915  319164   3751  58196  1.161606  18.022080\n",
              "강서구   911   331.494845  603611  596949   6662  79660  1.103691  13.197241\n",
              "관악구  2109  1033.732861  520040  501957  18083  72249  3.477233  13.892970"
            ]
          },
          "metadata": {
            "tags": []
          },
          "execution_count": 78
        }
      ]
    },
    {
      "cell_type": "code",
      "metadata": {
        "id": "gNOKetJ82fxm",
        "colab_type": "code",
        "outputId": "3f7a63f8-02fd-47f1-db55-b5b453182f51",
        "colab": {
          "base_uri": "https://localhost:8080/",
          "height": 51
        }
      },
      "source": [
        "# 상관분석 실시\n",
        "# numpy 의 corrcoef 명령어 사용\n",
        "\n",
        "np.corrcoef(data_result['고령자비율'],data_result['소계'])\n",
        "                       "
      ],
      "execution_count": 79,
      "outputs": [
        {
          "output_type": "execute_result",
          "data": {
            "text/plain": [
              "array([[ 1.        , -0.27474224],\n",
              "       [-0.27474224,  1.        ]])"
            ]
          },
          "metadata": {
            "tags": []
          },
          "execution_count": 79
        }
      ]
    },
    {
      "cell_type": "code",
      "metadata": {
        "id": "IfCE4l0T3C9T",
        "colab_type": "code",
        "outputId": "6365f67c-ce10-479f-fa52-7ac3c422f582",
        "colab": {
          "base_uri": "https://localhost:8080/",
          "height": 51
        }
      },
      "source": [
        "np.corrcoef(data_result['외국인비율'],data_result['소계'])"
      ],
      "execution_count": 80,
      "outputs": [
        {
          "output_type": "execute_result",
          "data": {
            "text/plain": [
              "array([[ 1.        , -0.05057013],\n",
              "       [-0.05057013,  1.        ]])"
            ]
          },
          "metadata": {
            "tags": []
          },
          "execution_count": 80
        }
      ]
    },
    {
      "cell_type": "code",
      "metadata": {
        "id": "LneKVqyv3Rsb",
        "colab_type": "code",
        "outputId": "d1a47e7b-2698-4408-e610-2eef029a5dee",
        "colab": {
          "base_uri": "https://localhost:8080/",
          "height": 51
        }
      },
      "source": [
        "np.corrcoef(data_result['인구수'],data_result['소계'])"
      ],
      "execution_count": 81,
      "outputs": [
        {
          "output_type": "execute_result",
          "data": {
            "text/plain": [
              "array([[1.        , 0.22152789],\n",
              "       [0.22152789, 1.        ]])"
            ]
          },
          "metadata": {
            "tags": []
          },
          "execution_count": 81
        }
      ]
    },
    {
      "cell_type": "code",
      "metadata": {
        "id": "7yU4Z0yq3TEF",
        "colab_type": "code",
        "colab": {}
      },
      "source": [
        "# 조사결과 \n",
        "# CCTV 개수와 고령자 비율 : 약한 음의 상관관계\n",
        "# CCTV 개수와 외국인 비율 : 약한 음의 상관관계\n",
        "# CCTV 개수와 인구수 비율 : 0.2 약한 상관관계"
      ],
      "execution_count": 0,
      "outputs": []
    },
    {
      "cell_type": "code",
      "metadata": {
        "id": "gspkodxh3nLV",
        "colab_type": "code",
        "outputId": "6a5898ca-08b5-40d3-a16f-db981e23f656",
        "colab": {
          "base_uri": "https://localhost:8080/",
          "height": 235
        }
      },
      "source": [
        "data_result.sort_values(by='소계', ascending=False).head(5)"
      ],
      "execution_count": 83,
      "outputs": [
        {
          "output_type": "execute_result",
          "data": {
            "text/html": [
              "<div>\n",
              "<style scoped>\n",
              "    .dataframe tbody tr th:only-of-type {\n",
              "        vertical-align: middle;\n",
              "    }\n",
              "\n",
              "    .dataframe tbody tr th {\n",
              "        vertical-align: top;\n",
              "    }\n",
              "\n",
              "    .dataframe thead th {\n",
              "        text-align: right;\n",
              "    }\n",
              "</style>\n",
              "<table border=\"1\" class=\"dataframe\">\n",
              "  <thead>\n",
              "    <tr style=\"text-align: right;\">\n",
              "      <th></th>\n",
              "      <th>소계</th>\n",
              "      <th>최근증가율</th>\n",
              "      <th>인구수</th>\n",
              "      <th>한국인</th>\n",
              "      <th>외국인</th>\n",
              "      <th>고령자</th>\n",
              "      <th>외국인비율</th>\n",
              "      <th>고령자비율</th>\n",
              "    </tr>\n",
              "    <tr>\n",
              "      <th>구별</th>\n",
              "      <th></th>\n",
              "      <th></th>\n",
              "      <th></th>\n",
              "      <th></th>\n",
              "      <th></th>\n",
              "      <th></th>\n",
              "      <th></th>\n",
              "      <th></th>\n",
              "    </tr>\n",
              "  </thead>\n",
              "  <tbody>\n",
              "    <tr>\n",
              "      <th>강남구</th>\n",
              "      <td>3238</td>\n",
              "      <td>1549.281734</td>\n",
              "      <td>547453</td>\n",
              "      <td>542364</td>\n",
              "      <td>5089</td>\n",
              "      <td>67085</td>\n",
              "      <td>0.929578</td>\n",
              "      <td>12.254020</td>\n",
              "    </tr>\n",
              "    <tr>\n",
              "      <th>양천구</th>\n",
              "      <td>2482</td>\n",
              "      <td>504.704829</td>\n",
              "      <td>468145</td>\n",
              "      <td>464185</td>\n",
              "      <td>3960</td>\n",
              "      <td>58045</td>\n",
              "      <td>0.845892</td>\n",
              "      <td>12.398936</td>\n",
              "    </tr>\n",
              "    <tr>\n",
              "      <th>서초구</th>\n",
              "      <td>2297</td>\n",
              "      <td>745.166430</td>\n",
              "      <td>438163</td>\n",
              "      <td>433951</td>\n",
              "      <td>4212</td>\n",
              "      <td>54751</td>\n",
              "      <td>0.961286</td>\n",
              "      <td>12.495578</td>\n",
              "    </tr>\n",
              "    <tr>\n",
              "      <th>관악구</th>\n",
              "      <td>2109</td>\n",
              "      <td>1033.732861</td>\n",
              "      <td>520040</td>\n",
              "      <td>501957</td>\n",
              "      <td>18083</td>\n",
              "      <td>72249</td>\n",
              "      <td>3.477233</td>\n",
              "      <td>13.892970</td>\n",
              "    </tr>\n",
              "    <tr>\n",
              "      <th>은평구</th>\n",
              "      <td>2108</td>\n",
              "      <td>765.683656</td>\n",
              "      <td>487666</td>\n",
              "      <td>483197</td>\n",
              "      <td>4469</td>\n",
              "      <td>77420</td>\n",
              "      <td>0.916406</td>\n",
              "      <td>15.875620</td>\n",
              "    </tr>\n",
              "  </tbody>\n",
              "</table>\n",
              "</div>"
            ],
            "text/plain": [
              "       소계        최근증가율     인구수     한국인    외국인    고령자     외국인비율      고령자비율\n",
              "구별                                                                       \n",
              "강남구  3238  1549.281734  547453  542364   5089  67085  0.929578  12.254020\n",
              "양천구  2482   504.704829  468145  464185   3960  58045  0.845892  12.398936\n",
              "서초구  2297   745.166430  438163  433951   4212  54751  0.961286  12.495578\n",
              "관악구  2109  1033.732861  520040  501957  18083  72249  3.477233  13.892970\n",
              "은평구  2108   765.683656  487666  483197   4469  77420  0.916406  15.875620"
            ]
          },
          "metadata": {
            "tags": []
          },
          "execution_count": 83
        }
      ]
    },
    {
      "cell_type": "code",
      "metadata": {
        "id": "U71cb2nt3uFl",
        "colab_type": "code",
        "outputId": "b780c59b-a0ce-410f-df02-7aa3446c3a4e",
        "colab": {
          "base_uri": "https://localhost:8080/",
          "height": 235
        }
      },
      "source": [
        "data_result.sort_values(by='인구수', ascending=False).head(5)"
      ],
      "execution_count": 84,
      "outputs": [
        {
          "output_type": "execute_result",
          "data": {
            "text/html": [
              "<div>\n",
              "<style scoped>\n",
              "    .dataframe tbody tr th:only-of-type {\n",
              "        vertical-align: middle;\n",
              "    }\n",
              "\n",
              "    .dataframe tbody tr th {\n",
              "        vertical-align: top;\n",
              "    }\n",
              "\n",
              "    .dataframe thead th {\n",
              "        text-align: right;\n",
              "    }\n",
              "</style>\n",
              "<table border=\"1\" class=\"dataframe\">\n",
              "  <thead>\n",
              "    <tr style=\"text-align: right;\">\n",
              "      <th></th>\n",
              "      <th>소계</th>\n",
              "      <th>최근증가율</th>\n",
              "      <th>인구수</th>\n",
              "      <th>한국인</th>\n",
              "      <th>외국인</th>\n",
              "      <th>고령자</th>\n",
              "      <th>외국인비율</th>\n",
              "      <th>고령자비율</th>\n",
              "    </tr>\n",
              "    <tr>\n",
              "      <th>구별</th>\n",
              "      <th></th>\n",
              "      <th></th>\n",
              "      <th></th>\n",
              "      <th></th>\n",
              "      <th></th>\n",
              "      <th></th>\n",
              "      <th></th>\n",
              "      <th></th>\n",
              "    </tr>\n",
              "  </thead>\n",
              "  <tbody>\n",
              "    <tr>\n",
              "      <th>송파구</th>\n",
              "      <td>1081</td>\n",
              "      <td>534.969754</td>\n",
              "      <td>673507</td>\n",
              "      <td>666635</td>\n",
              "      <td>6872</td>\n",
              "      <td>81364</td>\n",
              "      <td>1.020331</td>\n",
              "      <td>12.080647</td>\n",
              "    </tr>\n",
              "    <tr>\n",
              "      <th>강서구</th>\n",
              "      <td>911</td>\n",
              "      <td>331.494845</td>\n",
              "      <td>603611</td>\n",
              "      <td>596949</td>\n",
              "      <td>6662</td>\n",
              "      <td>79660</td>\n",
              "      <td>1.103691</td>\n",
              "      <td>13.197241</td>\n",
              "    </tr>\n",
              "    <tr>\n",
              "      <th>노원구</th>\n",
              "      <td>1566</td>\n",
              "      <td>977.516605</td>\n",
              "      <td>548160</td>\n",
              "      <td>543752</td>\n",
              "      <td>4408</td>\n",
              "      <td>77096</td>\n",
              "      <td>0.804145</td>\n",
              "      <td>14.064507</td>\n",
              "    </tr>\n",
              "    <tr>\n",
              "      <th>강남구</th>\n",
              "      <td>3238</td>\n",
              "      <td>1549.281734</td>\n",
              "      <td>547453</td>\n",
              "      <td>542364</td>\n",
              "      <td>5089</td>\n",
              "      <td>67085</td>\n",
              "      <td>0.929578</td>\n",
              "      <td>12.254020</td>\n",
              "    </tr>\n",
              "    <tr>\n",
              "      <th>관악구</th>\n",
              "      <td>2109</td>\n",
              "      <td>1033.732861</td>\n",
              "      <td>520040</td>\n",
              "      <td>501957</td>\n",
              "      <td>18083</td>\n",
              "      <td>72249</td>\n",
              "      <td>3.477233</td>\n",
              "      <td>13.892970</td>\n",
              "    </tr>\n",
              "  </tbody>\n",
              "</table>\n",
              "</div>"
            ],
            "text/plain": [
              "       소계        최근증가율     인구수     한국인    외국인    고령자     외국인비율      고령자비율\n",
              "구별                                                                       \n",
              "송파구  1081   534.969754  673507  666635   6872  81364  1.020331  12.080647\n",
              "강서구   911   331.494845  603611  596949   6662  79660  1.103691  13.197241\n",
              "노원구  1566   977.516605  548160  543752   4408  77096  0.804145  14.064507\n",
              "강남구  3238  1549.281734  547453  542364   5089  67085  0.929578  12.254020\n",
              "관악구  2109  1033.732861  520040  501957  18083  72249  3.477233  13.892970"
            ]
          },
          "metadata": {
            "tags": []
          },
          "execution_count": 84
        }
      ]
    },
    {
      "cell_type": "code",
      "metadata": {
        "id": "yqp7c6KC36Qk",
        "colab_type": "code",
        "colab": {}
      },
      "source": [
        "# 위에 보듯이 CCTV가 많이 설치된 구와 인구수가 많은 구를 시각적으로 비교"
      ],
      "execution_count": 0,
      "outputs": []
    },
    {
      "cell_type": "code",
      "metadata": {
        "id": "xpO0utof-Oj_",
        "colab_type": "code",
        "outputId": "40e00aaf-fedd-4a4f-9b28-0697f7681510",
        "colab": {
          "base_uri": "https://localhost:8080/",
          "height": 235
        }
      },
      "source": [
        "data_result.head()"
      ],
      "execution_count": 86,
      "outputs": [
        {
          "output_type": "execute_result",
          "data": {
            "text/html": [
              "<div>\n",
              "<style scoped>\n",
              "    .dataframe tbody tr th:only-of-type {\n",
              "        vertical-align: middle;\n",
              "    }\n",
              "\n",
              "    .dataframe tbody tr th {\n",
              "        vertical-align: top;\n",
              "    }\n",
              "\n",
              "    .dataframe thead th {\n",
              "        text-align: right;\n",
              "    }\n",
              "</style>\n",
              "<table border=\"1\" class=\"dataframe\">\n",
              "  <thead>\n",
              "    <tr style=\"text-align: right;\">\n",
              "      <th></th>\n",
              "      <th>소계</th>\n",
              "      <th>최근증가율</th>\n",
              "      <th>인구수</th>\n",
              "      <th>한국인</th>\n",
              "      <th>외국인</th>\n",
              "      <th>고령자</th>\n",
              "      <th>외국인비율</th>\n",
              "      <th>고령자비율</th>\n",
              "    </tr>\n",
              "    <tr>\n",
              "      <th>구별</th>\n",
              "      <th></th>\n",
              "      <th></th>\n",
              "      <th></th>\n",
              "      <th></th>\n",
              "      <th></th>\n",
              "      <th></th>\n",
              "      <th></th>\n",
              "      <th></th>\n",
              "    </tr>\n",
              "  </thead>\n",
              "  <tbody>\n",
              "    <tr>\n",
              "      <th>강남구</th>\n",
              "      <td>3238</td>\n",
              "      <td>1549.281734</td>\n",
              "      <td>547453</td>\n",
              "      <td>542364</td>\n",
              "      <td>5089</td>\n",
              "      <td>67085</td>\n",
              "      <td>0.929578</td>\n",
              "      <td>12.254020</td>\n",
              "    </tr>\n",
              "    <tr>\n",
              "      <th>강동구</th>\n",
              "      <td>1010</td>\n",
              "      <td>558.121372</td>\n",
              "      <td>431920</td>\n",
              "      <td>427573</td>\n",
              "      <td>4347</td>\n",
              "      <td>58770</td>\n",
              "      <td>1.006436</td>\n",
              "      <td>13.606686</td>\n",
              "    </tr>\n",
              "    <tr>\n",
              "      <th>강북구</th>\n",
              "      <td>831</td>\n",
              "      <td>374.520325</td>\n",
              "      <td>322915</td>\n",
              "      <td>319164</td>\n",
              "      <td>3751</td>\n",
              "      <td>58196</td>\n",
              "      <td>1.161606</td>\n",
              "      <td>18.022080</td>\n",
              "    </tr>\n",
              "    <tr>\n",
              "      <th>강서구</th>\n",
              "      <td>911</td>\n",
              "      <td>331.494845</td>\n",
              "      <td>603611</td>\n",
              "      <td>596949</td>\n",
              "      <td>6662</td>\n",
              "      <td>79660</td>\n",
              "      <td>1.103691</td>\n",
              "      <td>13.197241</td>\n",
              "    </tr>\n",
              "    <tr>\n",
              "      <th>관악구</th>\n",
              "      <td>2109</td>\n",
              "      <td>1033.732861</td>\n",
              "      <td>520040</td>\n",
              "      <td>501957</td>\n",
              "      <td>18083</td>\n",
              "      <td>72249</td>\n",
              "      <td>3.477233</td>\n",
              "      <td>13.892970</td>\n",
              "    </tr>\n",
              "  </tbody>\n",
              "</table>\n",
              "</div>"
            ],
            "text/plain": [
              "       소계        최근증가율     인구수     한국인    외국인    고령자     외국인비율      고령자비율\n",
              "구별                                                                       \n",
              "강남구  3238  1549.281734  547453  542364   5089  67085  0.929578  12.254020\n",
              "강동구  1010   558.121372  431920  427573   4347  58770  1.006436  13.606686\n",
              "강북구   831   374.520325  322915  319164   3751  58196  1.161606  18.022080\n",
              "강서구   911   331.494845  603611  596949   6662  79660  1.103691  13.197241\n",
              "관악구  2109  1033.732861  520040  501957  18083  72249  3.477233  13.892970"
            ]
          },
          "metadata": {
            "tags": []
          },
          "execution_count": 86
        }
      ]
    },
    {
      "cell_type": "code",
      "metadata": {
        "id": "0v5YFSDy-QMI",
        "colab_type": "code",
        "colab": {}
      },
      "source": [
        "# 그래프를 그리는 모듈은 matplotlib.pyplot \n",
        "# 흔히 줄여서 plt\n",
        "# %matplotlib inline 명령어는 그래프의 결과를 출력 세션에 나타나게 하는 설정\n",
        "\n",
        "import matplotlib.pyplot as plt\n",
        "import matplotlib.font_manager as fm  # 폰트 관련 용도\n",
        "%matplotlib inline\n"
      ],
      "execution_count": 0,
      "outputs": []
    },
    {
      "cell_type": "code",
      "metadata": {
        "id": "GL4wN9DD-iFT",
        "colab_type": "code",
        "outputId": "f2cc95f3-e538-4d21-bea8-48a5173ea7f3",
        "colab": {
          "base_uri": "https://localhost:8080/",
          "height": 88
        }
      },
      "source": [
        "# matplotlib 한글을 지원하지 않기 떄문에 아래를 참고함\n",
        "# https://colab.research.google.com/github/nicewook/datascience_exercise/blob/master/korean_font_on_matplotlib.ipynb#scrollTo=uOjYIs0z1tlk\n",
        "\n",
        "\n",
        "sys_font=fm.findSystemFonts()\n",
        "print(f\"sys_font number: {len(sys_font)}\")\n",
        "print(sys_font)\n",
        "\n",
        "nanum_font = [f for f in sys_font if 'Nanum' in f]\n",
        "print(f\"nanum_font number: {len(nanum_font)}\")"
      ],
      "execution_count": 88,
      "outputs": [
        {
          "output_type": "stream",
          "text": [
            "sys_font number: 47\n",
            "['/usr/share/fonts/truetype/nanum/NanumBarunGothic.ttf', '/usr/share/fonts/truetype/nanum/NanumBrush.ttf', '/usr/share/fonts/truetype/nanum/NanumGothicEco.ttf', '/usr/share/fonts/truetype/nanum/NanumBarunGothicLight.ttf', '/usr/share/fonts/truetype/nanum/NanumBarunGothicBold.ttf', '/usr/share/fonts/truetype/liberation/LiberationSerif-Italic.ttf', '/usr/share/fonts/truetype/liberation/LiberationSans-BoldItalic.ttf', '/usr/share/fonts/truetype/nanum/NanumBarunGothicUltraLight.ttf', '/usr/share/fonts/truetype/nanum/NanumGothicLight.ttf', '/usr/share/fonts/truetype/liberation/LiberationSansNarrow-BoldItalic.ttf', '/usr/share/fonts/truetype/nanum/NanumMyeongjoEco.ttf', '/usr/share/fonts/truetype/nanum/NanumGothicBold.ttf', '/usr/share/fonts/truetype/nanum/NanumSquareEB.ttf', '/usr/share/fonts/truetype/nanum/NanumPen.ttf', '/usr/share/fonts/truetype/nanum/NanumSquareRoundEB.ttf', '/usr/share/fonts/truetype/liberation/LiberationSans-Italic.ttf', '/usr/share/fonts/truetype/nanum/NanumMyeongjoBold.ttf', '/usr/share/fonts/truetype/nanum/NanumSquareL.ttf', '/usr/share/fonts/truetype/nanum/NanumBarunpenB.ttf', '/usr/share/fonts/truetype/nanum/NanumGothic.ttf', '/usr/share/fonts/truetype/nanum/NanumGothicCoding-Bold.ttf', '/usr/share/fonts/truetype/liberation/LiberationSerif-BoldItalic.ttf', '/usr/share/fonts/truetype/nanum/NanumSquareRoundR.ttf', '/usr/share/fonts/truetype/nanum/NanumSquareR.ttf', '/usr/share/fonts/truetype/nanum/NanumMyeongjo.ttf', '/usr/share/fonts/truetype/liberation/LiberationSans-Regular.ttf', '/usr/share/fonts/truetype/nanum/NanumSquareB.ttf', '/usr/share/fonts/truetype/nanum/NanumGothicEcoExtraBold.ttf', '/usr/share/fonts/truetype/liberation/LiberationMono-Italic.ttf', '/usr/share/fonts/truetype/nanum/NanumGothicExtraBold.ttf', '/usr/share/fonts/truetype/liberation/LiberationMono-Regular.ttf', '/usr/share/fonts/truetype/liberation/LiberationSansNarrow-Bold.ttf', '/usr/share/fonts/truetype/nanum/NanumGothicCoding.ttf', '/usr/share/fonts/truetype/nanum/NanumMyeongjoEcoExtraBold.ttf', '/usr/share/fonts/truetype/nanum/NanumGothicEcoBold.ttf', '/usr/share/fonts/truetype/liberation/LiberationSerif-Bold.ttf', '/usr/share/fonts/truetype/nanum/NanumMyeongjoExtraBold.ttf', '/usr/share/fonts/truetype/liberation/LiberationSans-Bold.ttf', '/usr/share/fonts/truetype/liberation/LiberationMono-BoldItalic.ttf', '/usr/share/fonts/truetype/nanum/NanumBarunpenR.ttf', '/usr/share/fonts/truetype/liberation/LiberationSansNarrow-Regular.ttf', '/usr/share/fonts/truetype/nanum/NanumMyeongjoEcoBold.ttf', '/usr/share/fonts/truetype/liberation/LiberationSansNarrow-Italic.ttf', '/usr/share/fonts/truetype/liberation/LiberationMono-Bold.ttf', '/usr/share/fonts/truetype/nanum/NanumSquareRoundL.ttf', '/usr/share/fonts/truetype/liberation/LiberationSerif-Regular.ttf', '/usr/share/fonts/truetype/nanum/NanumSquareRoundB.ttf']\n",
            "nanum_font number: 31\n"
          ],
          "name": "stdout"
        }
      ]
    },
    {
      "cell_type": "code",
      "metadata": {
        "id": "zgNocPMv_N_P",
        "colab_type": "code",
        "colab": {}
      },
      "source": [
        "# 나눔 고딕 인스톨\n",
        "\n",
        "!apt-get update -qq\n",
        "!apt-get install fonts-nanum* -qq"
      ],
      "execution_count": 0,
      "outputs": []
    },
    {
      "cell_type": "code",
      "metadata": {
        "id": "RLlbcaV2_aCp",
        "colab_type": "code",
        "outputId": "615fb646-bd89-43bc-bea9-f9e891911422",
        "colab": {
          "base_uri": "https://localhost:8080/",
          "height": 51
        }
      },
      "source": [
        "# 체크해보면 폰트 개수가 늘어났다\n",
        "sys_font=fm.findSystemFonts()\n",
        "print(f\"sys_font number: {len(sys_font)}\")\n",
        "\n",
        "nanum_font = [f for f in sys_font if 'Nanum' in f]\n",
        "print(f\"nanum_font number: {len(nanum_font)}\")"
      ],
      "execution_count": 90,
      "outputs": [
        {
          "output_type": "stream",
          "text": [
            "sys_font number: 47\n",
            "nanum_font number: 31\n"
          ],
          "name": "stdout"
        }
      ]
    },
    {
      "cell_type": "code",
      "metadata": {
        "id": "QyKr9Fag_euW",
        "colab_type": "code",
        "outputId": "e2ea5cb8-c5e5-4ec1-e034-5ea71c850a05",
        "colab": {
          "base_uri": "https://localhost:8080/",
          "height": 544
        }
      },
      "source": [
        "# 한번 프린트 해보자\n",
        "nanum_font"
      ],
      "execution_count": 91,
      "outputs": [
        {
          "output_type": "execute_result",
          "data": {
            "text/plain": [
              "['/usr/share/fonts/truetype/nanum/NanumBarunGothic.ttf',\n",
              " '/usr/share/fonts/truetype/nanum/NanumBrush.ttf',\n",
              " '/usr/share/fonts/truetype/nanum/NanumGothicEco.ttf',\n",
              " '/usr/share/fonts/truetype/nanum/NanumBarunGothicLight.ttf',\n",
              " '/usr/share/fonts/truetype/nanum/NanumBarunGothicBold.ttf',\n",
              " '/usr/share/fonts/truetype/nanum/NanumBarunGothicUltraLight.ttf',\n",
              " '/usr/share/fonts/truetype/nanum/NanumGothicLight.ttf',\n",
              " '/usr/share/fonts/truetype/nanum/NanumMyeongjoEco.ttf',\n",
              " '/usr/share/fonts/truetype/nanum/NanumGothicBold.ttf',\n",
              " '/usr/share/fonts/truetype/nanum/NanumSquareEB.ttf',\n",
              " '/usr/share/fonts/truetype/nanum/NanumPen.ttf',\n",
              " '/usr/share/fonts/truetype/nanum/NanumSquareRoundEB.ttf',\n",
              " '/usr/share/fonts/truetype/nanum/NanumMyeongjoBold.ttf',\n",
              " '/usr/share/fonts/truetype/nanum/NanumSquareL.ttf',\n",
              " '/usr/share/fonts/truetype/nanum/NanumBarunpenB.ttf',\n",
              " '/usr/share/fonts/truetype/nanum/NanumGothic.ttf',\n",
              " '/usr/share/fonts/truetype/nanum/NanumGothicCoding-Bold.ttf',\n",
              " '/usr/share/fonts/truetype/nanum/NanumSquareRoundR.ttf',\n",
              " '/usr/share/fonts/truetype/nanum/NanumSquareR.ttf',\n",
              " '/usr/share/fonts/truetype/nanum/NanumMyeongjo.ttf',\n",
              " '/usr/share/fonts/truetype/nanum/NanumSquareB.ttf',\n",
              " '/usr/share/fonts/truetype/nanum/NanumGothicEcoExtraBold.ttf',\n",
              " '/usr/share/fonts/truetype/nanum/NanumGothicExtraBold.ttf',\n",
              " '/usr/share/fonts/truetype/nanum/NanumGothicCoding.ttf',\n",
              " '/usr/share/fonts/truetype/nanum/NanumMyeongjoEcoExtraBold.ttf',\n",
              " '/usr/share/fonts/truetype/nanum/NanumGothicEcoBold.ttf',\n",
              " '/usr/share/fonts/truetype/nanum/NanumMyeongjoExtraBold.ttf',\n",
              " '/usr/share/fonts/truetype/nanum/NanumBarunpenR.ttf',\n",
              " '/usr/share/fonts/truetype/nanum/NanumMyeongjoEcoBold.ttf',\n",
              " '/usr/share/fonts/truetype/nanum/NanumSquareRoundL.ttf',\n",
              " '/usr/share/fonts/truetype/nanum/NanumSquareRoundB.ttf']"
            ]
          },
          "metadata": {
            "tags": []
          },
          "execution_count": 91
        }
      ]
    },
    {
      "cell_type": "code",
      "metadata": {
        "id": "TFoqn67z_e2B",
        "colab_type": "code",
        "outputId": "50344973-ec1f-4720-9156-c44bb6496e56",
        "colab": {
          "base_uri": "https://localhost:8080/",
          "height": 68
        }
      },
      "source": [
        "# 현재 설정되어 있는 폰트 사이즈와 글꼴을 알아보자\n",
        "!python --version\n",
        "def current_font():\n",
        "  print(f\"설정 폰트 글꼴: {plt.rcParams['font.family']}, 설정 폰트 사이즈: {plt.rcParams['font.size']}\")  # 파이썬 3.6 이상 사용가능하다\n",
        "        \n",
        "current_font()"
      ],
      "execution_count": 92,
      "outputs": [
        {
          "output_type": "stream",
          "text": [
            "설정 폰트 글꼴: ['sans-serif'], 설정 폰트 사이즈: 10.0\n",
            "Python 3.6.7\n",
            "설정 폰트 글꼴: ['NanumMyeongjo'], 설정 폰트 사이즈: 10.0\n"
          ],
          "name": "stdout"
        }
      ]
    },
    {
      "cell_type": "code",
      "metadata": {
        "id": "rmo9X3m8_e81",
        "colab_type": "code",
        "outputId": "a5e27a58-fa72-4100-e696-bd21b75af999",
        "colab": {
          "base_uri": "https://localhost:8080/",
          "height": 51
        }
      },
      "source": [
        "path = '/usr/share/fonts/truetype/nanum/NanumMyeongjoBold.ttf'  # 설치된 나눔글꼴중 원하는 녀석의 전체 경로를 가져오자\n",
        "font_name = fm.FontProperties(fname=path, size=10).get_name()\n",
        "print(font_name)\n",
        "plt.rc('font', family=font_name)"
      ],
      "execution_count": 93,
      "outputs": [
        {
          "output_type": "stream",
          "text": [
            "NanumMyeongjo\n",
            "NanumMyeongjo\n"
          ],
          "name": "stdout"
        }
      ]
    },
    {
      "cell_type": "code",
      "metadata": {
        "id": "q29SCn9e_o38",
        "colab_type": "code",
        "colab": {}
      },
      "source": [
        "# 우선 fm._rebuild() 를 해주고\n",
        "# fm._rebuild() 를 해줘야 system 에 추가 설치된 폰트를 matplotilb.font_manager 가 알아차리는 것으로 보인다.\n",
        "fm._rebuild()"
      ],
      "execution_count": 0,
      "outputs": []
    },
    {
      "cell_type": "code",
      "metadata": {
        "id": "moLVjLgH-WVZ",
        "colab_type": "code",
        "outputId": "82dd876e-77f1-40e3-c880-7bc072fa072b",
        "colab": {
          "base_uri": "https://localhost:8080/",
          "height": 1173
        }
      },
      "source": [
        "# kind=barh로 지정해서 수평바로 그리도록 함\n",
        "# grid=True로 grid 그림\n",
        "\n",
        "data_result['소계'].plot(kind='barh', grid=True, figsize=(10,10))\n",
        "plt.show()"
      ],
      "execution_count": 95,
      "outputs": [
        {
          "output_type": "display_data",
          "data": {
            "image/png": "[encoded data removed]",
            "text/plain": [
              "<Figure size 720x720 with 1 Axes>"
            ]
          },
          "metadata": {
            "tags": []
          }
        },
        {
          "output_type": "display_data",
          "data": {
            "image/png": "[encoded data removed]",
            "text/plain": [
              "<Figure size 720x720 with 1 Axes>"
            ]
          },
          "metadata": {
            "tags": []
          }
        }
      ]
    },
    {
      "cell_type": "code",
      "metadata": {
        "id": "wJ9lpkYE-dge",
        "colab_type": "code",
        "outputId": "ce24eb90-e447-4f01-fc1b-79219b20b766",
        "colab": {
          "base_uri": "https://localhost:8080/",
          "height": 1173
        }
      },
      "source": [
        "# CCTV 갯수로 정렬\n",
        "\n",
        "data_result['소계'].sort_values().plot(kind='barh', grid=True, figsize=(10,10))\n",
        "plt.show()"
      ],
      "execution_count": 96,
      "outputs": [
        {
          "output_type": "display_data",
          "data": {
            "image/png": "[encoded data removed]",
            "text/plain": [
              "<Figure size 720x720 with 1 Axes>"
            ]
          },
          "metadata": {
            "tags": []
          }
        },
        {
          "output_type": "display_data",
          "data": {
            "image/png": "[encoded data removed]",
            "text/plain": [
              "<Figure size 720x720 with 1 Axes>"
            ]
          },
          "metadata": {
            "tags": []
          }
        }
      ]
    },
    {
      "cell_type": "code",
      "metadata": {
        "id": "dG-zdzeJBOcK",
        "colab_type": "code",
        "colab": {
          "base_uri": "https://localhost:8080/",
          "height": 595
        },
        "outputId": "27df0697-7b90-492b-d1f4-43085b2ccd14"
      },
      "source": [
        "# 인구 대비 CCTV 비율을 계산해서 정렬하고 그려보겠습니다\n",
        "\n",
        "data_result['CCTV비율'] = data_result['소계'] / data_result['인구수'] * 100\n",
        "data_result['CCTV비율'].sort_values().plot(kind='barh', grid=True, figsize=(10,10))\n",
        "\n",
        "plt.show()"
      ],
      "execution_count": 98,
      "outputs": [
        {
          "output_type": "display_data",
          "data": {
            "image/png": "[encoded data removed]",
            "text/plain": [
              "<Figure size 720x720 with 1 Axes>"
            ]
          },
          "metadata": {
            "tags": []
          }
        }
      ]
    },
    {
      "cell_type": "code",
      "metadata": {
        "id": "UJMjddGCnviQ",
        "colab_type": "code",
        "colab": {}
      },
      "source": [
        "# 인구 대비 CCTV수는 종로구 > 용산구 > 중구 > 강남구 순 (종로구가 월등히 높음)\n"
      ],
      "execution_count": 0,
      "outputs": []
    },
    {
      "cell_type": "code",
      "metadata": {
        "id": "p_n2M1_Ao-89",
        "colab_type": "code",
        "colab": {
          "base_uri": "https://localhost:8080/",
          "height": 392
        },
        "outputId": "61e8588a-c2a6-4d45-aa17-7adc5046f76e"
      },
      "source": [
        "# scatter 함수 사용\n",
        "# s=50로 마커의 크기를 잡고 그림\n",
        "\n",
        "plt.figure(figsize=(6,6))\n",
        "plt.scatter(data_result['인구수'], data_result['소계'], s=50)\n",
        "plt.xlabel('인구수')                       \n",
        "plt.ylabel('CCTV')\n",
        "plt.grid()\n",
        "plt.show()"
      ],
      "execution_count": 99,
      "outputs": [
        {
          "output_type": "display_data",
          "data": {
            "image/png": "[encoded data removed]",
            "text/plain": [
              "<Figure size 432x432 with 1 Axes>"
            ]
          },
          "metadata": {
            "tags": []
          }
        }
      ]
    },
    {
      "cell_type": "code",
      "metadata": {
        "id": "1ps6hyucpXW3",
        "colab_type": "code",
        "colab": {
          "base_uri": "https://localhost:8080/",
          "height": 34
        },
        "outputId": "d22cfe09-77a6-4c66-96de-2b04e97c7e85"
      },
      "source": [
        "# 위 데이터를 대표하는 직선을 그림\n",
        "# CCTV와 인구수는 양의 상관관계가 있다고 처음부터 가정함\n",
        "# numpy의 polyfit 명령으로 직선만듬\n",
        "\n",
        "fp1 = np.polyfit(data_result['인구수'], data_result['소계'], 1)\n",
        "fp1                        "
      ],
      "execution_count": 100,
      "outputs": [
        {
          "output_type": "execute_result",
          "data": {
            "text/plain": [
              "array([1.07336946e-03, 1.08384235e+03])"
            ]
          },
          "metadata": {
            "tags": []
          },
          "execution_count": 100
        }
      ]
    },
    {
      "cell_type": "code",
      "metadata": {
        "id": "10AFtW3hprms",
        "colab_type": "code",
        "colab": {}
      },
      "source": [
        "# x축과 y축 데이터를 x축 데이터는 numpy의 linespace로 만들고, y축 데이터는 poly1d로 만듬\n",
        "\n",
        "f1 = np.poly1d(fp1)\n",
        "fx = np.linspace(100000, 700000, 100)"
      ],
      "execution_count": 0,
      "outputs": []
    },
    {
      "cell_type": "code",
      "metadata": {
        "id": "ik8HMYMvqPJj",
        "colab_type": "code",
        "colab": {
          "base_uri": "https://localhost:8080/",
          "height": 609
        },
        "outputId": "d06ef4d9-03f1-416a-e887-6ce3d1edf52c"
      },
      "source": [
        "plt.figure(figsize=(10,10))\n",
        "plt.scatter(data_result['인구수'], data_result['소계'], s=50)\n",
        "plt.plot(fx, f1(fx), ls='dashed', lw=3, color='g')\n",
        "plt.xlabel('인구수')\n",
        "plt.ylabel('CCTV')\n",
        "plt.grid()\n",
        "plt.show()"
      ],
      "execution_count": 102,
      "outputs": [
        {
          "output_type": "display_data",
          "data": {
            "image/png": "[encoded data removed]",
            "text/plain": [
              "<Figure size 720x720 with 1 Axes>"
            ]
          },
          "metadata": {
            "tags": []
          }
        }
      ]
    },
    {
      "cell_type": "code",
      "metadata": {
        "id": "1mtNwcPkqnuE",
        "colab_type": "code",
        "colab": {
          "base_uri": "https://localhost:8080/",
          "height": 235
        },
        "outputId": "67c79578-cfa8-4612-9692-3a9447f05d5f"
      },
      "source": [
        "# 직선이 전체 데이터의 대표 값 역활을 한다면 \n",
        "# 1. 직선에서 멀리 있는 구 이름을 나타내고 싶음\n",
        "# 2. 직선에서 멀어질 수록 다른 색을 나타내도록 하고 싶음.\n",
        "# 그래서 오차를 계산 할 수 있는 코드로 만들고 오차가 큰 순으로 데이터를 정렬해서 다시 저장\n",
        "\n",
        "fp1 = np.polyfit(data_result['인구수'], data_result['소계'],1)\n",
        "\n",
        "f1 = np.poly1d(fp1)\n",
        "fx = np.linspace(100000, 700000, 100)\n",
        "\n",
        "data_result['오차'] = np.abs(data_result['소계'] - f1(data_result['인구수']))\n",
        "\n",
        "df_sort = data_result.sort_values(by='오차', ascending=False)\n",
        "df_sort.head()"
      ],
      "execution_count": 125,
      "outputs": [
        {
          "output_type": "execute_result",
          "data": {
            "text/html": [
              "<div>\n",
              "<style scoped>\n",
              "    .dataframe tbody tr th:only-of-type {\n",
              "        vertical-align: middle;\n",
              "    }\n",
              "\n",
              "    .dataframe tbody tr th {\n",
              "        vertical-align: top;\n",
              "    }\n",
              "\n",
              "    .dataframe thead th {\n",
              "        text-align: right;\n",
              "    }\n",
              "</style>\n",
              "<table border=\"1\" class=\"dataframe\">\n",
              "  <thead>\n",
              "    <tr style=\"text-align: right;\">\n",
              "      <th></th>\n",
              "      <th>소계</th>\n",
              "      <th>최근증가율</th>\n",
              "      <th>인구수</th>\n",
              "      <th>한국인</th>\n",
              "      <th>외국인</th>\n",
              "      <th>고령자</th>\n",
              "      <th>외국인비율</th>\n",
              "      <th>고령자비율</th>\n",
              "      <th>CCTV비율</th>\n",
              "      <th>오차</th>\n",
              "    </tr>\n",
              "    <tr>\n",
              "      <th>구별</th>\n",
              "      <th></th>\n",
              "      <th></th>\n",
              "      <th></th>\n",
              "      <th></th>\n",
              "      <th></th>\n",
              "      <th></th>\n",
              "      <th></th>\n",
              "      <th></th>\n",
              "      <th></th>\n",
              "      <th></th>\n",
              "    </tr>\n",
              "  </thead>\n",
              "  <tbody>\n",
              "    <tr>\n",
              "      <th>강남구</th>\n",
              "      <td>3238</td>\n",
              "      <td>1549.281734</td>\n",
              "      <td>547453</td>\n",
              "      <td>542364</td>\n",
              "      <td>5089</td>\n",
              "      <td>67085</td>\n",
              "      <td>0.929578</td>\n",
              "      <td>12.254020</td>\n",
              "      <td>0.591466</td>\n",
              "      <td>1566.538319</td>\n",
              "    </tr>\n",
              "    <tr>\n",
              "      <th>양천구</th>\n",
              "      <td>2482</td>\n",
              "      <td>504.704829</td>\n",
              "      <td>468145</td>\n",
              "      <td>464185</td>\n",
              "      <td>3960</td>\n",
              "      <td>58045</td>\n",
              "      <td>0.845892</td>\n",
              "      <td>12.398936</td>\n",
              "      <td>0.530178</td>\n",
              "      <td>895.665104</td>\n",
              "    </tr>\n",
              "    <tr>\n",
              "      <th>강서구</th>\n",
              "      <td>911</td>\n",
              "      <td>331.494845</td>\n",
              "      <td>603611</td>\n",
              "      <td>596949</td>\n",
              "      <td>6662</td>\n",
              "      <td>79660</td>\n",
              "      <td>1.103691</td>\n",
              "      <td>13.197241</td>\n",
              "      <td>0.150925</td>\n",
              "      <td>820.739963</td>\n",
              "    </tr>\n",
              "    <tr>\n",
              "      <th>용산구</th>\n",
              "      <td>2096</td>\n",
              "      <td>525.935673</td>\n",
              "      <td>245090</td>\n",
              "      <td>228999</td>\n",
              "      <td>16091</td>\n",
              "      <td>37640</td>\n",
              "      <td>6.565343</td>\n",
              "      <td>15.357624</td>\n",
              "      <td>0.855196</td>\n",
              "      <td>749.085528</td>\n",
              "    </tr>\n",
              "    <tr>\n",
              "      <th>서초구</th>\n",
              "      <td>2297</td>\n",
              "      <td>745.166430</td>\n",
              "      <td>438163</td>\n",
              "      <td>433951</td>\n",
              "      <td>4212</td>\n",
              "      <td>54751</td>\n",
              "      <td>0.961286</td>\n",
              "      <td>12.495578</td>\n",
              "      <td>0.524234</td>\n",
              "      <td>742.846867</td>\n",
              "    </tr>\n",
              "  </tbody>\n",
              "</table>\n",
              "</div>"
            ],
            "text/plain": [
              "       소계        최근증가율     인구수     한국인    외국인    고령자     외국인비율      고령자비율  \\\n",
              "구별                                                                          \n",
              "강남구  3238  1549.281734  547453  542364   5089  67085  0.929578  12.254020   \n",
              "양천구  2482   504.704829  468145  464185   3960  58045  0.845892  12.398936   \n",
              "강서구   911   331.494845  603611  596949   6662  79660  1.103691  13.197241   \n",
              "용산구  2096   525.935673  245090  228999  16091  37640  6.565343  15.357624   \n",
              "서초구  2297   745.166430  438163  433951   4212  54751  0.961286  12.495578   \n",
              "\n",
              "       CCTV비율           오차  \n",
              "구별                          \n",
              "강남구  0.591466  1566.538319  \n",
              "양천구  0.530178   895.665104  \n",
              "강서구  0.150925   820.739963  \n",
              "용산구  0.855196   749.085528  \n",
              "서초구  0.524234   742.846867  "
            ]
          },
          "metadata": {
            "tags": []
          },
          "execution_count": 125
        }
      ]
    },
    {
      "cell_type": "code",
      "metadata": {
        "id": "CnvMuX6urtRz",
        "colab_type": "code",
        "colab": {
          "base_uri": "https://localhost:8080/",
          "height": 609
        },
        "outputId": "e13e5aaa-7efa-4594-92ec-557159f3301a"
      },
      "source": [
        "# 이제 텍스트와 color map을 입힘\n",
        "\n",
        "plt.figure(figsize=(14,10))\n",
        "plt.scatter(data_result['인구수'], data_result['소계'],\n",
        "            c=data_result['오차'], s=50)\n",
        "plt.plot(fx, f1(fx), ls='dashed', lw=3, color='g')\n",
        "\n",
        "for n in range(10):\n",
        "  \n",
        "  plt.text(df_sort['인구수'][n]*1.02, df_sort['소계'][n]*0.98,\n",
        "           df_sort.index[n], fontsize=15)\n",
        " \n",
        "plt.xlabel('인구수')\n",
        "plt.ylabel('인구당비율')\n",
        "\n",
        "plt.colorbar()\n",
        "plt.grid()\n",
        "plt.show()\n",
        "                      "
      ],
      "execution_count": 126,
      "outputs": [
        {
          "output_type": "display_data",
          "data": {
            "image/png": "[encoded data removed]",
            "text/plain": [
              "<Figure size 1008x720 with 2 Axes>"
            ]
          },
          "metadata": {
            "tags": []
          }
        }
      ]
    },
    {
      "cell_type": "code",
      "metadata": {
        "id": "zNKijeCXs5qW",
        "colab_type": "code",
        "colab": {}
      },
      "source": [
        "# 위에 있는 강남구, 양천구, 서초구, 용산구는 서울시 전체 지역의 일반적인 경향보다 CCTV가 많이 섷치된 지역\n",
        "# 송파구, 강서구, 중랑구, 광진구, 도봉구, 강북구는 일반적인 경향보다 적게 설치된 지역"
      ],
      "execution_count": 0,
      "outputs": []
    }
  ]
}